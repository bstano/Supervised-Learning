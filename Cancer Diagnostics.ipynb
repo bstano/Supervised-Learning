{
 "cells": [
  {
   "cell_type": "code",
   "execution_count": 137,
   "metadata": {},
   "outputs": [],
   "source": [
    "import pandas as pd\n",
    "import numpy as np\n",
    "import scipy\n",
    "import matplotlib.pyplot as plt\n",
    "from sklearn import preprocessing\n",
    "from sklearn import ensemble\n",
    "from sklearn import linear_model\n",
    "from sklearn.neighbors import KNeighborsClassifier\n",
    "from sklearn.svm import SVC\n",
    "\n",
    "from sklearn.model_selection import cross_val_score\n",
    "from sklearn.metrics import confusion_matrix\n",
    "%matplotlib inline"
   ]
  },
  {
   "cell_type": "markdown",
   "metadata": {},
   "source": [
    "## Model Cancer Diagnosis\n",
    "\n",
    "I want to make a model that can predict a whether or not a tumor will be diagnosed as benign or malignant, based on certain measurements. Not only that, but I also want to better understand what measurement is most important when diagnosing a tumor.\n",
    "\n",
    "To do this, I will use data from the Wisconson Breat Cancer Research Association to train my model. The data contains measures on the tumors of 699 subjects and whether or not they were malignant."
   ]
  },
  {
   "cell_type": "code",
   "execution_count": 138,
   "metadata": {},
   "outputs": [
    {
     "data": {
      "text/html": [
       "<div>\n",
       "<style scoped>\n",
       "    .dataframe tbody tr th:only-of-type {\n",
       "        vertical-align: middle;\n",
       "    }\n",
       "\n",
       "    .dataframe tbody tr th {\n",
       "        vertical-align: top;\n",
       "    }\n",
       "\n",
       "    .dataframe thead th {\n",
       "        text-align: right;\n",
       "    }\n",
       "</style>\n",
       "<table border=\"1\" class=\"dataframe\">\n",
       "  <thead>\n",
       "    <tr style=\"text-align: right;\">\n",
       "      <th></th>\n",
       "      <th>1000025</th>\n",
       "      <th>5</th>\n",
       "      <th>1</th>\n",
       "      <th>1.1</th>\n",
       "      <th>1.2</th>\n",
       "      <th>2</th>\n",
       "      <th>1.3</th>\n",
       "      <th>3</th>\n",
       "      <th>1.4</th>\n",
       "      <th>1.5</th>\n",
       "      <th>2.1</th>\n",
       "    </tr>\n",
       "  </thead>\n",
       "  <tbody>\n",
       "    <tr>\n",
       "      <th>0</th>\n",
       "      <td>1002945</td>\n",
       "      <td>5</td>\n",
       "      <td>4</td>\n",
       "      <td>4</td>\n",
       "      <td>5</td>\n",
       "      <td>7</td>\n",
       "      <td>10</td>\n",
       "      <td>3</td>\n",
       "      <td>2</td>\n",
       "      <td>1</td>\n",
       "      <td>2</td>\n",
       "    </tr>\n",
       "    <tr>\n",
       "      <th>1</th>\n",
       "      <td>1015425</td>\n",
       "      <td>3</td>\n",
       "      <td>1</td>\n",
       "      <td>1</td>\n",
       "      <td>1</td>\n",
       "      <td>2</td>\n",
       "      <td>2</td>\n",
       "      <td>3</td>\n",
       "      <td>1</td>\n",
       "      <td>1</td>\n",
       "      <td>2</td>\n",
       "    </tr>\n",
       "    <tr>\n",
       "      <th>2</th>\n",
       "      <td>1016277</td>\n",
       "      <td>6</td>\n",
       "      <td>8</td>\n",
       "      <td>8</td>\n",
       "      <td>1</td>\n",
       "      <td>3</td>\n",
       "      <td>4</td>\n",
       "      <td>3</td>\n",
       "      <td>7</td>\n",
       "      <td>1</td>\n",
       "      <td>2</td>\n",
       "    </tr>\n",
       "    <tr>\n",
       "      <th>3</th>\n",
       "      <td>1017023</td>\n",
       "      <td>4</td>\n",
       "      <td>1</td>\n",
       "      <td>1</td>\n",
       "      <td>3</td>\n",
       "      <td>2</td>\n",
       "      <td>1</td>\n",
       "      <td>3</td>\n",
       "      <td>1</td>\n",
       "      <td>1</td>\n",
       "      <td>2</td>\n",
       "    </tr>\n",
       "    <tr>\n",
       "      <th>4</th>\n",
       "      <td>1017122</td>\n",
       "      <td>8</td>\n",
       "      <td>10</td>\n",
       "      <td>10</td>\n",
       "      <td>8</td>\n",
       "      <td>7</td>\n",
       "      <td>10</td>\n",
       "      <td>9</td>\n",
       "      <td>7</td>\n",
       "      <td>1</td>\n",
       "      <td>4</td>\n",
       "    </tr>\n",
       "  </tbody>\n",
       "</table>\n",
       "</div>"
      ],
      "text/plain": [
       "   1000025  5   1  1.1  1.2  2 1.3  3  1.4  1.5  2.1\n",
       "0  1002945  5   4    4    5  7  10  3    2    1    2\n",
       "1  1015425  3   1    1    1  2   2  3    1    1    2\n",
       "2  1016277  6   8    8    1  3   4  3    7    1    2\n",
       "3  1017023  4   1    1    3  2   1  3    1    1    2\n",
       "4  1017122  8  10   10    8  7  10  9    7    1    4"
      ]
     },
     "metadata": {},
     "output_type": "display_data"
    },
    {
     "name": "stdout",
     "output_type": "stream",
     "text": [
      "(698, 11)\n"
     ]
    }
   ],
   "source": [
    "cancer = pd.read_csv('C:\\Code\\Data\\\\breast_cancer.csv')\n",
    "display(cancer.head())\n",
    "print(cancer.shape)"
   ]
  },
  {
   "cell_type": "markdown",
   "metadata": {},
   "source": [
    "The data apparently needs much cleaning, having what should be one of the rows as the column names. I will need to fix that.  Also, since my data should be all numeric, I want to make sure it has no nulls or non-numeric values before I model with it."
   ]
  },
  {
   "cell_type": "code",
   "execution_count": 139,
   "metadata": {},
   "outputs": [
    {
     "data": {
      "text/html": [
       "<div>\n",
       "<style scoped>\n",
       "    .dataframe tbody tr th:only-of-type {\n",
       "        vertical-align: middle;\n",
       "    }\n",
       "\n",
       "    .dataframe tbody tr th {\n",
       "        vertical-align: top;\n",
       "    }\n",
       "\n",
       "    .dataframe thead th {\n",
       "        text-align: right;\n",
       "    }\n",
       "</style>\n",
       "<table border=\"1\" class=\"dataframe\">\n",
       "  <thead>\n",
       "    <tr style=\"text-align: right;\">\n",
       "      <th></th>\n",
       "      <th>IDNum</th>\n",
       "      <th>Thickness</th>\n",
       "      <th>Size_Uniformity</th>\n",
       "      <th>Shape_Uniformity</th>\n",
       "      <th>Adhesion</th>\n",
       "      <th>Epithelial_Size</th>\n",
       "      <th>Bare_Nuclei</th>\n",
       "      <th>Chromatin</th>\n",
       "      <th>Normal_Nucleoli</th>\n",
       "      <th>Mitoses</th>\n",
       "      <th>Class</th>\n",
       "    </tr>\n",
       "  </thead>\n",
       "  <tbody>\n",
       "    <tr>\n",
       "      <th>0</th>\n",
       "      <td>1002945</td>\n",
       "      <td>5</td>\n",
       "      <td>4</td>\n",
       "      <td>4</td>\n",
       "      <td>5</td>\n",
       "      <td>7</td>\n",
       "      <td>10</td>\n",
       "      <td>3</td>\n",
       "      <td>2</td>\n",
       "      <td>1</td>\n",
       "      <td>2</td>\n",
       "    </tr>\n",
       "    <tr>\n",
       "      <th>1</th>\n",
       "      <td>1015425</td>\n",
       "      <td>3</td>\n",
       "      <td>1</td>\n",
       "      <td>1</td>\n",
       "      <td>1</td>\n",
       "      <td>2</td>\n",
       "      <td>2</td>\n",
       "      <td>3</td>\n",
       "      <td>1</td>\n",
       "      <td>1</td>\n",
       "      <td>2</td>\n",
       "    </tr>\n",
       "    <tr>\n",
       "      <th>2</th>\n",
       "      <td>1016277</td>\n",
       "      <td>6</td>\n",
       "      <td>8</td>\n",
       "      <td>8</td>\n",
       "      <td>1</td>\n",
       "      <td>3</td>\n",
       "      <td>4</td>\n",
       "      <td>3</td>\n",
       "      <td>7</td>\n",
       "      <td>1</td>\n",
       "      <td>2</td>\n",
       "    </tr>\n",
       "    <tr>\n",
       "      <th>3</th>\n",
       "      <td>1017023</td>\n",
       "      <td>4</td>\n",
       "      <td>1</td>\n",
       "      <td>1</td>\n",
       "      <td>3</td>\n",
       "      <td>2</td>\n",
       "      <td>1</td>\n",
       "      <td>3</td>\n",
       "      <td>1</td>\n",
       "      <td>1</td>\n",
       "      <td>2</td>\n",
       "    </tr>\n",
       "    <tr>\n",
       "      <th>4</th>\n",
       "      <td>1017122</td>\n",
       "      <td>8</td>\n",
       "      <td>10</td>\n",
       "      <td>10</td>\n",
       "      <td>8</td>\n",
       "      <td>7</td>\n",
       "      <td>10</td>\n",
       "      <td>9</td>\n",
       "      <td>7</td>\n",
       "      <td>1</td>\n",
       "      <td>4</td>\n",
       "    </tr>\n",
       "  </tbody>\n",
       "</table>\n",
       "</div>"
      ],
      "text/plain": [
       "     IDNum  Thickness  Size_Uniformity  Shape_Uniformity  Adhesion  \\\n",
       "0  1002945          5                4                 4         5   \n",
       "1  1015425          3                1                 1         1   \n",
       "2  1016277          6                8                 8         1   \n",
       "3  1017023          4                1                 1         3   \n",
       "4  1017122          8               10                10         8   \n",
       "\n",
       "   Epithelial_Size Bare_Nuclei  Chromatin  Normal_Nucleoli  Mitoses  Class  \n",
       "0                7          10          3                2        1      2  \n",
       "1                2           2          3                1        1      2  \n",
       "2                3           4          3                7        1      2  \n",
       "3                2           1          3                1        1      2  \n",
       "4                7          10          9                7        1      4  "
      ]
     },
     "metadata": {},
     "output_type": "display_data"
    }
   ],
   "source": [
    "# set old column to a placeholder to put it in as a new row\n",
    "newrow = cancer.columns\n",
    "# set dataframes columns to their proper names\n",
    "cancer.columns = ['IDNum','Thickness','Size_Uniformity','Shape_Uniformity','Adhesion','Epithelial_Size',\n",
    "                     'Bare_Nuclei','Chromatin','Normal_Nucleoli','Mitoses','Class']\n",
    "display(cancer.head())"
   ]
  },
  {
   "cell_type": "code",
   "execution_count": 140,
   "metadata": {},
   "outputs": [
    {
     "name": "stdout",
     "output_type": "stream",
     "text": [
      "Column(s) which could not be converted:  Bare_Nuclei\n"
     ]
    }
   ],
   "source": [
    "#attempt to convert all columns to float, if I cannot, print which row makes it impossible.\n",
    "for i in range(0,len(cancer.columns)):\n",
    "    try:\n",
    "        cancer.iloc[:,i].astype(float)\n",
    "    except:\n",
    "        print(\"Column(s) which could not be converted: \",cancer.columns[i])"
   ]
  },
  {
   "cell_type": "code",
   "execution_count": 141,
   "metadata": {},
   "outputs": [],
   "source": [
    "# make the class outcome variable between 0 and 1\n",
    "cancer.Class = np.where(cancer.Class==4,1,0)"
   ]
  },
  {
   "cell_type": "code",
   "execution_count": 142,
   "metadata": {},
   "outputs": [
    {
     "name": "stdout",
     "output_type": "stream",
     "text": [
      "1     401\n",
      "10    132\n",
      "2      30\n",
      "5      30\n",
      "3      28\n",
      "8      21\n",
      "4      19\n",
      "?      16\n",
      "9       9\n",
      "7       8\n",
      "6       4\n",
      "Name: Bare_Nuclei, dtype: int64\n"
     ]
    }
   ],
   "source": [
    "print(cancer['Bare_Nuclei'].value_counts())"
   ]
  },
  {
   "cell_type": "markdown",
   "metadata": {},
   "source": [
    "It seems the feature mislabeled 'Bare Nuclei', cannot be converted into a float type because it has many values marked with a '?', 16 in fact.  With how little data I have, I am hesitant to throw away any rows, but at the same time, I do not want to throw away any features, either.\n",
    "\n",
    "To make the best model I can, I will test how my model will function when I drop the problem data points to preserve the most features, versus when I drop the whole problem feature column, preserving the most data points."
   ]
  },
  {
   "cell_type": "markdown",
   "metadata": {},
   "source": [
    "# Making Two Modeling Sets\n",
    "\n",
    "I will make 2 versions of my data and test the accuracy of modeling both of them.  The first one will be called the 'dropped row' or 'dr' version of my data and the second will the called the 'dropped column' or 'dc' version of my data."
   ]
  },
  {
   "cell_type": "code",
   "execution_count": 148,
   "metadata": {},
   "outputs": [],
   "source": [
    "# make a list of the '?' instances in the 1.3 column\n",
    "null_index = cancer[cancer['Bare_Nuclei']=='?'].index\n",
    "null_index = list(null_index)\n",
    "# drop the problem indeces from the dr data\n",
    "cancer_dr = cancer.drop(null_index)\n",
    "cancer_dr['Bare_Nuclei'] = cancer_dr['Bare_Nuclei'].astype(float)\n",
    "\n",
    "# drop the problem feature from the dc data\n",
    "cancer_dc = cancer.drop('Bare_Nuclei',axis=1)"
   ]
  },
  {
   "cell_type": "code",
   "execution_count": 75,
   "metadata": {
    "scrolled": true
   },
   "outputs": [
    {
     "name": "stdout",
     "output_type": "stream",
     "text": [
      "Dropped Row Shape:\n",
      "(682, 11)\n",
      "\n",
      "Outcome Counts:\n",
      "0    443\n",
      "1    239\n",
      "Name: Class, dtype: int64\n",
      "\n",
      "Dropped Column Shape:\n",
      "(698, 10)\n",
      "\n",
      "Outcome Counts:\n",
      "0    457\n",
      "1    241\n",
      "Name: Class, dtype: int64\n"
     ]
    }
   ],
   "source": [
    "print('Dropped Row Shape:')\n",
    "print(cancer_dr.shape)\n",
    "print('\\nOutcome Counts:')\n",
    "print(cancer_dr['Class'].value_counts())\n",
    "print('\\nDropped Column Shape:')\n",
    "print(cancer_dc.shape)\n",
    "print('\\nOutcome Counts:')\n",
    "print(cancer_dc['Class'].value_counts())"
   ]
  },
  {
   "cell_type": "markdown",
   "metadata": {
    "scrolled": true
   },
   "source": [
    "So the dropped row data is now missing 16 of it's indeces, but it gets to keep a whole dimiension to its data. Complicating things, even though the dropped columns data got to keep slightly less data points as a whole, is has ended up with slightly more balanced outcome classes in the end It will be interesting to see which models better."
   ]
  },
  {
   "cell_type": "code",
   "execution_count": 76,
   "metadata": {},
   "outputs": [],
   "source": [
    "# create model variables for dr data\n",
    "X_dr = cancer_dr.drop(['IDNum','Class'], axis=1)\n",
    "Y_dr = cancer_dr.Class\n",
    "# create model variables for dc data\n",
    "X_dc = cancer_dc.drop(['IDNum','Class'], axis=1)\n",
    "Y_dc = cancer_dc.Class"
   ]
  },
  {
   "cell_type": "markdown",
   "metadata": {},
   "source": [
    "# Running Models\n",
    "\n",
    "Now that I have both my dropped column and dropped row dataset, I can begin modeling. As I do, I will compare both which model type performs best and which data type, dropped column or dropped row, preform best. \n",
    "\n",
    "I predeict dropped row will preform better, since it save the most 'boxes' of data thus keeping the most information, but it couldn't hurt to see."
   ]
  },
  {
   "cell_type": "code",
   "execution_count": 106,
   "metadata": {},
   "outputs": [],
   "source": [
    "# make score data frame to hold model records\n",
    "scores = pd.DataFrame()"
   ]
  },
  {
   "cell_type": "markdown",
   "metadata": {},
   "source": [
    "## Boosted Decision Trees"
   ]
  },
  {
   "cell_type": "code",
   "execution_count": 110,
   "metadata": {},
   "outputs": [],
   "source": [
    "# set boosted decision tree dropped row model\n",
    "bdt_dr = ensemble.GradientBoostingClassifier()\n",
    "\n",
    "bdt_dr.fit(X_dr,Y_dr)\n",
    "\n",
    "Y_predbdt_dr = bdt_dr.predict(X_dr)\n",
    "\n",
    "# set boosted decision tree dropped row model\n",
    "bdt_dc = ensemble.GradientBoostingClassifier()\n",
    "\n",
    "bdt_dc.fit(X_dc,Y_dc)\n",
    "\n",
    "Y_predbdt_dc = bdt_dc.predict(X_dc)"
   ]
  },
  {
   "cell_type": "code",
   "execution_count": 111,
   "metadata": {
    "scrolled": true
   },
   "outputs": [
    {
     "name": "stdout",
     "output_type": "stream",
     "text": [
      "Dropping Problem Rows\n",
      "\n",
      "Random Forest Error Score:\n",
      "1.0\n",
      "\n",
      "Cross Validation Score:\n",
      "0.96% +/- 0.03%\n",
      "\n",
      "Type II Error Percentage:\n",
      "0 %\n",
      "\n",
      "Confusion Matrix:\n",
      "[[443   0]\n",
      " [  0 239]]\n",
      "\n",
      "\n",
      "Dropping Problem Columns\n",
      "\n",
      "Random Forest Error Score:\n",
      "0.995702005730659\n",
      "\n",
      "Cross Validation Score:\n",
      "0.95% +/- 0.06%\n",
      "\n",
      "Type II Error Percentage:\n",
      "0.41 %\n",
      "\n",
      "Confusion Matrix:\n",
      "[[455   2]\n",
      " [  1 240]]\n"
     ]
    }
   ],
   "source": [
    "ben_dr, mal_dr = confusion_matrix(Y_dr, Y_predbdt_dr)\n",
    "if mal_dr[0] == 0:\n",
    "    type2_dr = 0\n",
    "else:\n",
    "    type2_dr = mal_dr[0]/(mal_dr[0]+mal_dr[1])\n",
    "print(\"Dropping Problem Rows\")\n",
    "print('\\nRandom Forest Error Score:')\n",
    "print(bdt_dr.score(X_dr,Y_dr))\n",
    "cvscore = cross_val_score(bdt_dr, X_dr, Y_dr)\n",
    "print('\\nCross Validation Score:')\n",
    "print('{}% +/- {}%'.format(round(cvscore.mean(),2),round(cvscore.std()*2,2)))\n",
    "print('\\nType II Error Percentage:')\n",
    "print(round(type2_dr*100,2),\"%\")\n",
    "print('\\nConfusion Matrix:')\n",
    "print(confusion_matrix(Y_dr, Y_predbdt_dr))\n",
    "\n",
    "\n",
    "ben_dc, mal_dc = confusion_matrix(Y_dc, Y_predbdt_dc)\n",
    "if mal_dc[0] == 0:\n",
    "    type2_dc = 0\n",
    "else:\n",
    "    type2_dc = mal_dc[0]/(mal_dc[0]+mal_dc[1])\n",
    "print(\"\\n\\nDropping Problem Columns\")\n",
    "print('\\nRandom Forest Error Score:')\n",
    "print(bdt_dc.score(X_dc,Y_dc))\n",
    "cvscore = cross_val_score(bdt_dc, X_dc, Y_dc)\n",
    "print('\\nCross Validation Score:')\n",
    "print('{}% +/- {}%'.format(round(cvscore.mean(),2),round(cvscore.std()*2,2)))\n",
    "print('\\nType II Error Percentage:')\n",
    "print(round(type2_dc*100,2),\"%\")\n",
    "print('\\nConfusion Matrix:')\n",
    "print(confusion_matrix(Y_dc, Y_predbdt_dc))\n",
    "\n",
    "scores['BoostedDT'] = [bdt_dr.score(X_dr,Y_dr),type2_dr,bdt_dc.score(X_dc,Y_dc),type2_dc]"
   ]
  },
  {
   "cell_type": "markdown",
   "metadata": {},
   "source": [
    "## Random Forest"
   ]
  },
  {
   "cell_type": "code",
   "execution_count": 87,
   "metadata": {},
   "outputs": [],
   "source": [
    "# set random forest dropped row model\n",
    "rfc_dr = ensemble.RandomForestClassifier()\n",
    "\n",
    "rfc_dr.fit(X_dr,Y_dr)\n",
    "\n",
    "Y_predrfc_dr = rfc_dr.predict(X_dr)"
   ]
  },
  {
   "cell_type": "code",
   "execution_count": 88,
   "metadata": {},
   "outputs": [],
   "source": [
    "# set random forest dropped column model\n",
    "rfc_dc = ensemble.RandomForestClassifier()\n",
    "\n",
    "rfc_dc.fit(X_dc,Y_dc)\n",
    "\n",
    "Y_predrfc_dc = rfc_dc.predict(X_dc)"
   ]
  },
  {
   "cell_type": "code",
   "execution_count": 108,
   "metadata": {
    "scrolled": true
   },
   "outputs": [
    {
     "name": "stdout",
     "output_type": "stream",
     "text": [
      "Dropping Problem Rows\n",
      "\n",
      "Random Forest Error Score:\n",
      "0.998533724340176\n",
      "\n",
      "Cross Validation Score:\n",
      "0.96% +/- 0.02%\n",
      "\n",
      "Type II Error Percentage:\n",
      "0 %\n",
      "\n",
      "Confusion Matrix:\n",
      "[[442   1]\n",
      " [  0 239]]\n",
      "\n",
      "\n",
      "Dropping Problem Columns\n",
      "\n",
      "Random Forest Error Score:\n",
      "0.995702005730659\n",
      "\n",
      "Cross Validation Score:\n",
      "0.94% +/- 0.05%\n",
      "\n",
      "Type II Error Percentage:\n",
      "0 %\n",
      "\n",
      "Confusion Matrix:\n",
      "[[454   3]\n",
      " [  0 241]]\n"
     ]
    }
   ],
   "source": [
    "ben_dr, mal_dr = confusion_matrix(Y_dr, Y_predrfc_dr)\n",
    "if mal_dr[0] == 0:\n",
    "    type2_dr = 0\n",
    "else:\n",
    "    type2_dr = mal_dr[0]/(mal_dr[0]+mal_dr[1])\n",
    "print(\"Dropping Problem Rows\")\n",
    "print('\\nRandom Forest Error Score:')\n",
    "print(rfc_dr.score(X_dr,Y_dr))\n",
    "cvscore = cross_val_score(rfc_dr, X_dr, Y_dr)\n",
    "print('\\nCross Validation Score:')\n",
    "print('{}% +/- {}%'.format(round(cvscore.mean(),2),round(cvscore.std()*2,2)))\n",
    "print('\\nType II Error Percentage:')\n",
    "print(round(type2_dr*100,2),\"%\")\n",
    "print('\\nConfusion Matrix:')\n",
    "print(confusion_matrix(Y_dr, Y_predrfc_dr))\n",
    "\n",
    "\n",
    "ben_dc, mal_dc = confusion_matrix(Y_dc, Y_predrfc_dc)\n",
    "if mal_dc[0] == 0:\n",
    "    type2_dc = 0\n",
    "else:\n",
    "    type2_dc = mal_dc[0]/(mal_dc[0]+mal_dc[1])\n",
    "print(\"\\n\\nDropping Problem Columns\")\n",
    "print('\\nRandom Forest Error Score:')\n",
    "print(rfc_dc.score(X_dc,Y_dc))\n",
    "cvscore = cross_val_score(rfc_dc, X_dc, Y_dc)\n",
    "print('\\nCross Validation Score:')\n",
    "print('{}% +/- {}%'.format(round(cvscore.mean(),2),round(cvscore.std()*2,2)))\n",
    "print('\\nType II Error Percentage:')\n",
    "print(round(type2_dc*100,2),\"%\")\n",
    "print('\\nConfusion Matrix:')\n",
    "print(confusion_matrix(Y_dc, Y_predrfc_dc))\n",
    "\n",
    "scores['RandomForest'] = [rfc_dr.score(X_dr,Y_dr),type2_dr,rfc_dc.score(X_dc,Y_dc),type2_dc]"
   ]
  },
  {
   "cell_type": "markdown",
   "metadata": {},
   "source": [
    "## Support Vector Machines"
   ]
  },
  {
   "cell_type": "code",
   "execution_count": 103,
   "metadata": {},
   "outputs": [],
   "source": [
    "# set svm dropped row model\n",
    "svm_dr = SVC()\n",
    "\n",
    "svm_dr = svm.fit(X_dr,Y_dr)\n",
    "\n",
    "Y_predsvm_dr = svm_dr.predict(X_dr)\n",
    "\n",
    "# set svm dropped column model\n",
    "svm_dc = SVC()\n",
    "\n",
    "svm_dc.fit(X_dc,Y_dc)\n",
    "\n",
    "Y_predsvm_dc = svm_dc.predict(X_dc)"
   ]
  },
  {
   "cell_type": "code",
   "execution_count": 104,
   "metadata": {},
   "outputs": [
    {
     "name": "stdout",
     "output_type": "stream",
     "text": [
      "Dropping Problem Rows\n",
      "\n",
      "Support Vector Machine Error Score:\n",
      "0.9956011730205279\n",
      "\n",
      "Cross Validation Score:\n",
      "0.96% +/- 0.05%\n",
      "\n",
      "Type II Error Percentage:\n",
      "0 %\n",
      "\n",
      "Confusion Matrix:\n",
      "[[440   3]\n",
      " [  0 239]]\n",
      "\n",
      "\n",
      "Dropping Problem Columns\n",
      "\n",
      "Support Vector Machine Error Score:\n",
      "0.9813753581661891\n",
      "\n",
      "Cross Validation Score:\n",
      "0.95% +/- 0.06%\n",
      "\n",
      "Type II Error Percentage:\n",
      "0.83 %\n",
      "\n",
      "Confusion Matrix:\n",
      "[[446  11]\n",
      " [  2 239]]\n"
     ]
    }
   ],
   "source": [
    "ben_dr, mal_dr = confusion_matrix(Y_dr, Y_predsvm_dr)\n",
    "if mal_dr[0] == 0:\n",
    "    type2_dr = 0\n",
    "else:\n",
    "    type2_dr = mal_dr[0]/(mal_dr[0]+mal_dr[1])\n",
    "print(\"Dropping Problem Rows\")\n",
    "print('\\nSupport Vector Machine Error Score:')\n",
    "print(svm_dr.score(X_dr,Y_dr))\n",
    "cvscore = cross_val_score(svm_dr, X_dr, Y_dr)\n",
    "print('\\nCross Validation Score:')\n",
    "print('{}% +/- {}%'.format(round(cvscore.mean(),2),round(cvscore.std()*2,2)))\n",
    "print('\\nType II Error Percentage:')\n",
    "print(round(type2_dr*100,2),\"%\")\n",
    "print('\\nConfusion Matrix:')\n",
    "print(confusion_matrix(Y_dr, Y_predsvm_dr))\n",
    "\n",
    "\n",
    "ben_dc, mal_dc = confusion_matrix(Y_dc, Y_predsvm_dc)\n",
    "if mal_dc[0] == 0:\n",
    "    type2_dc = 0\n",
    "else:\n",
    "    type2_dc = mal_dc[0]/(mal_dc[0]+mal_dc[1])\n",
    "print(\"\\n\\nDropping Problem Columns\")\n",
    "print('\\nSupport Vector Machine Error Score:')\n",
    "print(svm_dc.score(X_dc,Y_dc))\n",
    "cvscore = cross_val_score(svm_dc, X_dc, Y_dc)\n",
    "print('\\nCross Validation Score:')\n",
    "print('{}% +/- {}%'.format(round(cvscore.mean(),2),round(cvscore.std()*2,2)))\n",
    "print('\\nType II Error Percentage:')\n",
    "print(round(type2_dc*100,2),\"%\")\n",
    "print('\\nConfusion Matrix:')\n",
    "print(confusion_matrix(Y_dc, Y_predsvm_dc))\n",
    "\n",
    "scores['SVM'] = [svm_dr.score(X_dr,Y_dr),type2_dr,svm_dc.score(X_dc,Y_dc),type2_dc]"
   ]
  },
  {
   "cell_type": "markdown",
   "metadata": {},
   "source": [
    "## KNN Classifier"
   ]
  },
  {
   "cell_type": "code",
   "execution_count": 100,
   "metadata": {},
   "outputs": [],
   "source": [
    "# set knn dropped row model\n",
    "knn_dr = KNeighborsClassifier()\n",
    "\n",
    "knn_dr.fit(X_dr,Y_dr)\n",
    "\n",
    "Y_predknn_dr = knn_dr.predict(X_dr)\n",
    "\n",
    "# set knn dropped column model\n",
    "knn_dc = KNeighborsClassifier()\n",
    "\n",
    "knn_dc.fit(X_dc,Y_dc)\n",
    "\n",
    "Y_predknn_dc = knn_dc.predict(X_dc)"
   ]
  },
  {
   "cell_type": "code",
   "execution_count": 105,
   "metadata": {},
   "outputs": [
    {
     "name": "stdout",
     "output_type": "stream",
     "text": [
      "Dropping Problem Rows\n",
      "\n",
      "K Nearest Neighbors Error Score:\n",
      "0.9809384164222874\n",
      "\n",
      "Cross Validation Score:\n",
      "0.96% +/- 0.03%\n",
      "\n",
      "Type II Error Percentage:\n",
      "1.67 %\n",
      "\n",
      "Confusion Matrix:\n",
      "[[434   9]\n",
      " [  4 235]]\n",
      "\n",
      "\n",
      "Dropping Problem Columns\n",
      "\n",
      "K Nearest Neightbors Error Score:\n",
      "0.9656160458452722\n",
      "\n",
      "Cross Validation Score:\n",
      "0.95% +/- 0.04%\n",
      "\n",
      "Type II Error Percentage:\n",
      "4.15 %\n",
      "\n",
      "Confusion Matrix:\n",
      "[[443  14]\n",
      " [ 10 231]]\n"
     ]
    }
   ],
   "source": [
    "ben_dr, mal_dr = confusion_matrix(Y_dr, Y_predknn_dr)\n",
    "if mal_dr[0] == 0:\n",
    "    type2_dr = 0\n",
    "else:\n",
    "    type2_dr = mal_dr[0]/(mal_dr[0]+mal_dr[1])\n",
    "print(\"Dropping Problem Rows\")\n",
    "print('\\nK Nearest Neighbors Error Score:')\n",
    "print(knn_dr.score(X_dr,Y_dr))\n",
    "cvscore = cross_val_score(knn_dr, X_dr, Y_dr)\n",
    "print('\\nCross Validation Score:')\n",
    "print('{}% +/- {}%'.format(round(cvscore.mean(),2),round(cvscore.std()*2,2)))\n",
    "print('\\nType II Error Percentage:')\n",
    "print(round(type2_dr*100,2),\"%\")\n",
    "print('\\nConfusion Matrix:')\n",
    "print(confusion_matrix(Y_dr, Y_predknn_dr))\n",
    "\n",
    "\n",
    "ben_dc, mal_dc = confusion_matrix(Y_dc, Y_predknn_dc)\n",
    "if mal_dc[0] == 0:\n",
    "    type2_dc = 0\n",
    "else:\n",
    "    type2_dc = mal_dc[0]/(mal_dc[0]+mal_dc[1])\n",
    "print(\"\\n\\nDropping Problem Columns\")\n",
    "print('\\nK Nearest Neightbors Error Score:')\n",
    "print(knn_dc.score(X_dc,Y_dc))\n",
    "cvscore = cross_val_score(knn_dc, X_dc, Y_dc)\n",
    "print('\\nCross Validation Score:')\n",
    "print('{}% +/- {}%'.format(round(cvscore.mean(),2),round(cvscore.std()*2,2)))\n",
    "print('\\nType II Error Percentage:')\n",
    "print(round(type2_dc*100,2),\"%\")\n",
    "print('\\nConfusion Matrix:')\n",
    "print(confusion_matrix(Y_dc, Y_predknn_dc))\n",
    "\n",
    "scores['KNN'] = [knn_dr.score(X_dr,Y_dr),type2_dr,knn_dc.score(X_dc,Y_dc),type2_dc]"
   ]
  },
  {
   "cell_type": "markdown",
   "metadata": {},
   "source": [
    "## Lasso Logistic Regression"
   ]
  },
  {
   "cell_type": "code",
   "execution_count": 90,
   "metadata": {},
   "outputs": [
    {
     "name": "stdout",
     "output_type": "stream",
     "text": [
      "The dropped row model was fit with C =  1\n"
     ]
    }
   ],
   "source": [
    "# make a list of possible fit values\n",
    "grid = [.01,.1, 1, 10,100,200,300,500,700, 1000, 10000] \n",
    "out = []\n",
    "# make function to find the best c fit for the lasso logistic regression\n",
    "for c in grid: \n",
    "    lrl = linear_model.LogisticRegression(penalty='l1',C=c) \n",
    "    lrl.fit(X_dr, Y_dr) \n",
    "    scores = cross_val_score(lrl, X_dr, Y_dr) \n",
    "    out.append(scores.mean()) \n",
    "    bestc_dr = grid[out.index(max(out))]\n",
    "# set lasso log dropped row model    \n",
    "lrl_dr = linear_model.LogisticRegression(penalty='l1',C=bestc_dr) \n",
    "lrl_dr.fit(X_dr,Y_dr)\n",
    "print('The dropped row model was fit with C = ',bestc_dr)\n",
    "\n",
    "Y_predlrl_dr = lrl_dr.predict(X_dr)"
   ]
  },
  {
   "cell_type": "code",
   "execution_count": 91,
   "metadata": {},
   "outputs": [
    {
     "name": "stdout",
     "output_type": "stream",
     "text": [
      "The dropped column model was fit with C =  0.1\n"
     ]
    }
   ],
   "source": [
    "\n",
    "out = []\n",
    "# make function to find the best c fit for the lasso logistic regression\n",
    "for c in grid: \n",
    "    lrl = linear_model.LogisticRegression(penalty='l1',C=c) \n",
    "    lrl.fit(X_dc, Y_dc) \n",
    "    scores = cross_val_score(lrl, X_dc, Y_dc) \n",
    "    out.append(scores.mean()) \n",
    "    bestc_dc = grid[out.index(max(out))]\n",
    "# set lasso log dropped column model    \n",
    "lrl_dc = linear_model.LogisticRegression(penalty='l1',C=bestc_dc) \n",
    "lrl_dc.fit(X_dc,Y_dc)\n",
    "print('The dropped column model was fit with C = ',bestc_dc)\n",
    "\n",
    "Y_predlrl_dc = lrl_dc.predict(X_dc)"
   ]
  },
  {
   "cell_type": "code",
   "execution_count": 107,
   "metadata": {
    "scrolled": true
   },
   "outputs": [
    {
     "name": "stdout",
     "output_type": "stream",
     "text": [
      "Dropping Problem Rows\n",
      "\n",
      "Lasso Logistic Error Score:\n",
      "0.9706744868035191\n",
      "\n",
      "Cross Validation Score:\n",
      "0.96% +/- 0.04%\n",
      "\n",
      "Type II Error Percentage:\n",
      "4.18 %\n",
      "\n",
      "Confusion Matrix:\n",
      "[[433  10]\n",
      " [ 10 229]]\n",
      "\n",
      "\n",
      "Dropping Problem Columns\n",
      "\n",
      "Lasso Logistic Error Score:\n",
      "0.9613180515759312\n",
      "\n",
      "Cross Validation Score:\n",
      "0.95% +/- 0.05%\n",
      "\n",
      "Type II Error Percentage:\n",
      "5.39 %\n",
      "\n",
      "Confusion Matrix:\n",
      "[[443  14]\n",
      " [ 13 228]]\n"
     ]
    }
   ],
   "source": [
    "ben_dr, mal_dr = confusion_matrix(Y_dr, Y_predlrl_dr)\n",
    "if mal_dr[0] == 0:\n",
    "    type2_dr = 0\n",
    "else:\n",
    "    type2_dr = mal_dr[0]/(mal_dr[0]+mal_dr[1])\n",
    "print(\"Dropping Problem Rows\")\n",
    "print('\\nLasso Logistic Error Score:')\n",
    "print(lrl_dr.score(X_dr,Y_dr))\n",
    "cvscore = cross_val_score(lrl_dr, X_dr, Y_dr)\n",
    "print('\\nCross Validation Score:')\n",
    "print('{}% +/- {}%'.format(round(cvscore.mean(),2),round(cvscore.std()*2,2)))\n",
    "print('\\nType II Error Percentage:')\n",
    "print(round(type2_dr*100,2),\"%\")\n",
    "print('\\nConfusion Matrix:')\n",
    "print(confusion_matrix(Y_dr, Y_predlrl_dr))\n",
    "\n",
    "\n",
    "ben_dc, mal_dc = confusion_matrix(Y_dc, Y_predlrl_dc)\n",
    "if mal_dc[0] == 0:\n",
    "    type2_dc = 0\n",
    "else:\n",
    "    type2_dc = mal_dc[0]/(mal_dc[0]+mal_dc[1])\n",
    "print(\"\\n\\nDropping Problem Columns\")\n",
    "print('\\nLasso Logistic Error Score:')\n",
    "print(lrl_dc.score(X_dc,Y_dc))\n",
    "cvscore = cross_val_score(lrl_dc, X_dc, Y_dc)\n",
    "print('\\nCross Validation Score:')\n",
    "print('{}% +/- {}%'.format(round(cvscore.mean(),2),round(cvscore.std()*2,2)))\n",
    "print('\\nType II Error Percentage:')\n",
    "print(round(type2_dc*100,2),\"%\")\n",
    "print('\\nConfusion Matrix:')\n",
    "print(confusion_matrix(Y_dc, Y_predlrl_dc))\n",
    "\n",
    "scores['LassoLog'] = [lrl_dr.score(X_dr,Y_dr),type2_dr,lrl_dc.score(X_dc,Y_dc),type2_dc]"
   ]
  },
  {
   "cell_type": "markdown",
   "metadata": {},
   "source": [
    "# Modeling Conclusion\n",
    "\n",
    "I can quickly look at how each model performed at a glance"
   ]
  },
  {
   "cell_type": "code",
   "execution_count": 150,
   "metadata": {},
   "outputs": [
    {
     "data": {
      "text/html": [
       "<div>\n",
       "<style scoped>\n",
       "    .dataframe tbody tr th:only-of-type {\n",
       "        vertical-align: middle;\n",
       "    }\n",
       "\n",
       "    .dataframe tbody tr th {\n",
       "        vertical-align: top;\n",
       "    }\n",
       "\n",
       "    .dataframe thead th {\n",
       "        text-align: right;\n",
       "    }\n",
       "</style>\n",
       "<table border=\"1\" class=\"dataframe\">\n",
       "  <thead>\n",
       "    <tr style=\"text-align: right;\">\n",
       "      <th></th>\n",
       "      <th>Lasso Logistic</th>\n",
       "      <th>RandomForest</th>\n",
       "      <th>BoostedDT</th>\n",
       "    </tr>\n",
       "    <tr>\n",
       "      <th>Stat</th>\n",
       "      <th></th>\n",
       "      <th></th>\n",
       "      <th></th>\n",
       "    </tr>\n",
       "  </thead>\n",
       "  <tbody>\n",
       "    <tr>\n",
       "      <th>DR Accuracy</th>\n",
       "      <td>0.970674</td>\n",
       "      <td>0.998534</td>\n",
       "      <td>1.000000</td>\n",
       "    </tr>\n",
       "    <tr>\n",
       "      <th>DR TypeII Error</th>\n",
       "      <td>0.041841</td>\n",
       "      <td>0.041841</td>\n",
       "      <td>0.000000</td>\n",
       "    </tr>\n",
       "    <tr>\n",
       "      <th>DC Accuracy</th>\n",
       "      <td>0.961318</td>\n",
       "      <td>0.995702</td>\n",
       "      <td>0.995702</td>\n",
       "    </tr>\n",
       "    <tr>\n",
       "      <th>DR TypeII Error</th>\n",
       "      <td>0.053942</td>\n",
       "      <td>0.053942</td>\n",
       "      <td>0.004149</td>\n",
       "    </tr>\n",
       "  </tbody>\n",
       "</table>\n",
       "</div>"
      ],
      "text/plain": [
       "                 Lasso Logistic  RandomForest  BoostedDT\n",
       "Stat                                                    \n",
       "DR Accuracy            0.970674      0.998534   1.000000\n",
       "DR TypeII Error        0.041841      0.041841   0.000000\n",
       "DC Accuracy            0.961318      0.995702   0.995702\n",
       "DR TypeII Error        0.053942      0.053942   0.004149"
      ]
     },
     "metadata": {},
     "output_type": "display_data"
    }
   ],
   "source": [
    "# set indeces for the score dataframe so I know what each number corresponds to\n",
    "scores['Stat'] = ['DR Accuracy','DR TypeII Error','DC Accuracy','DR TypeII Error']\n",
    "scores = scores.set_index('Stat')\n",
    "display(scores)"
   ]
  },
  {
   "cell_type": "markdown",
   "metadata": {},
   "source": [
    "The most accurate model was the boosted decsion tree, though they were all able to fit the data resonably well. The prediction also always preformed better when operating with dropped rows than with dropped columns. This is intuitive because when dropping the problem data rows in this instance, only 16 times 11, or 176 data points are lost. But, when dropping the problem feature 699 time 1 data points are lost. "
   ]
  },
  {
   "cell_type": "markdown",
   "metadata": {},
   "source": [
    "# Determining Feature Importance\n",
    "\n",
    "Not only do I want to model the data, I also want to know how important each of the features are. Only 2 of the models I used are capable of telling me that, the emsemble models: Boosted Decision Trees and Random Forest. Becuase the dropped row models always performed better, and I want to be able to know which features were most important in determining cancer diagnosis, I will only use the dropped row data set"
   ]
  },
  {
   "cell_type": "markdown",
   "metadata": {},
   "source": [
    "## Boosted Decision Trees"
   ]
  },
  {
   "cell_type": "code",
   "execution_count": 161,
   "metadata": {},
   "outputs": [
    {
     "data": {
      "image/png": "[encoded data removed]",
      "text/plain": [
       "<Figure size 720x720 with 1 Axes>"
      ]
     },
     "metadata": {},
     "output_type": "display_data"
    },
    {
     "data": {
      "image/png": "[encoded data removed]",
      "text/plain": [
       "<Figure size 720x720 with 1 Axes>"
      ]
     },
     "metadata": {},
     "output_type": "display_data"
    }
   ],
   "source": [
    "feature_importance_bt = bdt_dr.feature_importances_\n",
    "\n",
    "# Make importances relative to max importance.\n",
    "feature_importance_bt = 100.0 * (feature_importance_bt / feature_importance_bt.max())\n",
    "sorted_idx_bt = np.argsort(feature_importance_bt)\n",
    "pos_bt = np.arange(sorted_idx_bt.shape[0]) + .5\n",
    "plt.figure(figsize=(10, 10))\n",
    "plt.subplot(2, 1, 2)\n",
    "plt.barh(pos_bt, feature_importance_bt[sorted_idx_bt], align='center')\n",
    "plt.yticks(pos_bt, X_dr.columns[sorted_idx_bt])\n",
    "plt.xlabel('Relative Importance')\n",
    "plt.title('Boosted Tree Feature Importance')\n",
    "plt.show()\n",
    "\n",
    "feature_importance_rf = rfc_dr.feature_importances_\n",
    "\n",
    "# Make importances relative to max importance.\n",
    "feature_importance_rf = 100.0 * (feature_importance_rf / feature_importance_rf.max())\n",
    "sorted_idx_rf = np.argsort(feature_importance_rf)\n",
    "pos_rf = np.arange(sorted_idx_rf.shape[0]) + .5\n",
    "plt.figure(figsize=(10, 10))\n",
    "plt.subplot(2, 1, 2)\n",
    "plt.barh(pos_rf, feature_importance_rf[sorted_idx_rf], align='center')\n",
    "plt.yticks(pos_rf, X_dr.columns[sorted_idx_rf])\n",
    "plt.xlabel('Relative Importance')\n",
    "plt.title('Random Forest Feature Importance')\n",
    "plt.show()"
   ]
  },
  {
   "cell_type": "markdown",
   "metadata": {},
   "source": [
    "Both the Boosted and Random Forest model call __Shape_Uniformity__ the most important feature, the Random Forest calls it the most important by far. Additionally,  both models agree that __Mitosis__ is the least most important feature. After that, the feature importance of both stops perfectly lining up.\n",
    "\n",
    "Both models call __Bare_Nulcei__ very important, another reason why the dropped column models performed so much worse. Addtionally, both models think that __Size Uniformity__ is a trait of middling importance.  \n",
    "\n",
    "Aside from that, both model's feature importance vary wildly, partially due to just how much the Random Forest overvalues Shape_Uniformity, appearing as more than doubly important to the Random Forest, while the rankings remain relatively similar. Still, the biggest discrepancy is __Epithelial_Size__ and __Normal_Nuclei__, appearing to the Boosted Decision Tree as the second least important and second most important respectively, but appearing as just the oppsite, the second most important and second least important respectively to the Random Forest."
   ]
  },
  {
   "cell_type": "markdown",
   "metadata": {},
   "source": [
    "# Feature Importance Conclusion\n",
    "\n",
    "Because of the varying nature of both model's feautre importance predictions, it is impossible for me to get a perfect idea of the feature importance. I know that the Shape Uniformity of the tumor is the most important by a lot, and that the amount of Mitosis going on in the tumor is the least important by a fair margin. After that, I know that how promenent the appearance of a Bare Nulcei is is also very important. From there, I know that the Epithelial Size of the tumor and how Normal the Nuclei appears also might have some importance. After that, I can say that the tumor Thickness, Adhension, and Cromatin levels are more important than its Mitotis, and probably less important than all other mentioned features."
   ]
  },
  {
   "cell_type": "markdown",
   "metadata": {},
   "source": [
    "http://archive.ics.uci.edu/ml/datasets/Breast+Cancer+Wisconsin+%28Original%29"
   ]
  }
 ],
 "metadata": {
  "kernelspec": {
   "display_name": "Python 3",
   "language": "python",
   "name": "python3"
  },
  "language_info": {
   "codemirror_mode": {
    "name": "ipython",
    "version": 3
   },
   "file_extension": ".py",
   "mimetype": "text/x-python",
   "name": "python",
   "nbconvert_exporter": "python",
   "pygments_lexer": "ipython3",
   "version": "3.6.4"
  }
 },
 "nbformat": 4,
 "nbformat_minor": 2
}
