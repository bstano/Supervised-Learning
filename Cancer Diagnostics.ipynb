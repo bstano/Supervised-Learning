{
 "cells": [
  {
   "cell_type": "code",
   "execution_count": 86,
   "metadata": {},
   "outputs": [],
   "source": [
    "import pandas as pd\n",
    "import numpy as np\n",
    "import scipy\n",
    "import matplotlib.pyplot as plt\n",
    "from sklearn import linear_model\n",
    "from sklearn import preprocessing\n",
    "from sklearn.model_selection import cross_val_score\n",
    "%matplotlib inline"
   ]
  },
  {
   "cell_type": "markdown",
   "metadata": {},
   "source": [
    "I want to make a model that can predict a cancer diagnosis."
   ]
  },
  {
   "cell_type": "code",
   "execution_count": 61,
   "metadata": {},
   "outputs": [
    {
     "data": {
      "text/html": [
       "<div>\n",
       "<style scoped>\n",
       "    .dataframe tbody tr th:only-of-type {\n",
       "        vertical-align: middle;\n",
       "    }\n",
       "\n",
       "    .dataframe tbody tr th {\n",
       "        vertical-align: top;\n",
       "    }\n",
       "\n",
       "    .dataframe thead th {\n",
       "        text-align: right;\n",
       "    }\n",
       "</style>\n",
       "<table border=\"1\" class=\"dataframe\">\n",
       "  <thead>\n",
       "    <tr style=\"text-align: right;\">\n",
       "      <th></th>\n",
       "      <th>1000025</th>\n",
       "      <th>5</th>\n",
       "      <th>1</th>\n",
       "      <th>1.1</th>\n",
       "      <th>1.2</th>\n",
       "      <th>2</th>\n",
       "      <th>1.3</th>\n",
       "      <th>3</th>\n",
       "      <th>1.4</th>\n",
       "      <th>1.5</th>\n",
       "      <th>2.1</th>\n",
       "    </tr>\n",
       "  </thead>\n",
       "  <tbody>\n",
       "    <tr>\n",
       "      <th>0</th>\n",
       "      <td>1002945</td>\n",
       "      <td>5</td>\n",
       "      <td>4</td>\n",
       "      <td>4</td>\n",
       "      <td>5</td>\n",
       "      <td>7</td>\n",
       "      <td>10</td>\n",
       "      <td>3</td>\n",
       "      <td>2</td>\n",
       "      <td>1</td>\n",
       "      <td>2</td>\n",
       "    </tr>\n",
       "    <tr>\n",
       "      <th>1</th>\n",
       "      <td>1015425</td>\n",
       "      <td>3</td>\n",
       "      <td>1</td>\n",
       "      <td>1</td>\n",
       "      <td>1</td>\n",
       "      <td>2</td>\n",
       "      <td>2</td>\n",
       "      <td>3</td>\n",
       "      <td>1</td>\n",
       "      <td>1</td>\n",
       "      <td>2</td>\n",
       "    </tr>\n",
       "    <tr>\n",
       "      <th>2</th>\n",
       "      <td>1016277</td>\n",
       "      <td>6</td>\n",
       "      <td>8</td>\n",
       "      <td>8</td>\n",
       "      <td>1</td>\n",
       "      <td>3</td>\n",
       "      <td>4</td>\n",
       "      <td>3</td>\n",
       "      <td>7</td>\n",
       "      <td>1</td>\n",
       "      <td>2</td>\n",
       "    </tr>\n",
       "    <tr>\n",
       "      <th>3</th>\n",
       "      <td>1017023</td>\n",
       "      <td>4</td>\n",
       "      <td>1</td>\n",
       "      <td>1</td>\n",
       "      <td>3</td>\n",
       "      <td>2</td>\n",
       "      <td>1</td>\n",
       "      <td>3</td>\n",
       "      <td>1</td>\n",
       "      <td>1</td>\n",
       "      <td>2</td>\n",
       "    </tr>\n",
       "    <tr>\n",
       "      <th>4</th>\n",
       "      <td>1017122</td>\n",
       "      <td>8</td>\n",
       "      <td>10</td>\n",
       "      <td>10</td>\n",
       "      <td>8</td>\n",
       "      <td>7</td>\n",
       "      <td>10</td>\n",
       "      <td>9</td>\n",
       "      <td>7</td>\n",
       "      <td>1</td>\n",
       "      <td>4</td>\n",
       "    </tr>\n",
       "  </tbody>\n",
       "</table>\n",
       "</div>"
      ],
      "text/plain": [
       "   1000025  5   1  1.1  1.2  2 1.3  3  1.4  1.5  2.1\n",
       "0  1002945  5   4    4    5  7  10  3    2    1    2\n",
       "1  1015425  3   1    1    1  2   2  3    1    1    2\n",
       "2  1016277  6   8    8    1  3   4  3    7    1    2\n",
       "3  1017023  4   1    1    3  2   1  3    1    1    2\n",
       "4  1017122  8  10   10    8  7  10  9    7    1    4"
      ]
     },
     "metadata": {},
     "output_type": "display_data"
    },
    {
     "name": "stdout",
     "output_type": "stream",
     "text": [
      "(698, 11)\n"
     ]
    }
   ],
   "source": [
    "cancer = pd.read_csv('C:\\Code\\Data\\\\breast_cancer.csv')\n",
    "display(cancer.head())\n",
    "print(cancer.shape)"
   ]
  },
  {
   "cell_type": "code",
   "execution_count": 63,
   "metadata": {},
   "outputs": [
    {
     "name": "stdout",
     "output_type": "stream",
     "text": [
      "1.3\n"
     ]
    }
   ],
   "source": [
    "for i in range(0,len(cancer.columns)):\n",
    "    try:\n",
    "        cancer.iloc[:,i].astype(float)\n",
    "    except:\n",
    "        print(cancer.columns[i])"
   ]
  },
  {
   "cell_type": "code",
   "execution_count": 64,
   "metadata": {},
   "outputs": [],
   "source": [
    "cancer = cancer.drop('1.3',axis=1)"
   ]
  },
  {
   "cell_type": "code",
   "execution_count": 65,
   "metadata": {},
   "outputs": [],
   "source": [
    "newrow = cancer.columns\n"
   ]
  },
  {
   "cell_type": "code",
   "execution_count": 67,
   "metadata": {},
   "outputs": [],
   "source": [
    "cancer.columns = ['IDNum','Thickness','Size_Uniformity','Shape_Uniformity','Adhesion',\n",
    "                  'Epithelial_Size','Chromatin','Normal_Nucleoli','Mitoses','Class']"
   ]
  },
  {
   "cell_type": "code",
   "execution_count": 76,
   "metadata": {},
   "outputs": [],
   "source": [
    "newrow = pd.Series(newrow)\n",
    "newrow = newrow.astype(float)\n",
    "newrow.index = ['IDNum','Thickness','Size_Uniformity','Shape_Uniformity','Adhesion',\n",
    "                  'Epithelial_Size','Chromatin','Normal_Nucleoli','Mitoses','Class']\n",
    "cancer = cancer.append(newrow, ignore_index=True)"
   ]
  },
  {
   "cell_type": "code",
   "execution_count": 79,
   "metadata": {},
   "outputs": [
    {
     "data": {
      "text/html": [
       "<div>\n",
       "<style scoped>\n",
       "    .dataframe tbody tr th:only-of-type {\n",
       "        vertical-align: middle;\n",
       "    }\n",
       "\n",
       "    .dataframe tbody tr th {\n",
       "        vertical-align: top;\n",
       "    }\n",
       "\n",
       "    .dataframe thead th {\n",
       "        text-align: right;\n",
       "    }\n",
       "</style>\n",
       "<table border=\"1\" class=\"dataframe\">\n",
       "  <thead>\n",
       "    <tr style=\"text-align: right;\">\n",
       "      <th></th>\n",
       "      <th>IDNum</th>\n",
       "      <th>Thickness</th>\n",
       "      <th>Size_Uniformity</th>\n",
       "      <th>Shape_Uniformity</th>\n",
       "      <th>Adhesion</th>\n",
       "      <th>Epithelial_Size</th>\n",
       "      <th>Chromatin</th>\n",
       "      <th>Normal_Nucleoli</th>\n",
       "      <th>Mitoses</th>\n",
       "      <th>Class</th>\n",
       "    </tr>\n",
       "  </thead>\n",
       "  <tbody>\n",
       "    <tr>\n",
       "      <th>0</th>\n",
       "      <td>1002945.0</td>\n",
       "      <td>5.0</td>\n",
       "      <td>4.0</td>\n",
       "      <td>4.0</td>\n",
       "      <td>5.0</td>\n",
       "      <td>7.0</td>\n",
       "      <td>3.0</td>\n",
       "      <td>2.0</td>\n",
       "      <td>1.0</td>\n",
       "      <td>0</td>\n",
       "    </tr>\n",
       "    <tr>\n",
       "      <th>1</th>\n",
       "      <td>1015425.0</td>\n",
       "      <td>3.0</td>\n",
       "      <td>1.0</td>\n",
       "      <td>1.0</td>\n",
       "      <td>1.0</td>\n",
       "      <td>2.0</td>\n",
       "      <td>3.0</td>\n",
       "      <td>1.0</td>\n",
       "      <td>1.0</td>\n",
       "      <td>0</td>\n",
       "    </tr>\n",
       "    <tr>\n",
       "      <th>2</th>\n",
       "      <td>1016277.0</td>\n",
       "      <td>6.0</td>\n",
       "      <td>8.0</td>\n",
       "      <td>8.0</td>\n",
       "      <td>1.0</td>\n",
       "      <td>3.0</td>\n",
       "      <td>3.0</td>\n",
       "      <td>7.0</td>\n",
       "      <td>1.0</td>\n",
       "      <td>0</td>\n",
       "    </tr>\n",
       "    <tr>\n",
       "      <th>3</th>\n",
       "      <td>1017023.0</td>\n",
       "      <td>4.0</td>\n",
       "      <td>1.0</td>\n",
       "      <td>1.0</td>\n",
       "      <td>3.0</td>\n",
       "      <td>2.0</td>\n",
       "      <td>3.0</td>\n",
       "      <td>1.0</td>\n",
       "      <td>1.0</td>\n",
       "      <td>0</td>\n",
       "    </tr>\n",
       "    <tr>\n",
       "      <th>4</th>\n",
       "      <td>1017122.0</td>\n",
       "      <td>8.0</td>\n",
       "      <td>10.0</td>\n",
       "      <td>10.0</td>\n",
       "      <td>8.0</td>\n",
       "      <td>7.0</td>\n",
       "      <td>9.0</td>\n",
       "      <td>7.0</td>\n",
       "      <td>1.0</td>\n",
       "      <td>1</td>\n",
       "    </tr>\n",
       "  </tbody>\n",
       "</table>\n",
       "</div>"
      ],
      "text/plain": [
       "       IDNum  Thickness  Size_Uniformity  Shape_Uniformity  Adhesion  \\\n",
       "0  1002945.0        5.0              4.0               4.0       5.0   \n",
       "1  1015425.0        3.0              1.0               1.0       1.0   \n",
       "2  1016277.0        6.0              8.0               8.0       1.0   \n",
       "3  1017023.0        4.0              1.0               1.0       3.0   \n",
       "4  1017122.0        8.0             10.0              10.0       8.0   \n",
       "\n",
       "   Epithelial_Size  Chromatin  Normal_Nucleoli  Mitoses  Class  \n",
       "0              7.0        3.0              2.0      1.0      0  \n",
       "1              2.0        3.0              1.0      1.0      0  \n",
       "2              3.0        3.0              7.0      1.0      0  \n",
       "3              2.0        3.0              1.0      1.0      0  \n",
       "4              7.0        9.0              7.0      1.0      1  "
      ]
     },
     "metadata": {},
     "output_type": "display_data"
    }
   ],
   "source": [
    "display(cancer.head())"
   ]
  },
  {
   "cell_type": "code",
   "execution_count": 78,
   "metadata": {},
   "outputs": [],
   "source": [
    "cancer.Class = np.where(cancer.Class==4,1,0)"
   ]
  },
  {
   "cell_type": "code",
   "execution_count": 82,
   "metadata": {},
   "outputs": [],
   "source": [
    "X = cancer.drop(['IDNum','Class'], axis=1)\n",
    "Y = cancer.Class"
   ]
  },
  {
   "cell_type": "markdown",
   "metadata": {},
   "source": [
    "## Logistic Regression"
   ]
  },
  {
   "cell_type": "code",
   "execution_count": 102,
   "metadata": {},
   "outputs": [
    {
     "name": "stdout",
     "output_type": "stream",
     "text": [
      "R² for the Vanilla Log:\n",
      "0.9614285714285714\n",
      "\n",
      "CrossValidation for Lasso:\n",
      "[0.92735043 0.93991416 0.97854077]\n",
      "\n",
      "Parameter estimates for the Vanilla Model:\n",
      "[ 0.57702383 -0.01084091  0.56927257  0.31392001  0.13077332  0.5794412\n",
      "  0.1232866   0.60627102 -9.950884  ]\n"
     ]
    }
   ],
   "source": [
    "#Vanilla Log\n",
    "lr = linear_model.LogisticRegression(C=1e10)\n",
    "lfit = lr.fit(X, Y)\n",
    "\n",
    "print('R² for the Vanilla Log:')\n",
    "print(lfit.score(X, Y))\n",
    "\n",
    "print('\\nCrossValidation for Vanilla Log:')\n",
    "print(cross_val_score(lr, X, Y))\n",
    "\n",
    "lrparams = np.append(lfit.coef_, lfit.intercept_)\n",
    "print('\\nParameter estimates for the Vanilla Model:')\n",
    "print(lrparams)"
   ]
  },
  {
   "cell_type": "markdown",
   "metadata": {},
   "source": [
    "## Ridge"
   ]
  },
  {
   "cell_type": "code",
   "execution_count": 103,
   "metadata": {},
   "outputs": [
    {
     "name": "stdout",
     "output_type": "stream",
     "text": [
      "The Model was fit with C =  10\n",
      "\n",
      "R² for the Ridge model:\n",
      "0.9614285714285714\n",
      "\n",
      "CrossValidation for Rigde Log:\n",
      "[0.92307692 0.93991416 0.98283262]\n",
      "\n",
      "Parameter estimates for the Ridge Model:\n",
      "[ 0.51607307  0.02328681  0.53662857  0.2897733   0.10149863  0.52181515\n",
      "  0.12628892  0.48769316 -9.08892262]\n"
     ]
    }
   ],
   "source": [
    "grid = [.1, 1, 10,100,200,300,500,700, 1000, 10000] \n",
    "out = [] \n",
    "for c in grid: \n",
    "    lrr = linear_model.LogisticRegression(C=c) \n",
    "    lrr.fit(X, Y) \n",
    "    scores = cross_val_score(lrr, X, Y,) \n",
    "    out.append(scores.mean()) \n",
    "    bestc = grid[out.index(max(out))] \n",
    "\n",
    "lrr = linear_model.LogisticRegression(C=bestc) \n",
    "lrr.fit(X,Y)\n",
    "print('The Model was fit with C = ',bestc)\n",
    "\n",
    "print('\\nR² for the Ridge model:')\n",
    "print(lrr.score(X, Y))\n",
    "\n",
    "print('\\nCrossValidation for Rigde Log:')\n",
    "print(cross_val_score(lrr, X, Y))\n",
    "\n",
    "ridgeparams = np.append(lrr.coef_, lrr.intercept_)\n",
    "print('\\nParameter estimates for the Ridge Model:')\n",
    "print(ridgeparams)\n"
   ]
  },
  {
   "cell_type": "code",
   "execution_count": 104,
   "metadata": {},
   "outputs": [
    {
     "name": "stdout",
     "output_type": "stream",
     "text": [
      "The Model was fit with C =  0.1\n",
      "\n",
      "R² for the Lasso model:\n",
      "0.9614285714285714\n",
      "\n",
      "CrossValidation for Lasso:\n",
      "[0.92307692 0.94420601 0.98712446]\n",
      "\n",
      "Parameter estimates for the Lasso Model:\n",
      "[ 0.26033389  0.19653691  0.36004226  0.18038346  0.          0.23725207\n",
      "  0.13536456  0.         -5.29515286]\n"
     ]
    }
   ],
   "source": [
    "grid = [.01,.1, 1, 10,100,200,300,500,700, 1000, 10000] \n",
    "out = [] \n",
    "for c in grid: \n",
    "    lrl = linear_model.LogisticRegression(penalty='l1',C=c) \n",
    "    lrl.fit(X, Y) \n",
    "    scores = cross_val_score(lrl, X, Y) \n",
    "    out.append(scores.mean()) \n",
    "    bestc = grid[out.index(max(out))]\n",
    "\n",
    "lrl = linear_model.LogisticRegression(penalty='l1',C=bestc) \n",
    "lrl.fit(X,Y)\n",
    "print('The Model was fit with C = ',bestc)\n",
    "\n",
    "print('\\nR² for the Lasso model:')\n",
    "print(lrl.score(X, Y))\n",
    "\n",
    "print('\\nCrossValidation for Lasso:')\n",
    "print(cross_val_score(lrl, X, Y))\n",
    "\n",
    "lassparams = np.append(lrl.coef_, lrl.intercept_)\n",
    "print('\\nParameter estimates for the Lasso Model:')\n",
    "print(lassparams)"
   ]
  },
  {
   "cell_type": "code",
   "execution_count": null,
   "metadata": {},
   "outputs": [],
   "source": []
  },
  {
   "cell_type": "markdown",
   "metadata": {},
   "source": [
    "http://archive.ics.uci.edu/ml/datasets/Breast+Cancer+Wisconsin+%28Original%29"
   ]
  }
 ],
 "metadata": {
  "kernelspec": {
   "display_name": "Python 3",
   "language": "python",
   "name": "python3"
  },
  "language_info": {
   "codemirror_mode": {
    "name": "ipython",
    "version": 3
   },
   "file_extension": ".py",
   "mimetype": "text/x-python",
   "name": "python",
   "nbconvert_exporter": "python",
   "pygments_lexer": "ipython3",
   "version": "3.6.4"
  }
 },
 "nbformat": 4,
 "nbformat_minor": 2
}
