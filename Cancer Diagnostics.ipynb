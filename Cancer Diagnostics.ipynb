{
 "cells": [
  {
   "cell_type": "code",
   "execution_count": 1,
   "metadata": {},
   "outputs": [],
   "source": [
    "import pandas as pd\n",
    "import numpy as np\n",
    "import scipy\n",
    "import matplotlib.pyplot as plt\n",
    "from sklearn import linear_model\n",
    "from sklearn import preprocessing\n",
    "from sklearn.model_selection import cross_val_score\n",
    "%matplotlib inline\n",
    "\n",
    "from sklearn.metrics import confusion_matrix\n",
    "from sklearn.model_selection import cross_val_score\n",
    "from sklearn import ensemble"
   ]
  },
  {
   "cell_type": "markdown",
   "metadata": {},
   "source": [
    "## Model Cancer Diagnosis\n",
    "\n",
    "I want to make a model that can predict a whether or not a tumor is benign, based on certain measurements. I will use data from the Wisconson Breat Cancer Research Association to train my model. The data contains measures on the tumors of 699 subjects and whether or not they were malignant."
   ]
  },
  {
   "cell_type": "code",
   "execution_count": 2,
   "metadata": {},
   "outputs": [
    {
     "data": {
      "text/html": [
       "<div>\n",
       "<style scoped>\n",
       "    .dataframe tbody tr th:only-of-type {\n",
       "        vertical-align: middle;\n",
       "    }\n",
       "\n",
       "    .dataframe tbody tr th {\n",
       "        vertical-align: top;\n",
       "    }\n",
       "\n",
       "    .dataframe thead th {\n",
       "        text-align: right;\n",
       "    }\n",
       "</style>\n",
       "<table border=\"1\" class=\"dataframe\">\n",
       "  <thead>\n",
       "    <tr style=\"text-align: right;\">\n",
       "      <th></th>\n",
       "      <th>1000025</th>\n",
       "      <th>5</th>\n",
       "      <th>1</th>\n",
       "      <th>1.1</th>\n",
       "      <th>1.2</th>\n",
       "      <th>2</th>\n",
       "      <th>1.3</th>\n",
       "      <th>3</th>\n",
       "      <th>1.4</th>\n",
       "      <th>1.5</th>\n",
       "      <th>2.1</th>\n",
       "    </tr>\n",
       "  </thead>\n",
       "  <tbody>\n",
       "    <tr>\n",
       "      <th>0</th>\n",
       "      <td>1002945</td>\n",
       "      <td>5</td>\n",
       "      <td>4</td>\n",
       "      <td>4</td>\n",
       "      <td>5</td>\n",
       "      <td>7</td>\n",
       "      <td>10</td>\n",
       "      <td>3</td>\n",
       "      <td>2</td>\n",
       "      <td>1</td>\n",
       "      <td>2</td>\n",
       "    </tr>\n",
       "    <tr>\n",
       "      <th>1</th>\n",
       "      <td>1015425</td>\n",
       "      <td>3</td>\n",
       "      <td>1</td>\n",
       "      <td>1</td>\n",
       "      <td>1</td>\n",
       "      <td>2</td>\n",
       "      <td>2</td>\n",
       "      <td>3</td>\n",
       "      <td>1</td>\n",
       "      <td>1</td>\n",
       "      <td>2</td>\n",
       "    </tr>\n",
       "    <tr>\n",
       "      <th>2</th>\n",
       "      <td>1016277</td>\n",
       "      <td>6</td>\n",
       "      <td>8</td>\n",
       "      <td>8</td>\n",
       "      <td>1</td>\n",
       "      <td>3</td>\n",
       "      <td>4</td>\n",
       "      <td>3</td>\n",
       "      <td>7</td>\n",
       "      <td>1</td>\n",
       "      <td>2</td>\n",
       "    </tr>\n",
       "    <tr>\n",
       "      <th>3</th>\n",
       "      <td>1017023</td>\n",
       "      <td>4</td>\n",
       "      <td>1</td>\n",
       "      <td>1</td>\n",
       "      <td>3</td>\n",
       "      <td>2</td>\n",
       "      <td>1</td>\n",
       "      <td>3</td>\n",
       "      <td>1</td>\n",
       "      <td>1</td>\n",
       "      <td>2</td>\n",
       "    </tr>\n",
       "    <tr>\n",
       "      <th>4</th>\n",
       "      <td>1017122</td>\n",
       "      <td>8</td>\n",
       "      <td>10</td>\n",
       "      <td>10</td>\n",
       "      <td>8</td>\n",
       "      <td>7</td>\n",
       "      <td>10</td>\n",
       "      <td>9</td>\n",
       "      <td>7</td>\n",
       "      <td>1</td>\n",
       "      <td>4</td>\n",
       "    </tr>\n",
       "  </tbody>\n",
       "</table>\n",
       "</div>"
      ],
      "text/plain": [
       "   1000025  5   1  1.1  1.2  2 1.3  3  1.4  1.5  2.1\n",
       "0  1002945  5   4    4    5  7  10  3    2    1    2\n",
       "1  1015425  3   1    1    1  2   2  3    1    1    2\n",
       "2  1016277  6   8    8    1  3   4  3    7    1    2\n",
       "3  1017023  4   1    1    3  2   1  3    1    1    2\n",
       "4  1017122  8  10   10    8  7  10  9    7    1    4"
      ]
     },
     "metadata": {},
     "output_type": "display_data"
    },
    {
     "name": "stdout",
     "output_type": "stream",
     "text": [
      "(698, 11)\n"
     ]
    }
   ],
   "source": [
    "cancer = pd.read_csv('C:\\Code\\Data\\\\breast_cancer.csv')\n",
    "display(cancer.head())\n",
    "print(cancer.shape)"
   ]
  },
  {
   "cell_type": "markdown",
   "metadata": {},
   "source": [
    "They data apparently needs much cleaning, having what should be one of the rows as the column names. Also, I will need my data to be in all numeric format to be able to properly work with it."
   ]
  },
  {
   "cell_type": "code",
   "execution_count": 29,
   "metadata": {},
   "outputs": [
    {
     "name": "stdout",
     "output_type": "stream",
     "text": [
      "1.3\n"
     ]
    }
   ],
   "source": [
    "for i in range(0,len(cancer.columns)):\n",
    "    try:\n",
    "        cancer.iloc[:,i].astype(float)\n",
    "    except:\n",
    "        print(cancer.columns[i])"
   ]
  },
  {
   "cell_type": "code",
   "execution_count": 31,
   "metadata": {},
   "outputs": [
    {
     "name": "stdout",
     "output_type": "stream",
     "text": [
      "1     401\n",
      "10    132\n",
      "5      30\n",
      "2      30\n",
      "3      28\n",
      "8      21\n",
      "4      19\n",
      "?      16\n",
      "9       9\n",
      "7       8\n",
      "6       4\n",
      "Name: 1.3, dtype: int64\n"
     ]
    }
   ],
   "source": [
    "print(cancer['1.3'].value_counts())"
   ]
  },
  {
   "cell_type": "markdown",
   "metadata": {},
   "source": [
    "It seems the feature mislabeled '1.3', which should be called 'Bare Nuclei', cannot be converted into a float type because it has many values marked with a '?', 16 in fact.  With how little data I have, I am hesitant to throw away any rows, but at the same time, I do not want to throw away any features, either.\n",
    "\n",
    "To make the best model I can, I will test how my model will function when I drop the problem data points to preserve the most features, versus when I drop the whole problem feature column, preserving the most data points."
   ]
  },
  {
   "cell_type": "markdown",
   "metadata": {},
   "source": [
    "## Making a dataset dropping problem data points\n",
    "\n",
    "I will call this data set the 'dropped row' or 'dr' version of my data"
   ]
  },
  {
   "cell_type": "code",
   "execution_count": 5,
   "metadata": {},
   "outputs": [],
   "source": [
    "null_index = cancer[cancer['1.3']=='?'].index\n",
    "null_index = list(null_index)\n",
    "cancer_dr = cancer.drop(null_index)"
   ]
  },
  {
   "cell_type": "code",
   "execution_count": 6,
   "metadata": {},
   "outputs": [],
   "source": [
    "newrow_dr = cancer_dr.columns"
   ]
  },
  {
   "cell_type": "code",
   "execution_count": 7,
   "metadata": {},
   "outputs": [],
   "source": [
    "cancer_dr.columns = ['IDNum','Thickness','Size_Uniformity','Shape_Uniformity','Adhesion','Epithelial_Size',\n",
    "                     'Bare Nuclei','Chromatin','Normal_Nucleoli','Mitoses','Class']"
   ]
  },
  {
   "cell_type": "code",
   "execution_count": 8,
   "metadata": {},
   "outputs": [],
   "source": [
    "newrow_dr = pd.Series(newrow_dr)\n",
    "newrow_dr = newrow_dr.astype(float)\n",
    "newrow_dr.index = ['IDNum','Thickness','Size_Uniformity','Shape_Uniformity','Adhesion','Epithelial_Size',\n",
    "                     'Bare Nuclei','Chromatin','Normal_Nucleoli','Mitoses','Class']\n",
    "cancer_dr = cancer_dr.append(newrow_dr, ignore_index=True)"
   ]
  },
  {
   "cell_type": "code",
   "execution_count": 9,
   "metadata": {},
   "outputs": [],
   "source": [
    "cancer_dr.Class = np.where(cancer_dr.Class==4,1,0)"
   ]
  },
  {
   "cell_type": "code",
   "execution_count": 10,
   "metadata": {
    "scrolled": true
   },
   "outputs": [
    {
     "data": {
      "text/html": [
       "<div>\n",
       "<style scoped>\n",
       "    .dataframe tbody tr th:only-of-type {\n",
       "        vertical-align: middle;\n",
       "    }\n",
       "\n",
       "    .dataframe tbody tr th {\n",
       "        vertical-align: top;\n",
       "    }\n",
       "\n",
       "    .dataframe thead th {\n",
       "        text-align: right;\n",
       "    }\n",
       "</style>\n",
       "<table border=\"1\" class=\"dataframe\">\n",
       "  <thead>\n",
       "    <tr style=\"text-align: right;\">\n",
       "      <th></th>\n",
       "      <th>IDNum</th>\n",
       "      <th>Thickness</th>\n",
       "      <th>Size_Uniformity</th>\n",
       "      <th>Shape_Uniformity</th>\n",
       "      <th>Adhesion</th>\n",
       "      <th>Epithelial_Size</th>\n",
       "      <th>Bare Nuclei</th>\n",
       "      <th>Chromatin</th>\n",
       "      <th>Normal_Nucleoli</th>\n",
       "      <th>Mitoses</th>\n",
       "      <th>Class</th>\n",
       "    </tr>\n",
       "  </thead>\n",
       "  <tbody>\n",
       "    <tr>\n",
       "      <th>0</th>\n",
       "      <td>1002945.0</td>\n",
       "      <td>5.0</td>\n",
       "      <td>4.0</td>\n",
       "      <td>4.0</td>\n",
       "      <td>5.0</td>\n",
       "      <td>7.0</td>\n",
       "      <td>10</td>\n",
       "      <td>3.0</td>\n",
       "      <td>2.0</td>\n",
       "      <td>1.0</td>\n",
       "      <td>0</td>\n",
       "    </tr>\n",
       "    <tr>\n",
       "      <th>1</th>\n",
       "      <td>1015425.0</td>\n",
       "      <td>3.0</td>\n",
       "      <td>1.0</td>\n",
       "      <td>1.0</td>\n",
       "      <td>1.0</td>\n",
       "      <td>2.0</td>\n",
       "      <td>2</td>\n",
       "      <td>3.0</td>\n",
       "      <td>1.0</td>\n",
       "      <td>1.0</td>\n",
       "      <td>0</td>\n",
       "    </tr>\n",
       "    <tr>\n",
       "      <th>2</th>\n",
       "      <td>1016277.0</td>\n",
       "      <td>6.0</td>\n",
       "      <td>8.0</td>\n",
       "      <td>8.0</td>\n",
       "      <td>1.0</td>\n",
       "      <td>3.0</td>\n",
       "      <td>4</td>\n",
       "      <td>3.0</td>\n",
       "      <td>7.0</td>\n",
       "      <td>1.0</td>\n",
       "      <td>0</td>\n",
       "    </tr>\n",
       "    <tr>\n",
       "      <th>3</th>\n",
       "      <td>1017023.0</td>\n",
       "      <td>4.0</td>\n",
       "      <td>1.0</td>\n",
       "      <td>1.0</td>\n",
       "      <td>3.0</td>\n",
       "      <td>2.0</td>\n",
       "      <td>1</td>\n",
       "      <td>3.0</td>\n",
       "      <td>1.0</td>\n",
       "      <td>1.0</td>\n",
       "      <td>0</td>\n",
       "    </tr>\n",
       "    <tr>\n",
       "      <th>4</th>\n",
       "      <td>1017122.0</td>\n",
       "      <td>8.0</td>\n",
       "      <td>10.0</td>\n",
       "      <td>10.0</td>\n",
       "      <td>8.0</td>\n",
       "      <td>7.0</td>\n",
       "      <td>10</td>\n",
       "      <td>9.0</td>\n",
       "      <td>7.0</td>\n",
       "      <td>1.0</td>\n",
       "      <td>1</td>\n",
       "    </tr>\n",
       "  </tbody>\n",
       "</table>\n",
       "</div>"
      ],
      "text/plain": [
       "       IDNum  Thickness  Size_Uniformity  Shape_Uniformity  Adhesion  \\\n",
       "0  1002945.0        5.0              4.0               4.0       5.0   \n",
       "1  1015425.0        3.0              1.0               1.0       1.0   \n",
       "2  1016277.0        6.0              8.0               8.0       1.0   \n",
       "3  1017023.0        4.0              1.0               1.0       3.0   \n",
       "4  1017122.0        8.0             10.0              10.0       8.0   \n",
       "\n",
       "   Epithelial_Size Bare Nuclei  Chromatin  Normal_Nucleoli  Mitoses  Class  \n",
       "0              7.0          10        3.0              2.0      1.0      0  \n",
       "1              2.0           2        3.0              1.0      1.0      0  \n",
       "2              3.0           4        3.0              7.0      1.0      0  \n",
       "3              2.0           1        3.0              1.0      1.0      0  \n",
       "4              7.0          10        9.0              7.0      1.0      1  "
      ]
     },
     "metadata": {},
     "output_type": "display_data"
    }
   ],
   "source": [
    "display(cancer_dr.head())"
   ]
  },
  {
   "cell_type": "code",
   "execution_count": 32,
   "metadata": {},
   "outputs": [
    {
     "name": "stdout",
     "output_type": "stream",
     "text": [
      "0    444\n",
      "1    239\n",
      "Name: Class, dtype: int64\n"
     ]
    }
   ],
   "source": [
    "print(cancer_dr['Class'].value_counts())"
   ]
  },
  {
   "cell_type": "markdown",
   "metadata": {},
   "source": [
    "There are now only 683 data points in this new data set, but it has kept more of its variance this way."
   ]
  },
  {
   "cell_type": "markdown",
   "metadata": {},
   "source": [
    "## Make a dataset dropping problem feature\n",
    "\n",
    "I will call this data set the 'dropped column' or 'dc' version of my data"
   ]
  },
  {
   "cell_type": "code",
   "execution_count": 12,
   "metadata": {},
   "outputs": [],
   "source": [
    "cancer_dc = cancer.drop('1.3',axis=1)"
   ]
  },
  {
   "cell_type": "code",
   "execution_count": 13,
   "metadata": {},
   "outputs": [],
   "source": [
    "newrow_dc = cancer_dc.columns"
   ]
  },
  {
   "cell_type": "code",
   "execution_count": 14,
   "metadata": {},
   "outputs": [],
   "source": [
    "cancer_dc.columns = ['IDNum','Thickness','Size_Uniformity','Shape_Uniformity','Adhesion',\n",
    "                  'Epithelial_Size','Chromatin','Normal_Nucleoli','Mitoses','Class']"
   ]
  },
  {
   "cell_type": "code",
   "execution_count": 15,
   "metadata": {},
   "outputs": [],
   "source": [
    "newrow_dc = pd.Series(newrow_dc)\n",
    "newrow_dc = newrow_dc.astype(float)\n",
    "newrow_dc.index = ['IDNum','Thickness','Size_Uniformity','Shape_Uniformity','Adhesion',\n",
    "                  'Epithelial_Size','Chromatin','Normal_Nucleoli','Mitoses','Class']\n",
    "cancer_dc = cancer_dc.append(newrow_dc, ignore_index=True)"
   ]
  },
  {
   "cell_type": "code",
   "execution_count": 16,
   "metadata": {},
   "outputs": [],
   "source": [
    "cancer_dc.Class = np.where(cancer_dc.Class==4,1,0)"
   ]
  },
  {
   "cell_type": "code",
   "execution_count": 17,
   "metadata": {
    "scrolled": true
   },
   "outputs": [
    {
     "data": {
      "text/html": [
       "<div>\n",
       "<style scoped>\n",
       "    .dataframe tbody tr th:only-of-type {\n",
       "        vertical-align: middle;\n",
       "    }\n",
       "\n",
       "    .dataframe tbody tr th {\n",
       "        vertical-align: top;\n",
       "    }\n",
       "\n",
       "    .dataframe thead th {\n",
       "        text-align: right;\n",
       "    }\n",
       "</style>\n",
       "<table border=\"1\" class=\"dataframe\">\n",
       "  <thead>\n",
       "    <tr style=\"text-align: right;\">\n",
       "      <th></th>\n",
       "      <th>IDNum</th>\n",
       "      <th>Thickness</th>\n",
       "      <th>Size_Uniformity</th>\n",
       "      <th>Shape_Uniformity</th>\n",
       "      <th>Adhesion</th>\n",
       "      <th>Epithelial_Size</th>\n",
       "      <th>Chromatin</th>\n",
       "      <th>Normal_Nucleoli</th>\n",
       "      <th>Mitoses</th>\n",
       "      <th>Class</th>\n",
       "    </tr>\n",
       "  </thead>\n",
       "  <tbody>\n",
       "    <tr>\n",
       "      <th>0</th>\n",
       "      <td>1002945.0</td>\n",
       "      <td>5.0</td>\n",
       "      <td>4.0</td>\n",
       "      <td>4.0</td>\n",
       "      <td>5.0</td>\n",
       "      <td>7.0</td>\n",
       "      <td>3.0</td>\n",
       "      <td>2.0</td>\n",
       "      <td>1.0</td>\n",
       "      <td>0</td>\n",
       "    </tr>\n",
       "    <tr>\n",
       "      <th>1</th>\n",
       "      <td>1015425.0</td>\n",
       "      <td>3.0</td>\n",
       "      <td>1.0</td>\n",
       "      <td>1.0</td>\n",
       "      <td>1.0</td>\n",
       "      <td>2.0</td>\n",
       "      <td>3.0</td>\n",
       "      <td>1.0</td>\n",
       "      <td>1.0</td>\n",
       "      <td>0</td>\n",
       "    </tr>\n",
       "    <tr>\n",
       "      <th>2</th>\n",
       "      <td>1016277.0</td>\n",
       "      <td>6.0</td>\n",
       "      <td>8.0</td>\n",
       "      <td>8.0</td>\n",
       "      <td>1.0</td>\n",
       "      <td>3.0</td>\n",
       "      <td>3.0</td>\n",
       "      <td>7.0</td>\n",
       "      <td>1.0</td>\n",
       "      <td>0</td>\n",
       "    </tr>\n",
       "    <tr>\n",
       "      <th>3</th>\n",
       "      <td>1017023.0</td>\n",
       "      <td>4.0</td>\n",
       "      <td>1.0</td>\n",
       "      <td>1.0</td>\n",
       "      <td>3.0</td>\n",
       "      <td>2.0</td>\n",
       "      <td>3.0</td>\n",
       "      <td>1.0</td>\n",
       "      <td>1.0</td>\n",
       "      <td>0</td>\n",
       "    </tr>\n",
       "    <tr>\n",
       "      <th>4</th>\n",
       "      <td>1017122.0</td>\n",
       "      <td>8.0</td>\n",
       "      <td>10.0</td>\n",
       "      <td>10.0</td>\n",
       "      <td>8.0</td>\n",
       "      <td>7.0</td>\n",
       "      <td>9.0</td>\n",
       "      <td>7.0</td>\n",
       "      <td>1.0</td>\n",
       "      <td>1</td>\n",
       "    </tr>\n",
       "  </tbody>\n",
       "</table>\n",
       "</div>"
      ],
      "text/plain": [
       "       IDNum  Thickness  Size_Uniformity  Shape_Uniformity  Adhesion  \\\n",
       "0  1002945.0        5.0              4.0               4.0       5.0   \n",
       "1  1015425.0        3.0              1.0               1.0       1.0   \n",
       "2  1016277.0        6.0              8.0               8.0       1.0   \n",
       "3  1017023.0        4.0              1.0               1.0       3.0   \n",
       "4  1017122.0        8.0             10.0              10.0       8.0   \n",
       "\n",
       "   Epithelial_Size  Chromatin  Normal_Nucleoli  Mitoses  Class  \n",
       "0              7.0        3.0              2.0      1.0      0  \n",
       "1              2.0        3.0              1.0      1.0      0  \n",
       "2              3.0        3.0              7.0      1.0      0  \n",
       "3              2.0        3.0              1.0      1.0      0  \n",
       "4              7.0        9.0              7.0      1.0      1  "
      ]
     },
     "metadata": {},
     "output_type": "display_data"
    }
   ],
   "source": [
    "display(cancer_dc.head())"
   ]
  },
  {
   "cell_type": "code",
   "execution_count": 18,
   "metadata": {},
   "outputs": [],
   "source": [
    "X_dr = cancer_dr.drop(['IDNum','Class'], axis=1)\n",
    "Y_dr = cancer_dr.Class\n",
    "\n",
    "X_dc = cancer_dc.drop(['IDNum','Class'], axis=1)\n",
    "Y_dc = cancer_dc.Class"
   ]
  },
  {
   "cell_type": "markdown",
   "metadata": {},
   "source": [
    "This data set has the same amount of data points as the original data set, but now it only has 10 features instead of 11."
   ]
  },
  {
   "cell_type": "markdown",
   "metadata": {},
   "source": [
    "## Lasso Logistic Regression\n",
    "\n",
    "I will use Lasso Logistic Regression Modeling to predict wether or not a tumor is malignant."
   ]
  },
  {
   "cell_type": "code",
   "execution_count": 19,
   "metadata": {},
   "outputs": [
    {
     "name": "stdout",
     "output_type": "stream",
     "text": [
      "The Model was fit with C =  1\n"
     ]
    }
   ],
   "source": [
    "grid = [.01,.1, 1, 10,100,200,300,500,700, 1000, 10000] \n",
    "out = [] \n",
    "for c in grid: \n",
    "    lrl = linear_model.LogisticRegression(penalty='l1',C=c) \n",
    "    lrl.fit(X_dr, Y_dr) \n",
    "    scores = cross_val_score(lrl, X_dr, Y_dr) \n",
    "    out.append(scores.mean()) \n",
    "    bestc = grid[out.index(max(out))]\n",
    "\n",
    "lrl = linear_model.LogisticRegression(penalty='l1',C=bestc) \n",
    "lrl.fit(X_dr,Y_dr)\n",
    "print('The Model was fit with C = ',bestc)\n",
    "\n",
    "Y_predlrl = lrl.predict(X_dr)"
   ]
  },
  {
   "cell_type": "code",
   "execution_count": 20,
   "metadata": {},
   "outputs": [
    {
     "name": "stdout",
     "output_type": "stream",
     "text": [
      "Dropping Problem Rows\n",
      "\n",
      "Lasso Logistic Error Score:\n",
      "0.9707174231332357\n",
      "\n",
      "Type II Error Percentage:\n",
      "4.18 %\n",
      "\n",
      "Confusion Matrix:\n",
      "[[434  10]\n",
      " [ 10 229]]\n",
      "\n",
      "Cross Validation Score:\n",
      "0.96% +/- 0.04%\n"
     ]
    }
   ],
   "source": [
    "ben, mal = confusion_matrix(Y_dr, Y_predlrl)\n",
    "if mal[0] == 0:\n",
    "    type2 = 0\n",
    "else:\n",
    "    type2 = mal[0]/(mal[0]+mal[1])\n",
    "print(\"Dropping Problem Rows\")\n",
    "print('\\nLasso Logistic Error Score:')\n",
    "print(lrl.score(X_dr,Y_dr))\n",
    "print('\\nType II Error Percentage:')\n",
    "print(round(type2*100,2),\"%\")\n",
    "print('\\nConfusion Matrix:')\n",
    "print(confusion_matrix(Y_dr, Y_predlrl))\n",
    "cvscore = cross_val_score(lrl, X_dr, Y_dr)\n",
    "print('\\nCross Validation Score:')\n",
    "print('{}% +/- {}%'.format(round(cvscore.mean(),2),round(cvscore.std()*2,2)))"
   ]
  },
  {
   "cell_type": "code",
   "execution_count": 33,
   "metadata": {},
   "outputs": [
    {
     "name": "stdout",
     "output_type": "stream",
     "text": [
      "The Model was fit with C =  0.1\n"
     ]
    }
   ],
   "source": [
    "grid = [.01,.1, 1, 10,100,200,300,500,700, 1000, 10000] \n",
    "out = [] \n",
    "for c in grid: \n",
    "    lrl = linear_model.LogisticRegression(penalty='l1',C=c) \n",
    "    lrl.fit(X_dc, Y_dc) \n",
    "    scores = cross_val_score(lrl, X_dc, Y_dc) \n",
    "    out.append(scores.mean()) \n",
    "    bestc = grid[out.index(max(out))]\n",
    "\n",
    "lrl = linear_model.LogisticRegression(penalty='l1',C=bestc) \n",
    "lrl.fit(X_dc,Y_dc)\n",
    "print('The Model was fit with C = ',bestc)\n",
    "\n",
    "Y_predlrl = lrl.predict(X_dc)"
   ]
  },
  {
   "cell_type": "code",
   "execution_count": 35,
   "metadata": {},
   "outputs": [
    {
     "name": "stdout",
     "output_type": "stream",
     "text": [
      "Dropping Problem Columns\n",
      "\n",
      "Lasso Logistic Error Score:\n",
      "0.9613733905579399\n",
      "\n",
      "Type II Error Percentage:\n",
      "5.39 %\n",
      "\n",
      "Confusion Matrix:\n",
      "[[444  14]\n",
      " [ 13 228]]\n",
      "\n",
      "Cross Validation Score:\n",
      "0.95% +/- 0.05%\n"
     ]
    }
   ],
   "source": [
    "ben, mal = confusion_matrix(Y_dc, Y_predlrl)\n",
    "if mal[0] == 0:\n",
    "    type2 = 0\n",
    "else:\n",
    "    type2 = mal[0]/(mal[0]+mal[1])\n",
    "print(\"Dropping Problem Columns\")\n",
    "print('\\nLasso Logistic Error Score:')\n",
    "print(lrl.score(X_dc,Y_dc))\n",
    "print('\\nType II Error Percentage:')\n",
    "print(round(type2*100,2),\"%\")\n",
    "print('\\nConfusion Matrix:')\n",
    "print(confusion_matrix(Y_dc, Y_predlrl))\n",
    "cvscore = cross_val_score(lrl, X_dc, Y_dc)\n",
    "print('\\nCross Validation Score:')\n",
    "print('{}% +/- {}%'.format(round(cvscore.mean(),2),round(cvscore.std()*2,2)))"
   ]
  },
  {
   "cell_type": "markdown",
   "metadata": {},
   "source": [
    "The Lasso Logistic Regression model appears to perform ever so slightly better when dropping rows than columns from the data."
   ]
  },
  {
   "cell_type": "markdown",
   "metadata": {},
   "source": [
    "# Random Forest\n",
    "\n",
    "I will use Random Forest Regression modeling to predict whether or not a tumor is malignant."
   ]
  },
  {
   "cell_type": "code",
   "execution_count": 25,
   "metadata": {},
   "outputs": [],
   "source": [
    "rfc = ensemble.RandomForestClassifier()\n",
    "\n",
    "rfc.fit(X_dr,Y_dr)\n",
    "\n",
    "Y_predrfc = rfc.predict(X_dr)"
   ]
  },
  {
   "cell_type": "code",
   "execution_count": 26,
   "metadata": {
    "scrolled": true
   },
   "outputs": [
    {
     "name": "stdout",
     "output_type": "stream",
     "text": [
      "Dropping Problem Rows\n",
      "\n",
      "Random Forest Error Score:\n",
      "0.9956076134699854\n",
      "\n",
      "Type II Error Percentage:\n",
      "0 %\n",
      "\n",
      "Confusion Matrix:\n",
      "[[441   3]\n",
      " [  0 239]]\n",
      "\n",
      "Cross Validation Score:\n",
      "0.96% +/- 0.04%\n"
     ]
    }
   ],
   "source": [
    "ben, mal = confusion_matrix(Y_dr, Y_predrfc)\n",
    "if mal[0] == 0:\n",
    "    type2 = 0\n",
    "else:\n",
    "    type2 = mal[0]/(mal[0]+mal[1])\n",
    "print(\"Dropping Problem Rows\")\n",
    "print('\\nRandom Forest Error Score:')\n",
    "print(rfc.score(X_dr,Y_dr))\n",
    "print('\\nType II Error Percentage:')\n",
    "print(round(type2*100,2),\"%\")\n",
    "print('\\nConfusion Matrix:')\n",
    "print(confusion_matrix(Y_dr, Y_predrfc))\n",
    "cvscore = cross_val_score(rfc, X_dr, Y_dr)\n",
    "print('\\nCross Validation Score:')\n",
    "print('{}% +/- {}%'.format(round(cvscore.mean(),2),round(cvscore.std()*2,2)))"
   ]
  },
  {
   "cell_type": "code",
   "execution_count": 27,
   "metadata": {},
   "outputs": [],
   "source": [
    "rfc = ensemble.RandomForestClassifier()\n",
    "\n",
    "rfc.fit(X_dc,Y_dc)\n",
    "\n",
    "Y_predrfc = rfc.predict(X_dc)"
   ]
  },
  {
   "cell_type": "code",
   "execution_count": 28,
   "metadata": {
    "scrolled": true
   },
   "outputs": [
    {
     "name": "stdout",
     "output_type": "stream",
     "text": [
      "Dropping Problem Columns\n",
      "Random Forest Error Score:\n",
      "0.9971387696709585\n",
      "\n",
      "Type II Error Percentage:\n",
      "0 %\n",
      "\n",
      "Confusion Matrix:\n",
      "[[456   2]\n",
      " [  0 241]]\n",
      "\n",
      "Cross Validation Score:\n",
      "0.95% +/- 0.05%\n"
     ]
    }
   ],
   "source": [
    "ben, mal = confusion_matrix(Y_dc, Y_predrfc)\n",
    "if mal[0] == 0:\n",
    "    type2 = 0\n",
    "else:\n",
    "    type2 = mal[0]/(mal[0]+mal[1])\n",
    "print(\"Dropping Problem Columns\")\n",
    "print('Random Forest Error Score:')\n",
    "print(rfc.score(X_dc,Y_dc))\n",
    "print('\\nType II Error Percentage:')\n",
    "print(round(type2*100,2),\"%\")\n",
    "print('\\nConfusion Matrix:')\n",
    "print(confusion_matrix(Y_dc, Y_predrfc))\n",
    "cvscore = cross_val_score(rfc, X_dc, Y_dc)\n",
    "print('\\nCross Validation Score:')\n",
    "print('{}% +/- {}%'.format(round(cvscore.mean(),2),round(cvscore.std()*2,2)))"
   ]
  },
  {
   "cell_type": "markdown",
   "metadata": {},
   "source": [
    "The Random Forest model also appears to perform ever so slightly better when problem rows are dropped over problem columns. Also, the Random Forest model simply performs better overall than the Lasso Logistic Regression model.\n",
    "\n",
    "Both models appear to work best when dropping the problem data rows than when dropping the features. This is intuitive because when dropping the problem data rows in this instance, only 16 * 11 = 176 data points are lost. But, when dropping the problem feature 699 * 1 = 699 data points are lost. "
   ]
  },
  {
   "cell_type": "markdown",
   "metadata": {},
   "source": [
    "http://archive.ics.uci.edu/ml/datasets/Breast+Cancer+Wisconsin+%28Original%29"
   ]
  }
 ],
 "metadata": {
  "kernelspec": {
   "display_name": "Python 3",
   "language": "python",
   "name": "python3"
  },
  "language_info": {
   "codemirror_mode": {
    "name": "ipython",
    "version": 3
   },
   "file_extension": ".py",
   "mimetype": "text/x-python",
   "name": "python",
   "nbconvert_exporter": "python",
   "pygments_lexer": "ipython3",
   "version": "3.6.4"
  }
 },
 "nbformat": 4,
 "nbformat_minor": 2
}
