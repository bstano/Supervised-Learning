{
 "cells": [
  {
   "cell_type": "markdown",
   "metadata": {},
   "source": [
    "# Predicting Housing Costs"
   ]
  },
  {
   "cell_type": "code",
   "execution_count": 112,
   "metadata": {},
   "outputs": [],
   "source": [
    "import numpy as np\n",
    "import pandas as pd\n",
    "import matplotlib.pyplot as plt\n",
    "import seaborn as sns\n",
    "import math\n",
    "import random\n",
    "from collections import Counter\n",
    "from IPython.core.display import HTML\n",
    "from sklearn.preprocessing import StandardScaler\n",
    "from sklearn import linear_model\n",
    "import statsmodels.formula.api as smf\n",
    "import time\n",
    "import re \n",
    "\n",
    "%matplotlib inline"
   ]
  },
  {
   "cell_type": "code",
   "execution_count": 122,
   "metadata": {},
   "outputs": [],
   "source": [
    "import numpy as np\n",
    "import pandas as pd\n",
    "import codecs\n",
    "import matplotlib.pyplot as plt\n",
    "import seaborn as sns\n",
    "import re\n",
    "%matplotlib inline"
   ]
  },
  {
   "cell_type": "code",
   "execution_count": 110,
   "metadata": {},
   "outputs": [],
   "source": [
    "housing = pd.read_csv('C:\\Code\\Data\\melbourne.csv')\n"
   ]
  },
  {
   "cell_type": "code",
   "execution_count": 111,
   "metadata": {},
   "outputs": [
    {
     "name": "stdout",
     "output_type": "stream",
     "text": [
      "(8887, 21)\n"
     ]
    },
    {
     "data": {
      "text/html": [
       "<div>\n",
       "<style scoped>\n",
       "    .dataframe tbody tr th:only-of-type {\n",
       "        vertical-align: middle;\n",
       "    }\n",
       "\n",
       "    .dataframe tbody tr th {\n",
       "        vertical-align: top;\n",
       "    }\n",
       "\n",
       "    .dataframe thead th {\n",
       "        text-align: right;\n",
       "    }\n",
       "</style>\n",
       "<table border=\"1\" class=\"dataframe\">\n",
       "  <thead>\n",
       "    <tr style=\"text-align: right;\">\n",
       "      <th></th>\n",
       "      <th>Suburb</th>\n",
       "      <th>Address</th>\n",
       "      <th>Rooms</th>\n",
       "      <th>Type</th>\n",
       "      <th>Price</th>\n",
       "      <th>Method</th>\n",
       "      <th>SellerG</th>\n",
       "      <th>Date</th>\n",
       "      <th>Distance</th>\n",
       "      <th>Postcode</th>\n",
       "      <th>...</th>\n",
       "      <th>Bathroom</th>\n",
       "      <th>Car</th>\n",
       "      <th>Landsize</th>\n",
       "      <th>BuildingArea</th>\n",
       "      <th>YearBuilt</th>\n",
       "      <th>CouncilArea</th>\n",
       "      <th>Lattitude</th>\n",
       "      <th>Longtitude</th>\n",
       "      <th>Regionname</th>\n",
       "      <th>Propertycount</th>\n",
       "    </tr>\n",
       "  </thead>\n",
       "  <tbody>\n",
       "    <tr>\n",
       "      <th>2</th>\n",
       "      <td>Abbotsford</td>\n",
       "      <td>25 Bloomburg St</td>\n",
       "      <td>2</td>\n",
       "      <td>h</td>\n",
       "      <td>1035000.0</td>\n",
       "      <td>S</td>\n",
       "      <td>Biggin</td>\n",
       "      <td>4/02/2016</td>\n",
       "      <td>2.5</td>\n",
       "      <td>3067.0</td>\n",
       "      <td>...</td>\n",
       "      <td>1.0</td>\n",
       "      <td>0.0</td>\n",
       "      <td>156.0</td>\n",
       "      <td>79.0</td>\n",
       "      <td>1900.0</td>\n",
       "      <td>Yarra City Council</td>\n",
       "      <td>-37.8079</td>\n",
       "      <td>144.9934</td>\n",
       "      <td>Northern Metropolitan</td>\n",
       "      <td>4019.0</td>\n",
       "    </tr>\n",
       "    <tr>\n",
       "      <th>4</th>\n",
       "      <td>Abbotsford</td>\n",
       "      <td>5 Charles St</td>\n",
       "      <td>3</td>\n",
       "      <td>h</td>\n",
       "      <td>1465000.0</td>\n",
       "      <td>SP</td>\n",
       "      <td>Biggin</td>\n",
       "      <td>4/03/2017</td>\n",
       "      <td>2.5</td>\n",
       "      <td>3067.0</td>\n",
       "      <td>...</td>\n",
       "      <td>2.0</td>\n",
       "      <td>0.0</td>\n",
       "      <td>134.0</td>\n",
       "      <td>150.0</td>\n",
       "      <td>1900.0</td>\n",
       "      <td>Yarra City Council</td>\n",
       "      <td>-37.8093</td>\n",
       "      <td>144.9944</td>\n",
       "      <td>Northern Metropolitan</td>\n",
       "      <td>4019.0</td>\n",
       "    </tr>\n",
       "    <tr>\n",
       "      <th>6</th>\n",
       "      <td>Abbotsford</td>\n",
       "      <td>55a Park St</td>\n",
       "      <td>4</td>\n",
       "      <td>h</td>\n",
       "      <td>1600000.0</td>\n",
       "      <td>VB</td>\n",
       "      <td>Nelson</td>\n",
       "      <td>4/06/2016</td>\n",
       "      <td>2.5</td>\n",
       "      <td>3067.0</td>\n",
       "      <td>...</td>\n",
       "      <td>1.0</td>\n",
       "      <td>2.0</td>\n",
       "      <td>120.0</td>\n",
       "      <td>142.0</td>\n",
       "      <td>2014.0</td>\n",
       "      <td>Yarra City Council</td>\n",
       "      <td>-37.8072</td>\n",
       "      <td>144.9941</td>\n",
       "      <td>Northern Metropolitan</td>\n",
       "      <td>4019.0</td>\n",
       "    </tr>\n",
       "    <tr>\n",
       "      <th>11</th>\n",
       "      <td>Abbotsford</td>\n",
       "      <td>124 Yarra St</td>\n",
       "      <td>3</td>\n",
       "      <td>h</td>\n",
       "      <td>1876000.0</td>\n",
       "      <td>S</td>\n",
       "      <td>Nelson</td>\n",
       "      <td>7/05/2016</td>\n",
       "      <td>2.5</td>\n",
       "      <td>3067.0</td>\n",
       "      <td>...</td>\n",
       "      <td>2.0</td>\n",
       "      <td>0.0</td>\n",
       "      <td>245.0</td>\n",
       "      <td>210.0</td>\n",
       "      <td>1910.0</td>\n",
       "      <td>Yarra City Council</td>\n",
       "      <td>-37.8024</td>\n",
       "      <td>144.9993</td>\n",
       "      <td>Northern Metropolitan</td>\n",
       "      <td>4019.0</td>\n",
       "    </tr>\n",
       "    <tr>\n",
       "      <th>14</th>\n",
       "      <td>Abbotsford</td>\n",
       "      <td>98 Charles St</td>\n",
       "      <td>2</td>\n",
       "      <td>h</td>\n",
       "      <td>1636000.0</td>\n",
       "      <td>S</td>\n",
       "      <td>Nelson</td>\n",
       "      <td>8/10/2016</td>\n",
       "      <td>2.5</td>\n",
       "      <td>3067.0</td>\n",
       "      <td>...</td>\n",
       "      <td>1.0</td>\n",
       "      <td>2.0</td>\n",
       "      <td>256.0</td>\n",
       "      <td>107.0</td>\n",
       "      <td>1890.0</td>\n",
       "      <td>Yarra City Council</td>\n",
       "      <td>-37.8060</td>\n",
       "      <td>144.9954</td>\n",
       "      <td>Northern Metropolitan</td>\n",
       "      <td>4019.0</td>\n",
       "    </tr>\n",
       "  </tbody>\n",
       "</table>\n",
       "<p>5 rows × 21 columns</p>\n",
       "</div>"
      ],
      "text/plain": [
       "        Suburb          Address  Rooms Type      Price Method SellerG  \\\n",
       "2   Abbotsford  25 Bloomburg St      2    h  1035000.0      S  Biggin   \n",
       "4   Abbotsford     5 Charles St      3    h  1465000.0     SP  Biggin   \n",
       "6   Abbotsford      55a Park St      4    h  1600000.0     VB  Nelson   \n",
       "11  Abbotsford     124 Yarra St      3    h  1876000.0      S  Nelson   \n",
       "14  Abbotsford    98 Charles St      2    h  1636000.0      S  Nelson   \n",
       "\n",
       "         Date  Distance  Postcode      ...       Bathroom  Car  Landsize  \\\n",
       "2   4/02/2016       2.5    3067.0      ...            1.0  0.0     156.0   \n",
       "4   4/03/2017       2.5    3067.0      ...            2.0  0.0     134.0   \n",
       "6   4/06/2016       2.5    3067.0      ...            1.0  2.0     120.0   \n",
       "11  7/05/2016       2.5    3067.0      ...            2.0  0.0     245.0   \n",
       "14  8/10/2016       2.5    3067.0      ...            1.0  2.0     256.0   \n",
       "\n",
       "    BuildingArea  YearBuilt         CouncilArea Lattitude  Longtitude  \\\n",
       "2           79.0     1900.0  Yarra City Council  -37.8079    144.9934   \n",
       "4          150.0     1900.0  Yarra City Council  -37.8093    144.9944   \n",
       "6          142.0     2014.0  Yarra City Council  -37.8072    144.9941   \n",
       "11         210.0     1910.0  Yarra City Council  -37.8024    144.9993   \n",
       "14         107.0     1890.0  Yarra City Council  -37.8060    144.9954   \n",
       "\n",
       "               Regionname Propertycount  \n",
       "2   Northern Metropolitan        4019.0  \n",
       "4   Northern Metropolitan        4019.0  \n",
       "6   Northern Metropolitan        4019.0  \n",
       "11  Northern Metropolitan        4019.0  \n",
       "14  Northern Metropolitan        4019.0  \n",
       "\n",
       "[5 rows x 21 columns]"
      ]
     },
     "metadata": {},
     "output_type": "display_data"
    }
   ],
   "source": [
    "housing = housing.dropna()\n",
    "print(housing.shape)\n",
    "display(housing.head())"
   ]
  },
  {
   "cell_type": "markdown",
   "metadata": {},
   "source": [
    "Data is too large for more complex models, I can only model party of it. "
   ]
  },
  {
   "cell_type": "code",
   "execution_count": 39,
   "metadata": {},
   "outputs": [],
   "source": [
    "trainlen = int(len(housing['Price'])/2)\n",
    "housingt = housing.iloc[:4000, :]"
   ]
  },
  {
   "cell_type": "markdown",
   "metadata": {},
   "source": [
    "Decision Tree"
   ]
  },
  {
   "cell_type": "code",
   "execution_count": 33,
   "metadata": {},
   "outputs": [
    {
     "name": "stdout",
     "output_type": "stream",
     "text": [
      "0.27669842203834233\n",
      "\n",
      "Runtime: --- 0.014957427978515625 seconds ---\n"
     ]
    }
   ],
   "source": [
    "from sklearn import tree\n",
    "start_time = time.time()\n",
    "# Initialize and train our tree.\n",
    "decision_tree = tree.DecisionTreeRegressor(\n",
    "    max_features=2,\n",
    "    max_depth=4,\n",
    ")\n",
    "X = housingt.drop(housingt[['Price','SellerG','Address','Lattitude','Longtitude','Propertycount','Distance']], 1)\n",
    "Y = housingt['Price']\n",
    "X = pd.get_dummies(X)\n",
    "decision_tree.fit(X, Y)\n",
    "print(decision_tree.score(X,Y))\n",
    "print(\"\\nRuntime: --- %s seconds ---\" % (time.time() - start_time))"
   ]
  },
  {
   "cell_type": "code",
   "execution_count": null,
   "metadata": {},
   "outputs": [],
   "source": []
  },
  {
   "cell_type": "code",
   "execution_count": 60,
   "metadata": {},
   "outputs": [
    {
     "name": "stdout",
     "output_type": "stream",
     "text": [
      "0.9607089659056527\n",
      "\n",
      "Error: 0.70 (+/- 0.11)\n",
      "\n",
      "Runtime: --- 1.137601613998413 seconds ---\n"
     ]
    }
   ],
   "source": [
    "from sklearn import ensemble\n",
    "from sklearn.model_selection import cross_val_score\n",
    "import time\n",
    "start_time = time.time()\n",
    "rfr = ensemble.RandomForestRegressor(max_features=15)\n",
    "X = housingt.drop(housingt[['Price','SellerG','Address','Lattitude','Longtitude','Propertycount','Distance']], 1)\n",
    "Y = housingt['Price']\n",
    "X = pd.get_dummies(X)\n",
    "rfr.fit(X,Y)\n",
    "\n",
    "print(rfr.score(X,Y))\n",
    "score_ols = cross_val_score(rfr, X, Y, cv=10)\n",
    "print(\"\\nError: %0.2f (+/- %0.2f)\" % (score_ols.mean(), score_ols.std() * 2))\n",
    "print(\"\\nRuntime: --- %s seconds ---\" % (time.time() - start_time))"
   ]
  },
  {
   "cell_type": "code",
   "execution_count": 44,
   "metadata": {},
   "outputs": [
    {
     "name": "stdout",
     "output_type": "stream",
     "text": [
      "0.8821017628172924\n",
      "\n",
      "Error: 0.76 (+/- 0.13)\n",
      "\n",
      "Runtime: --- 19.534478187561035 seconds ---\n"
     ]
    }
   ],
   "source": [
    "start_time = time.time()\n",
    "gbr = ensemble.GradientBoostingRegressor()\n",
    "gbr.fit(X,Y)\n",
    "\n",
    "print(gbr.score(X,Y))\n",
    "score_ols = cross_val_score(gbr, X, Y, cv=10)\n",
    "print(\"\\nError: %0.2f (+/- %0.2f)\" % (score_ols.mean(), score_ols.std() * 2))\n",
    "print(\"\\nRuntime: --- %s seconds ---\" % (time.time() - start_time))"
   ]
  },
  {
   "cell_type": "markdown",
   "metadata": {},
   "source": [
    "The random forest regressor seems to be function much better with the data that the boosted decision tree, so  will continue forward with it."
   ]
  },
  {
   "cell_type": "code",
   "execution_count": null,
   "metadata": {},
   "outputs": [],
   "source": [
    "rfr."
   ]
  },
  {
   "cell_type": "code",
   "execution_count": 61,
   "metadata": {},
   "outputs": [
    {
     "data": {
      "text/plain": [
       "array([7.78784255e-02, 6.10797305e-02, 1.21885883e-01, 8.79672709e-02,\n",
       "       2.83398964e-02, 6.53817610e-02, 9.64327084e-02, 6.78685290e-02,\n",
       "       1.42941416e-04, 8.08209577e-04, 3.02427480e-04, 3.95900123e-03,\n",
       "       5.71149964e-05, 3.48223983e-04, 1.13863753e-04, 4.09440078e-05,\n",
       "       3.10606290e-03, 3.94971667e-04, 3.99570729e-04, 5.70590508e-04,\n",
       "       2.08495259e-04, 6.03320190e-05, 3.00978735e-03, 1.72005114e-03,\n",
       "       1.28707926e-05, 4.06301938e-04, 2.80543284e-03, 8.78024050e-04,\n",
       "       2.30506482e-04, 4.17136647e-03, 6.21201581e-04, 1.12664582e-06,\n",
       "       9.14700342e-04, 3.24064510e-04, 1.88370236e-04, 1.57981098e-04,\n",
       "       1.26649119e-05, 3.31792546e-04, 4.77929767e-03, 1.81877283e-03,\n",
       "       1.58433284e-04, 1.22334545e-03, 3.03930424e-04, 2.08517006e-04,\n",
       "       4.18851065e-06, 1.52858526e-04, 3.73276529e-04, 2.13160088e-04,\n",
       "       6.99660301e-04, 5.30947673e-04, 2.49821645e-04, 3.17655313e-04,\n",
       "       1.13397778e-04, 3.31730243e-04, 9.27535697e-04, 2.82076550e-04,\n",
       "       4.93531114e-04, 6.52503079e-04, 6.73514394e-04, 7.77975384e-06,\n",
       "       3.46236599e-05, 4.13114953e-04, 5.04199268e-04, 1.34983567e-03,\n",
       "       8.47812237e-04, 8.10386462e-05, 4.50403815e-04, 2.00474879e-04,\n",
       "       6.43287206e-05, 5.71851959e-03, 1.54638760e-03, 1.16844156e-04,\n",
       "       4.03729914e-04, 7.45911627e-04, 5.50236344e-05, 3.10812292e-03,\n",
       "       7.08314593e-04, 1.53867113e-04, 4.02073792e-04, 1.48226195e-04,\n",
       "       1.77074832e-04, 5.40407520e-04, 4.14803888e-04, 5.25335678e-05,\n",
       "       2.77917870e-04, 1.55249881e-04, 6.61802465e-05, 3.22799615e-04,\n",
       "       4.41613784e-03, 2.01627895e-04, 9.91204744e-05, 4.79993967e-05,\n",
       "       4.53723540e-05, 4.61301469e-03, 1.07689323e-03, 1.88547784e-04,\n",
       "       1.25181676e-05, 7.87100983e-04, 3.65995377e-04, 4.41528991e-04,\n",
       "       3.86249806e-04, 2.19474822e-04, 3.15267518e-04, 1.34700554e-04,\n",
       "       1.15808207e-03, 3.11990307e-03, 5.11429878e-05, 2.14068684e-04,\n",
       "       6.31459884e-05, 3.52870556e-04, 4.36107975e-04, 5.25890986e-04,\n",
       "       8.35393016e-04, 2.99848081e-04, 8.22110831e-04, 4.30481590e-05,\n",
       "       1.72616775e-03, 9.06613326e-04, 1.05878147e-06, 3.62169032e-04,\n",
       "       0.00000000e+00, 1.76116432e-04, 2.96572789e-05, 4.20917752e-04,\n",
       "       2.78777645e-03, 2.22085635e-05, 4.52691253e-05, 1.29069340e-03,\n",
       "       1.04398976e-04, 6.76139111e-05, 2.31428558e-04, 1.68194099e-04,\n",
       "       4.79984888e-04, 5.30709187e-04, 5.90961907e-04, 1.87787690e-04,\n",
       "       8.25001335e-03, 1.46824256e-04, 1.77524210e-04, 2.35778274e-05,\n",
       "       2.76305548e-04, 5.73778516e-05, 1.90272897e-03, 6.14542044e-06,\n",
       "       1.91110979e-04, 1.51116948e-04, 3.55087147e-04, 5.04393092e-02,\n",
       "       8.54749461e-03, 1.77068552e-02, 5.34046882e-03, 7.52635651e-03,\n",
       "       1.80994928e-04, 4.51074794e-03, 3.26550419e-03, 1.87492944e-03,\n",
       "       2.36873836e-03, 5.11675795e-04, 4.52096271e-04, 7.37627707e-04,\n",
       "       3.66148471e-03, 3.80749357e-03, 1.56346990e-03, 3.11827138e-03,\n",
       "       1.84875990e-03, 8.46643410e-04, 1.83275084e-03, 1.91642935e-03,\n",
       "       1.87739620e-03, 3.44524823e-03, 1.18084610e-03, 1.30128452e-03,\n",
       "       4.86925087e-04, 6.75515081e-04, 3.02822579e-03, 1.50916481e-03,\n",
       "       1.06641369e-03, 4.92154094e-03, 1.85656867e-03, 1.24610846e-03,\n",
       "       2.93293337e-05, 1.46266428e-03, 3.35002747e-03, 6.64820405e-04,\n",
       "       1.24498784e-04, 3.48871328e-03, 1.69044896e-03, 1.02771827e-03,\n",
       "       1.75271095e-03, 1.19787078e-03, 3.78724504e-05, 1.16772934e-03,\n",
       "       1.11987593e-03, 8.21916193e-03, 1.85883492e-02, 4.89924668e-03,\n",
       "       1.44195128e-03, 4.52402992e-03, 7.70958944e-04, 1.05251855e-03,\n",
       "       2.35938911e-03, 2.07822560e-03, 2.16234779e-03, 4.74315999e-03,\n",
       "       2.72518777e-03, 3.07137294e-03, 1.24764800e-03, 3.28126457e-03,\n",
       "       1.08113686e-02, 3.86193787e-04, 3.23149030e-03, 2.99712841e-03,\n",
       "       9.69186887e-03, 6.24639389e-04, 3.05540531e-02, 9.12117215e-03])"
      ]
     },
     "execution_count": 61,
     "metadata": {},
     "output_type": "execute_result"
    }
   ],
   "source": [
    "rfr.feature_importances_"
   ]
  },
  {
   "cell_type": "code",
   "execution_count": 55,
   "metadata": {},
   "outputs": [
    {
     "data": {
      "text/plain": [
       "217"
      ]
     },
     "execution_count": 55,
     "metadata": {},
     "output_type": "execute_result"
    }
   ],
   "source": [
    "rfr.n_features_"
   ]
  },
  {
   "cell_type": "code",
   "execution_count": 63,
   "metadata": {},
   "outputs": [
    {
     "data": {
      "image/png": "[encoded data removed]",
      "text/plain": [
       "<Figure size 432x288 with 1 Axes>"
      ]
     },
     "metadata": {},
     "output_type": "display_data"
    }
   ],
   "source": [
    "feature_importance = rfr.feature_importances_\n",
    "\n",
    "# Make importances relative to max importance.\n",
    "feature_importance = 100.0 * (feature_importance / feature_importance.max())\n",
    "sorted_idx = np.argsort(feature_importance)\n",
    "pos = np.arange(sorted_idx.shape[0]) + .5\n",
    "plt.subplot(1, 2, 2)\n",
    "plt.barh(pos, feature_importance[sorted_idx], align='center')\n",
    "plt.yticks(pos, X.columns[sorted_idx])\n",
    "plt.xlabel('Relative Importance')\n",
    "plt.title('Variable Importance')\n",
    "plt.show()"
   ]
  },
  {
   "cell_type": "code",
   "execution_count": 139,
   "metadata": {},
   "outputs": [],
   "source": [
    "features = X.columns[sorted_idx]"
   ]
  },
  {
   "cell_type": "code",
   "execution_count": 147,
   "metadata": {},
   "outputs": [
    {
     "ename": "AttributeError",
     "evalue": "module 'pandas' has no attribute 'array'",
     "output_type": "error",
     "traceback": [
      "\u001b[1;31m---------------------------------------------------------------------------\u001b[0m",
      "\u001b[1;31mAttributeError\u001b[0m                            Traceback (most recent call last)",
      "\u001b[1;32m<ipython-input-147-8308d2888efb>\u001b[0m in \u001b[0;36m<module>\u001b[1;34m()\u001b[0m\n\u001b[1;32m----> 1\u001b[1;33m \u001b[0mfeatures\u001b[0m \u001b[1;33m=\u001b[0m \u001b[0mpd\u001b[0m\u001b[1;33m.\u001b[0m\u001b[0marray\u001b[0m\u001b[1;33m(\u001b[0m\u001b[0mfeatures\u001b[0m\u001b[1;33m)\u001b[0m\u001b[1;33m\u001b[0m\u001b[0m\n\u001b[0m",
      "\u001b[1;31mAttributeError\u001b[0m: module 'pandas' has no attribute 'array'"
     ]
    }
   ],
   "source": [
    "features = pd.array(features)"
   ]
  },
  {
   "cell_type": "code",
   "execution_count": 1,
   "metadata": {
    "scrolled": true
   },
   "outputs": [
    {
     "data": {
      "text/plain": [
       "'absdjnHEYcmdkcndk'"
      ]
     },
     "execution_count": 1,
     "metadata": {},
     "output_type": "execute_result"
    }
   ],
   "source": [
    "hey = 'absdjnHEYcmdkcndk'\n",
    "hey.replace('[A-Z]','b')"
   ]
  },
  {
   "cell_type": "code",
   "execution_count": 127,
   "metadata": {
    "scrolled": true
   },
   "outputs": [
    {
     "data": {
      "text/plain": [
       "['absdjn', '', '', 'cmdkcndk']"
      ]
     },
     "execution_count": 127,
     "metadata": {},
     "output_type": "execute_result"
    }
   ],
   "source": [
    "re.split('[A-Z]',hey)"
   ]
  },
  {
   "cell_type": "code",
   "execution_count": 142,
   "metadata": {},
   "outputs": [
    {
     "data": {
      "text/plain": [
       "'absdjncmdkcndk'"
      ]
     },
     "execution_count": 142,
     "metadata": {},
     "output_type": "execute_result"
    }
   ],
   "source": [
    "re.sub('[A-Z]','',hey)"
   ]
  },
  {
   "cell_type": "code",
   "execution_count": 145,
   "metadata": {},
   "outputs": [
    {
     "data": {
      "text/plain": [
       "Index(['Suburb_Seaholme', 'Suburb_Ripponlea', 'Suburb_Brooklyn',\n",
       "       'Suburb_Caulfield East', 'Suburb_Williamstown North',\n",
       "       'Suburb_Essendon North', 'Suburb_Melbourne', 'Suburb_Burnley',\n",
       "       'Suburb_Bellfield', 'Suburb_Southbank',\n",
       "       ...\n",
       "       'Car', 'Regionname_Southern Metropolitan', 'Type_h', 'Postcode',\n",
       "       'Landsize', 'YearBuilt', 'Rooms', 'Bathroom', 'BuildingArea',\n",
       "       'Bedroom2'],\n",
       "      dtype='object', length=216)"
      ]
     },
     "execution_count": 145,
     "metadata": {},
     "output_type": "execute_result"
    }
   ],
   "source": [
    "for f in features:\n",
    "    f = re.sub('[A-Z]','',f)\n",
    "features"
   ]
  },
  {
   "cell_type": "code",
   "execution_count": 105,
   "metadata": {},
   "outputs": [
    {
     "data": {
      "text/plain": [
       "['SuburbSeaholme',\n",
       " 'SuburbRipponlea',\n",
       " 'SuburbBrooklyn',\n",
       " 'SuburbCaulfield East',\n",
       " 'SuburbWilliamstown North',\n",
       " 'SuburbEssendon North',\n",
       " 'SuburbMelbourne',\n",
       " 'SuburbBurnley',\n",
       " 'SuburbBellfield',\n",
       " 'SuburbSouthbank',\n",
       " 'SuburbWatsonia',\n",
       " 'Date29/04/2017',\n",
       " 'SuburbSouth Kingsville',\n",
       " 'SuburbEssendon West',\n",
       " 'Date8/04/2017',\n",
       " 'SuburbAltona North',\n",
       " 'SuburbPrinces Hill',\n",
       " 'SuburbSpotswood',\n",
       " 'SuburbMaidstone',\n",
       " 'SuburbKingsville',\n",
       " 'SuburbOak Park',\n",
       " 'SuburbJacana',\n",
       " 'SuburbHampton East',\n",
       " 'SuburbAlbion',\n",
       " 'SuburbWest Melbourne',\n",
       " 'SuburbBalaclava',\n",
       " 'SuburbOakleigh South',\n",
       " 'SuburbGlen Huntly',\n",
       " 'SuburbKeilor Park',\n",
       " 'SuburbStrathmore Heights',\n",
       " 'SuburbFlemington',\n",
       " 'SuburbKingsbury',\n",
       " 'SuburbStrathmore',\n",
       " 'SuburbCremorne',\n",
       " 'SuburbAltona',\n",
       " 'SuburbGowanbrae',\n",
       " 'Date4/02/2016',\n",
       " 'SuburbNiddrie',\n",
       " 'SuburbAbbotsford',\n",
       " 'SuburbTravancore',\n",
       " 'SuburbHeidelberg West',\n",
       " 'SuburbYallambie',\n",
       " 'SuburbCaulfield North',\n",
       " 'SuburbHeidelberg',\n",
       " 'SuburbKeilor East',\n",
       " 'SuburbBulleen',\n",
       " 'SuburbCarlton',\n",
       " 'SuburbSunshine North',\n",
       " 'SuburbSeddon',\n",
       " 'SuburbHughesdale',\n",
       " 'SuburbViewbank',\n",
       " 'MethodSA',\n",
       " 'SuburbThornbury',\n",
       " 'SuburbBrunswick West',\n",
       " 'SuburbMaribyrnong',\n",
       " 'SuburbWindsor',\n",
       " 'SuburbGardenvale',\n",
       " 'SuburbKew East',\n",
       " 'SuburbAvondale Heights',\n",
       " 'SuburbCaulfield',\n",
       " 'SuburbChadstone',\n",
       " 'SuburbOakleigh',\n",
       " 'SuburbMurrumbeena',\n",
       " 'SuburbBraybrook',\n",
       " 'SuburbSunshine',\n",
       " 'SuburbCoburg North',\n",
       " 'SuburbWest Footscray',\n",
       " 'SuburbKealba',\n",
       " 'SuburbEast Melbourne',\n",
       " 'SuburbPrahran',\n",
       " 'SuburbAirport West',\n",
       " 'SuburbCarnegie',\n",
       " 'SuburbNewport',\n",
       " 'SuburbCollingwood',\n",
       " 'SuburbKensington',\n",
       " 'SuburbBrunswick East',\n",
       " 'SuburbDoncaster',\n",
       " 'SuburbBurwood',\n",
       " 'SuburbAlphington',\n",
       " 'SuburbOrmond',\n",
       " 'SuburbYarraville',\n",
       " 'SuburbRosanna',\n",
       " 'SuburbMont Albert',\n",
       " 'SuburbCaulfield South',\n",
       " 'CouncilAreaWhitehorse City Council',\n",
       " 'SuburbMoorabbin',\n",
       " 'SuburbAscot Vale',\n",
       " 'SuburbAshburton',\n",
       " 'SuburbHeidelberg Heights',\n",
       " 'SuburbHadfield',\n",
       " 'SuburbBentleigh',\n",
       " 'SuburbFairfield',\n",
       " 'SuburbIvanhoe East',\n",
       " 'SuburbSouth Melbourne',\n",
       " 'SuburbParkville',\n",
       " 'SuburbMoonee Ponds',\n",
       " 'SuburbFootscray',\n",
       " 'Date11/03/2017',\n",
       " 'SuburbSunshine West',\n",
       " 'Date23/04/2016',\n",
       " 'SuburbElsternwick',\n",
       " 'SuburbFawkner',\n",
       " 'Date11/02/2017',\n",
       " 'SuburbPascoe Vale',\n",
       " 'SuburbSurrey Hills',\n",
       " 'SuburbCoburg',\n",
       " 'SuburbIvanhoe',\n",
       " 'SuburbAshwood',\n",
       " 'SuburbTemplestowe Lower',\n",
       " 'SuburbBrighton East',\n",
       " 'RegionnameSouth-Eastern Metropolitan',\n",
       " 'SuburbElwood',\n",
       " 'Date30/07/2016',\n",
       " 'SuburbEssendon',\n",
       " 'Date24/09/2016',\n",
       " 'SuburbClifton Hill',\n",
       " 'SuburbHawthorn East',\n",
       " 'Date12/06/2016',\n",
       " 'SuburbHampton',\n",
       " 'CouncilAreaHobsons Bay City Council',\n",
       " 'SuburbMiddle Park',\n",
       " 'SuburbAberfeldie',\n",
       " 'SuburbPreston',\n",
       " 'SuburbPort Melbourne',\n",
       " 'Date16/07/2016',\n",
       " 'SuburbFitzroy North',\n",
       " 'SuburbBox Hill',\n",
       " 'SuburbRichmond',\n",
       " 'SuburbBrunswick',\n",
       " 'SuburbEaglemont',\n",
       " 'Date6/08/2016',\n",
       " 'CouncilAreaHume City Council',\n",
       " 'Date27/06/2016',\n",
       " 'SuburbMalvern East',\n",
       " 'CouncilAreaBanyule City Council',\n",
       " 'SuburbNorth Melbourne',\n",
       " 'Date8/10/2016',\n",
       " 'Date22/05/2016',\n",
       " 'Date7/11/2016',\n",
       " 'SuburbCarlton North',\n",
       " 'Date28/08/2016',\n",
       " 'CouncilAreaMoreland City Council',\n",
       " 'SuburbSt Kilda',\n",
       " 'Date22/08/2016',\n",
       " 'SuburbFitzroy',\n",
       " 'CouncilAreaDarebin City Council',\n",
       " 'Date3/09/2016',\n",
       " 'Date26/07/2016',\n",
       " 'SuburbGlenroy',\n",
       " 'Date14/05/2016',\n",
       " 'Date4/06/2016',\n",
       " 'SuburbBalwyn North',\n",
       " 'SuburbReservoir',\n",
       " 'Date7/05/2016',\n",
       " 'SuburbCanterbury',\n",
       " 'Date17/09/2016',\n",
       " 'Date16/04/2016',\n",
       " 'Date28/05/2016',\n",
       " 'Date10/09/2016',\n",
       " 'Date18/06/2016',\n",
       " 'SuburbWilliamstown',\n",
       " 'Date18/03/2017',\n",
       " 'CouncilAreaManningham City Council',\n",
       " 'CouncilAreaMaribyrnong City Council',\n",
       " 'CouncilAreaKingston City Council',\n",
       " 'Date10/12/2016',\n",
       " 'CouncilAreaMonash City Council',\n",
       " 'SuburbSouth Yarra',\n",
       " 'SuburbBentleigh East',\n",
       " 'RegionnameEastern Metropolitan',\n",
       " 'SuburbBalwyn',\n",
       " 'Date25/02/2017',\n",
       " 'CouncilAreaMoonee Valley City Council',\n",
       " 'SuburbArmadale',\n",
       " 'SuburbHawthorn',\n",
       " 'Date15/10/2016',\n",
       " 'SuburbNorthcote',\n",
       " 'CouncilAreaYarra City Council',\n",
       " 'MethodVB',\n",
       " 'CouncilAreaPort Phillip City Council',\n",
       " 'Date3/12/2016',\n",
       " 'Date19/11/2016',\n",
       " 'Date4/03/2017',\n",
       " 'Date12/11/2016',\n",
       " 'Date13/08/2016',\n",
       " 'SuburbAlbert Park',\n",
       " 'SuburbBrighton',\n",
       " 'SuburbKew',\n",
       " 'MethodSP',\n",
       " 'CouncilAreaGlen Eira City Council',\n",
       " 'SuburbMalvern',\n",
       " 'CouncilAreaMelbourne City Council',\n",
       " 'SuburbCamberwell',\n",
       " 'CouncilAreaBrimbank City Council',\n",
       " 'Date27/11/2016',\n",
       " 'MethodPI',\n",
       " 'SuburbGlen Iris',\n",
       " 'MethodS',\n",
       " 'CouncilAreaBayside City Council',\n",
       " 'SuburbToorak',\n",
       " 'Typet',\n",
       " 'RegionnameWestern Metropolitan',\n",
       " 'RegionnameNorthern Metropolitan',\n",
       " 'CouncilAreaStonnington City Council',\n",
       " 'Typeu',\n",
       " 'CouncilAreaBoroondara City Council',\n",
       " 'Car',\n",
       " 'RegionnameSouthern Metropolitan',\n",
       " 'Typeh',\n",
       " 'Postcode',\n",
       " 'Landsize',\n",
       " 'YearBuilt',\n",
       " 'Rooms',\n",
       " 'Bathroom',\n",
       " 'BuildingArea',\n",
       " 'Bedroom2']"
      ]
     },
     "execution_count": 105,
     "metadata": {},
     "output_type": "execute_result"
    }
   ],
   "source": [
    "features = [s.replace('_','') for s in features]\n",
    "features"
   ]
  },
  {
   "cell_type": "code",
   "execution_count": null,
   "metadata": {},
   "outputs": [],
   "source": []
  }
 ],
 "metadata": {
  "kernelspec": {
   "display_name": "Python 3",
   "language": "python",
   "name": "python3"
  },
  "language_info": {
   "codemirror_mode": {
    "name": "ipython",
    "version": 3
   },
   "file_extension": ".py",
   "mimetype": "text/x-python",
   "name": "python",
   "nbconvert_exporter": "python",
   "pygments_lexer": "ipython3",
   "version": "3.6.4"
  }
 },
 "nbformat": 4,
 "nbformat_minor": 2
}
