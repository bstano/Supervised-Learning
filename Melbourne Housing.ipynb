{
 "cells": [
  {
   "cell_type": "code",
   "execution_count": 1,
   "metadata": {},
   "outputs": [],
   "source": [
    "import numpy as np\n",
    "import pandas as pd\n",
    "import matplotlib.pyplot as plt\n",
    "import seaborn as sns\n",
    "import math\n",
    "import random\n",
    "from collections import Counter\n",
    "from sklearn.preprocessing import StandardScaler\n",
    "from sklearn import linear_model\n",
    "import statsmodels.formula.api as smf\n",
    "from sklearn.model_selection import cross_val_score\n",
    "from sklearn.utils import resample\n",
    "from sklearn.tree import DecisionTreeRegressor\n",
    "from sklearn.ensemble import RandomForestRegressor\n",
    "from sklearn.ensemble import GradientBoostingRegressor\n",
    "from sklearn.ensemble import AdaBoostRegressor\n",
    "%matplotlib inline"
   ]
  },
  {
   "cell_type": "markdown",
   "metadata": {},
   "source": [
    "# Predicting Housing Costs\n",
    "\n",
    "I want to make a model than can predict housing prices. However, I don't just want to be able to predict the price of a house, I want insight into how the price is determined.  I want to know what aspects or features of a house are most important in determining price. \n",
    "\n",
    "To accomplish this, I will use data from the Melborne housing market."
   ]
  },
  {
   "cell_type": "code",
   "execution_count": 2,
   "metadata": {},
   "outputs": [],
   "source": [
    "housing = pd.read_csv('C:\\Code\\Data\\melbourne.csv')"
   ]
  },
  {
   "cell_type": "code",
   "execution_count": 3,
   "metadata": {},
   "outputs": [
    {
     "name": "stdout",
     "output_type": "stream",
     "text": [
      "(8887, 21)\n"
     ]
    },
    {
     "data": {
      "text/html": [
       "<div>\n",
       "<style scoped>\n",
       "    .dataframe tbody tr th:only-of-type {\n",
       "        vertical-align: middle;\n",
       "    }\n",
       "\n",
       "    .dataframe tbody tr th {\n",
       "        vertical-align: top;\n",
       "    }\n",
       "\n",
       "    .dataframe thead th {\n",
       "        text-align: right;\n",
       "    }\n",
       "</style>\n",
       "<table border=\"1\" class=\"dataframe\">\n",
       "  <thead>\n",
       "    <tr style=\"text-align: right;\">\n",
       "      <th></th>\n",
       "      <th>Suburb</th>\n",
       "      <th>Address</th>\n",
       "      <th>Rooms</th>\n",
       "      <th>Type</th>\n",
       "      <th>Price</th>\n",
       "      <th>Method</th>\n",
       "      <th>SellerG</th>\n",
       "      <th>Date</th>\n",
       "      <th>Distance</th>\n",
       "      <th>Postcode</th>\n",
       "      <th>...</th>\n",
       "      <th>Bathroom</th>\n",
       "      <th>Car</th>\n",
       "      <th>Landsize</th>\n",
       "      <th>BuildingArea</th>\n",
       "      <th>YearBuilt</th>\n",
       "      <th>CouncilArea</th>\n",
       "      <th>Lattitude</th>\n",
       "      <th>Longtitude</th>\n",
       "      <th>Regionname</th>\n",
       "      <th>Propertycount</th>\n",
       "    </tr>\n",
       "  </thead>\n",
       "  <tbody>\n",
       "    <tr>\n",
       "      <th>2</th>\n",
       "      <td>Abbotsford</td>\n",
       "      <td>25 Bloomburg St</td>\n",
       "      <td>2</td>\n",
       "      <td>h</td>\n",
       "      <td>1035000.0</td>\n",
       "      <td>S</td>\n",
       "      <td>Biggin</td>\n",
       "      <td>4/02/2016</td>\n",
       "      <td>2.5</td>\n",
       "      <td>3067.0</td>\n",
       "      <td>...</td>\n",
       "      <td>1.0</td>\n",
       "      <td>0.0</td>\n",
       "      <td>156.0</td>\n",
       "      <td>79.0</td>\n",
       "      <td>1900.0</td>\n",
       "      <td>Yarra City Council</td>\n",
       "      <td>-37.8079</td>\n",
       "      <td>144.9934</td>\n",
       "      <td>Northern Metropolitan</td>\n",
       "      <td>4019.0</td>\n",
       "    </tr>\n",
       "    <tr>\n",
       "      <th>4</th>\n",
       "      <td>Abbotsford</td>\n",
       "      <td>5 Charles St</td>\n",
       "      <td>3</td>\n",
       "      <td>h</td>\n",
       "      <td>1465000.0</td>\n",
       "      <td>SP</td>\n",
       "      <td>Biggin</td>\n",
       "      <td>4/03/2017</td>\n",
       "      <td>2.5</td>\n",
       "      <td>3067.0</td>\n",
       "      <td>...</td>\n",
       "      <td>2.0</td>\n",
       "      <td>0.0</td>\n",
       "      <td>134.0</td>\n",
       "      <td>150.0</td>\n",
       "      <td>1900.0</td>\n",
       "      <td>Yarra City Council</td>\n",
       "      <td>-37.8093</td>\n",
       "      <td>144.9944</td>\n",
       "      <td>Northern Metropolitan</td>\n",
       "      <td>4019.0</td>\n",
       "    </tr>\n",
       "    <tr>\n",
       "      <th>6</th>\n",
       "      <td>Abbotsford</td>\n",
       "      <td>55a Park St</td>\n",
       "      <td>4</td>\n",
       "      <td>h</td>\n",
       "      <td>1600000.0</td>\n",
       "      <td>VB</td>\n",
       "      <td>Nelson</td>\n",
       "      <td>4/06/2016</td>\n",
       "      <td>2.5</td>\n",
       "      <td>3067.0</td>\n",
       "      <td>...</td>\n",
       "      <td>1.0</td>\n",
       "      <td>2.0</td>\n",
       "      <td>120.0</td>\n",
       "      <td>142.0</td>\n",
       "      <td>2014.0</td>\n",
       "      <td>Yarra City Council</td>\n",
       "      <td>-37.8072</td>\n",
       "      <td>144.9941</td>\n",
       "      <td>Northern Metropolitan</td>\n",
       "      <td>4019.0</td>\n",
       "    </tr>\n",
       "    <tr>\n",
       "      <th>11</th>\n",
       "      <td>Abbotsford</td>\n",
       "      <td>124 Yarra St</td>\n",
       "      <td>3</td>\n",
       "      <td>h</td>\n",
       "      <td>1876000.0</td>\n",
       "      <td>S</td>\n",
       "      <td>Nelson</td>\n",
       "      <td>7/05/2016</td>\n",
       "      <td>2.5</td>\n",
       "      <td>3067.0</td>\n",
       "      <td>...</td>\n",
       "      <td>2.0</td>\n",
       "      <td>0.0</td>\n",
       "      <td>245.0</td>\n",
       "      <td>210.0</td>\n",
       "      <td>1910.0</td>\n",
       "      <td>Yarra City Council</td>\n",
       "      <td>-37.8024</td>\n",
       "      <td>144.9993</td>\n",
       "      <td>Northern Metropolitan</td>\n",
       "      <td>4019.0</td>\n",
       "    </tr>\n",
       "    <tr>\n",
       "      <th>14</th>\n",
       "      <td>Abbotsford</td>\n",
       "      <td>98 Charles St</td>\n",
       "      <td>2</td>\n",
       "      <td>h</td>\n",
       "      <td>1636000.0</td>\n",
       "      <td>S</td>\n",
       "      <td>Nelson</td>\n",
       "      <td>8/10/2016</td>\n",
       "      <td>2.5</td>\n",
       "      <td>3067.0</td>\n",
       "      <td>...</td>\n",
       "      <td>1.0</td>\n",
       "      <td>2.0</td>\n",
       "      <td>256.0</td>\n",
       "      <td>107.0</td>\n",
       "      <td>1890.0</td>\n",
       "      <td>Yarra City Council</td>\n",
       "      <td>-37.8060</td>\n",
       "      <td>144.9954</td>\n",
       "      <td>Northern Metropolitan</td>\n",
       "      <td>4019.0</td>\n",
       "    </tr>\n",
       "  </tbody>\n",
       "</table>\n",
       "<p>5 rows × 21 columns</p>\n",
       "</div>"
      ],
      "text/plain": [
       "        Suburb          Address  Rooms Type      Price Method SellerG  \\\n",
       "2   Abbotsford  25 Bloomburg St      2    h  1035000.0      S  Biggin   \n",
       "4   Abbotsford     5 Charles St      3    h  1465000.0     SP  Biggin   \n",
       "6   Abbotsford      55a Park St      4    h  1600000.0     VB  Nelson   \n",
       "11  Abbotsford     124 Yarra St      3    h  1876000.0      S  Nelson   \n",
       "14  Abbotsford    98 Charles St      2    h  1636000.0      S  Nelson   \n",
       "\n",
       "         Date  Distance  Postcode      ...       Bathroom  Car  Landsize  \\\n",
       "2   4/02/2016       2.5    3067.0      ...            1.0  0.0     156.0   \n",
       "4   4/03/2017       2.5    3067.0      ...            2.0  0.0     134.0   \n",
       "6   4/06/2016       2.5    3067.0      ...            1.0  2.0     120.0   \n",
       "11  7/05/2016       2.5    3067.0      ...            2.0  0.0     245.0   \n",
       "14  8/10/2016       2.5    3067.0      ...            1.0  2.0     256.0   \n",
       "\n",
       "    BuildingArea  YearBuilt         CouncilArea Lattitude  Longtitude  \\\n",
       "2           79.0     1900.0  Yarra City Council  -37.8079    144.9934   \n",
       "4          150.0     1900.0  Yarra City Council  -37.8093    144.9944   \n",
       "6          142.0     2014.0  Yarra City Council  -37.8072    144.9941   \n",
       "11         210.0     1910.0  Yarra City Council  -37.8024    144.9993   \n",
       "14         107.0     1890.0  Yarra City Council  -37.8060    144.9954   \n",
       "\n",
       "               Regionname Propertycount  \n",
       "2   Northern Metropolitan        4019.0  \n",
       "4   Northern Metropolitan        4019.0  \n",
       "6   Northern Metropolitan        4019.0  \n",
       "11  Northern Metropolitan        4019.0  \n",
       "14  Northern Metropolitan        4019.0  \n",
       "\n",
       "[5 rows x 21 columns]"
      ]
     },
     "metadata": {},
     "output_type": "display_data"
    }
   ],
   "source": [
    "housing = housing.dropna()\n",
    "print(housing.shape)\n",
    "display(housing.head())"
   ]
  },
  {
   "cell_type": "markdown",
   "metadata": {},
   "source": [
    "The data has 8887 rows by 21 columns. \n",
    "\n",
    "\n",
    "# Modeling the Data \n",
    "\n",
    "Data is too large for more complex models, I can only model part of it. As such, I will split the data into training and testing splits of data. Additionally, I will drop the columns, 'SellerG' (real estate agent), 'Address'(address of the house), 'Lattitude', 'Longtitude', and 'Distance'(distance to agent) columns."
   ]
  },
  {
   "cell_type": "code",
   "execution_count": 4,
   "metadata": {},
   "outputs": [],
   "source": [
    "# initialize variables\n",
    "X = housing.drop(housing[['Price','SellerG','Address','Lattitude','Longtitude','Distance']], 1)\n",
    "Y = housing['Price']\n",
    "# get dummy variables for x\n",
    "X = pd.get_dummies(X)\n"
   ]
  },
  {
   "cell_type": "markdown",
   "metadata": {},
   "source": [
    "### Adaptive Boosted Decision Tree"
   ]
  },
  {
   "cell_type": "code",
   "execution_count": 5,
   "metadata": {},
   "outputs": [
    {
     "data": {
      "text/plain": [
       "AdaBoostRegressor(base_estimator=DecisionTreeRegressor(criterion='mse', max_depth=None, max_features=None,\n",
       "           max_leaf_nodes=None, min_impurity_decrease=0.0,\n",
       "           min_impurity_split=None, min_samples_leaf=1,\n",
       "           min_samples_split=2, min_weight_fraction_leaf=0.0,\n",
       "           presort=False, random_state=None, splitter='best'),\n",
       "         learning_rate=1.0, loss='linear', n_estimators=50,\n",
       "         random_state=None)"
      ]
     },
     "execution_count": 5,
     "metadata": {},
     "output_type": "execute_result"
    }
   ],
   "source": [
    "abr = AdaBoostRegressor(DecisionTreeRegressor())\n",
    "abr.fit(X,Y)"
   ]
  },
  {
   "cell_type": "code",
   "execution_count": 6,
   "metadata": {
    "scrolled": true
   },
   "outputs": [
    {
     "name": "stdout",
     "output_type": "stream",
     "text": [
      "R squared for Adaptive Boosted Decision Trees:\n",
      "0.9995552544366445\n",
      "\n",
      "Error: 0.77 (+/- 0.09)\n"
     ]
    }
   ],
   "source": [
    "print(\"R squared for Adaptive Boosted Decision Trees:\")\n",
    "print(abr.score(X,Y))\n",
    "score_ols = cross_val_score(abr, X, Y, cv=10)\n",
    "print(\"\\nError: %0.2f (+/- %0.2f)\" % (score_ols.mean(), score_ols.std() * 2))"
   ]
  },
  {
   "cell_type": "markdown",
   "metadata": {},
   "source": [
    "### Random Forest"
   ]
  },
  {
   "cell_type": "code",
   "execution_count": 7,
   "metadata": {
    "scrolled": true
   },
   "outputs": [
    {
     "data": {
      "text/plain": [
       "RandomForestRegressor(bootstrap=True, criterion='mse', max_depth=None,\n",
       "           max_features='auto', max_leaf_nodes=None,\n",
       "           min_impurity_decrease=0.0, min_impurity_split=None,\n",
       "           min_samples_leaf=1, min_samples_split=2,\n",
       "           min_weight_fraction_leaf=0.0, n_estimators=10, n_jobs=1,\n",
       "           oob_score=False, random_state=None, verbose=0, warm_start=False)"
      ]
     },
     "execution_count": 7,
     "metadata": {},
     "output_type": "execute_result"
    }
   ],
   "source": [
    "rfr = RandomForestRegressor()\n",
    "rfr.fit(X,Y)"
   ]
  },
  {
   "cell_type": "code",
   "execution_count": 8,
   "metadata": {
    "scrolled": true
   },
   "outputs": [
    {
     "name": "stdout",
     "output_type": "stream",
     "text": [
      "R squared for Random Forest:\n",
      "0.962963481150247\n",
      "\n",
      "Error: 0.76 (+/- 0.10)\n"
     ]
    }
   ],
   "source": [
    "print(\"R squared for Random Forest:\")\n",
    "print(rfr.score(X,Y))\n",
    "score_ols = cross_val_score(rfr, X, Y, cv=10)\n",
    "print(\"\\nError: %0.2f (+/- %0.2f)\" % (score_ols.mean(), score_ols.std() * 2))"
   ]
  },
  {
   "cell_type": "markdown",
   "metadata": {},
   "source": [
    "### Gradient Boosted Decision Tree"
   ]
  },
  {
   "cell_type": "code",
   "execution_count": 9,
   "metadata": {},
   "outputs": [
    {
     "data": {
      "text/plain": [
       "GradientBoostingRegressor(alpha=0.9, criterion='friedman_mse', init=None,\n",
       "             learning_rate=0.1, loss='ls', max_depth=3, max_features=None,\n",
       "             max_leaf_nodes=None, min_impurity_decrease=0.0,\n",
       "             min_impurity_split=None, min_samples_leaf=1,\n",
       "             min_samples_split=2, min_weight_fraction_leaf=0.0,\n",
       "             n_estimators=100, presort='auto', random_state=None,\n",
       "             subsample=1.0, verbose=0, warm_start=False)"
      ]
     },
     "execution_count": 9,
     "metadata": {},
     "output_type": "execute_result"
    }
   ],
   "source": [
    "gbr = GradientBoostingRegressor()\n",
    "gbr.fit(X,Y)"
   ]
  },
  {
   "cell_type": "code",
   "execution_count": 10,
   "metadata": {},
   "outputs": [
    {
     "name": "stdout",
     "output_type": "stream",
     "text": [
      "R squared for Gradient Boosted Decision Trees:\n",
      "0.8098013123669009\n",
      "\n",
      "Error: 0.74 (+/- 0.10)\n"
     ]
    }
   ],
   "source": [
    "print(\"R squared for Gradient Boosted Decision Trees:\")\n",
    "print(gbr.score(X,Y))\n",
    "score_ols = cross_val_score(gbr, X, Y, cv=10)\n",
    "print(\"\\nError: %0.2f (+/- %0.2f)\" % (score_ols.mean(), score_ols.std() * 2))"
   ]
  },
  {
   "cell_type": "markdown",
   "metadata": {},
   "source": [
    "The adaptive boosted tree certainly seems to be the best performing model. Not only does it have the best R-squared valued, but it also shows the least signs of overfitting. \n",
    "\n",
    "While the random forest may not perform as well as the adaptive one, it is still a strong and usuable model, showing slightly more signs of overfitting. \n",
    "\n",
    "The boosted decision tree functions the worst overall by far, having an error score well below useability and a comparatively abyssmal cross validation score. "
   ]
  },
  {
   "cell_type": "markdown",
   "metadata": {},
   "source": [
    "# Finding Feature Importance\n",
    "\n",
    "From the start, I wanted to know what variables where the most impactful when predicting the price of a house.\n",
    "\n",
    "Now that which models I can rely on, I will determine the feature imporance according to my model. First, I will extract the feature importance from the adaptive boosted model and the random forest model. Then, I will plot the feature importances of each to get a bettere idea of which features are most important when determining the price of a house."
   ]
  },
  {
   "cell_type": "code",
   "execution_count": 11,
   "metadata": {},
   "outputs": [],
   "source": [
    "# store importances from adaptive boosted tree and random forest\n",
    "feature_importance_abr = abr.feature_importances_\n",
    "feature_importance_rfr = rfr.feature_importances_\n",
    "\n",
    "# sort adaptive boosted importances\n",
    "sorted_idx_abr = np.argsort(feature_importance_abr)\n",
    "pos_abr = np.arange(sorted_idx_abr.shape[0])\n",
    "# split adaptive boosted dummy names apart\n",
    "dummy_fnames_abr = pd.Series(X.columns[sorted_idx_abr])\n",
    "dummy_fsplit_abr = dummy_fnames_abr.str.split('_')\n",
    "# create of list of the original column of each dummy variable\n",
    "feature_names_abr =[]\n",
    "for n in dummy_fsplit_abr:\n",
    "    feature_names_abr.append(n[0])\n",
    "    \n",
    "# sort random forest importances\n",
    "sorted_idx_rfr = np.argsort(feature_importance_rfr)\n",
    "pos_rfr = np.arange(sorted_idx_rfr.shape[0])\n",
    "# split dummy names apart\n",
    "dummy_fnames_rfr = pd.Series(X.columns[sorted_idx_rfr])\n",
    "dummy_fsplit_rfr = dummy_fnames_rfr.str.split('_')\n",
    "# create of list of the original column of each dummy variable\n",
    "feature_names_rfr =[]\n",
    "for n in dummy_fsplit_rfr:\n",
    "    feature_names_rfr.append(n[0])\n",
    "    \n",
    "# initiate feature importance dataframe    \n",
    "fi = pd.DataFrame()\n",
    "fi['name_abr'] = feature_names_abr\n",
    "fi['importance_abr'] = pos_abr\n",
    "fi['name_rfr'] = feature_names_rfr\n",
    "fi['importance_rfr'] = pos_rfr\n",
    "\n",
    "# average the importance of all features\n",
    "fi_abr = fi[['importance_abr','name_abr']].groupby('name_abr').mean()\n",
    "# sort fi by importance\n",
    "fi_abr = fi_abr.sort_values(by='importance_abr')\n",
    "# set feature importance relative to a max\n",
    "fi_abr['importance'] = 100.0 * (fi_abr['importance_abr'] / fi_abr['importance_abr'].max())\n",
    "# average the importance of all features\n",
    "fi_rfr = fi[['importance_rfr','name_rfr']].groupby('name_rfr').mean()\n",
    "# sort fi by importance\n",
    "fi_rfr = fi_rfr.sort_values(by='importance_rfr')\n",
    "# set feature importance relative to a max\n",
    "fi_rfr['importance'] = 100.0 * (fi_rfr['importance_rfr'] / fi_rfr['importance_rfr'].max())"
   ]
  },
  {
   "cell_type": "code",
   "execution_count": 12,
   "metadata": {},
   "outputs": [
    {
     "data": {
      "image/png": "[encoded data removed]",
      "text/plain": [
       "<Figure size 576x288 with 1 Axes>"
      ]
     },
     "metadata": {},
     "output_type": "display_data"
    },
    {
     "data": {
      "image/png": "[encoded data removed]",
      "text/plain": [
       "<Figure size 576x288 with 1 Axes>"
      ]
     },
     "metadata": {},
     "output_type": "display_data"
    }
   ],
   "source": [
    "# plot adaptive boosted importances\n",
    "plt.figure(figsize=(8, 4))\n",
    "plt.barh(list(fi_abr.index), fi_abr['importance'], align='center')\n",
    "plt.yticks(list(fi_abr.index))\n",
    "plt.xlabel('Relative Importance')\n",
    "plt.title('Adaptive Boosted Trees Relative Feature Importance')\n",
    "plt.show()\n",
    "\n",
    "# plot random forest importances\n",
    "plt.figure(figsize=(8, 4))\n",
    "plt.barh(list(fi_rfr.index), fi_rfr['importance'], align='center')\n",
    "plt.yticks(list(fi_rfr.index))\n",
    "plt.xlabel('Relative Importance')\n",
    "plt.title('Random Forest Relative Feature Importance')\n",
    "plt.show()"
   ]
  },
  {
   "cell_type": "markdown",
   "metadata": {},
   "source": [
    "# Conclusion\n",
    "\n",
    "Both of my models have similar predictions for feature importance, making me feel more confident in their importance estimations.\n",
    "\n",
    "Both models think that __BuildingArea__, __YearBuilt__, __LandSize__, and __Postcode__ are the top 4 most important features. From there, the models swap between __Propertycount__ and __Bathroom__ as the most 5th and 6th most important. \n",
    "\n",
    "Both agree that __Rooms__ is the 7th most important. Then, the models again swap between __Bedroom2__ and __Car__ as the 8th and 9th most important features. And again, the models swap between __Type__ and __Method__ as the 10th and 11th most important features.\n",
    "\n",
    "Finally, both agree that __Date__, __RegionName__, __CouncilArea__, and __Suburb__ are the least important features at 12th, 13th, 14th, and 15th.\n",
    "\n",
    "While there may be some uncertainty on the exact value and placement of certain features' importances, I now have a pretty good idea what are the most important aspects for a house's price on the market. "
   ]
  },
  {
   "cell_type": "markdown",
   "metadata": {},
   "source": [
    "https://www.kaggle.com/anthonypino/melbourne-housing-market"
   ]
  }
 ],
 "metadata": {
  "kernelspec": {
   "display_name": "Python 3",
   "language": "python",
   "name": "python3"
  },
  "language_info": {
   "codemirror_mode": {
    "name": "ipython",
    "version": 3
   },
   "file_extension": ".py",
   "mimetype": "text/x-python",
   "name": "python",
   "nbconvert_exporter": "python",
   "pygments_lexer": "ipython3",
   "version": "3.6.4"
  }
 },
 "nbformat": 4,
 "nbformat_minor": 2
}
