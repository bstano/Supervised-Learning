{
 "cells": [
  {
   "cell_type": "markdown",
   "metadata": {},
   "source": [
    "# Creating a Sentiment Predictor\n",
    "\n",
    "I want to create a sentiment predictor that can predict the sentiment of a sentence by the word choice of the writer.\n",
    "\n",
    "To develop this model, I will use review data from Amazon, specifically from their music department."
   ]
  },
  {
   "cell_type": "code",
   "execution_count": 1,
   "metadata": {},
   "outputs": [],
   "source": [
    "import numpy as np\n",
    "import pandas as pd\n",
    "import matplotlib.pyplot as plt\n",
    "import seaborn as sns\n",
    "import math\n",
    "import codecs\n",
    "import random\n",
    "from collections import Counter\n",
    "from IPython.core.display import HTML\n",
    "from sklearn.naive_bayes import BernoulliNB\n",
    "from sklearn.preprocessing import StandardScaler\n",
    "from sklearn.svm import SVC\n",
    "from sklearn import ensemble\n",
    "from sklearn.model_selection import cross_val_score\n",
    "from sklearn.metrics import confusion_matrix\n",
    "from sklearn.utils import resample\n",
    "\n",
    "%matplotlib inline"
   ]
  },
  {
   "cell_type": "markdown",
   "metadata": {},
   "source": [
    "## Importing the Data"
   ]
  },
  {
   "cell_type": "code",
   "execution_count": 2,
   "metadata": {},
   "outputs": [],
   "source": [
    "import json \n",
    "\n",
    "with open('C:\\\\Code\\\\Data\\\\music.json') as f: \n",
    "    music = pd.DataFrame(json.loads(line) for line in f)"
   ]
  },
  {
   "cell_type": "code",
   "execution_count": 3,
   "metadata": {},
   "outputs": [
    {
     "name": "stdout",
     "output_type": "stream",
     "text": [
      "(10261, 9)\n"
     ]
    },
    {
     "data": {
      "text/html": [
       "<div>\n",
       "<style scoped>\n",
       "    .dataframe tbody tr th:only-of-type {\n",
       "        vertical-align: middle;\n",
       "    }\n",
       "\n",
       "    .dataframe tbody tr th {\n",
       "        vertical-align: top;\n",
       "    }\n",
       "\n",
       "    .dataframe thead th {\n",
       "        text-align: right;\n",
       "    }\n",
       "</style>\n",
       "<table border=\"1\" class=\"dataframe\">\n",
       "  <thead>\n",
       "    <tr style=\"text-align: right;\">\n",
       "      <th></th>\n",
       "      <th>asin</th>\n",
       "      <th>helpful</th>\n",
       "      <th>overall</th>\n",
       "      <th>reviewText</th>\n",
       "      <th>reviewTime</th>\n",
       "      <th>reviewerID</th>\n",
       "      <th>reviewerName</th>\n",
       "      <th>summary</th>\n",
       "      <th>unixReviewTime</th>\n",
       "    </tr>\n",
       "  </thead>\n",
       "  <tbody>\n",
       "    <tr>\n",
       "      <th>0</th>\n",
       "      <td>1384719342</td>\n",
       "      <td>[0, 0]</td>\n",
       "      <td>5.0</td>\n",
       "      <td>Not much to write about here, but it does exac...</td>\n",
       "      <td>02 28, 2014</td>\n",
       "      <td>A2IBPI20UZIR0U</td>\n",
       "      <td>cassandra tu \"Yeah, well, that's just like, u...</td>\n",
       "      <td>good</td>\n",
       "      <td>1393545600</td>\n",
       "    </tr>\n",
       "    <tr>\n",
       "      <th>1</th>\n",
       "      <td>1384719342</td>\n",
       "      <td>[13, 14]</td>\n",
       "      <td>5.0</td>\n",
       "      <td>The product does exactly as it should and is q...</td>\n",
       "      <td>03 16, 2013</td>\n",
       "      <td>A14VAT5EAX3D9S</td>\n",
       "      <td>Jake</td>\n",
       "      <td>Jake</td>\n",
       "      <td>1363392000</td>\n",
       "    </tr>\n",
       "    <tr>\n",
       "      <th>2</th>\n",
       "      <td>1384719342</td>\n",
       "      <td>[1, 1]</td>\n",
       "      <td>5.0</td>\n",
       "      <td>The primary job of this device is to block the...</td>\n",
       "      <td>08 28, 2013</td>\n",
       "      <td>A195EZSQDW3E21</td>\n",
       "      <td>Rick Bennette \"Rick Bennette\"</td>\n",
       "      <td>It Does The Job Well</td>\n",
       "      <td>1377648000</td>\n",
       "    </tr>\n",
       "    <tr>\n",
       "      <th>3</th>\n",
       "      <td>1384719342</td>\n",
       "      <td>[0, 0]</td>\n",
       "      <td>5.0</td>\n",
       "      <td>Nice windscreen protects my MXL mic and preven...</td>\n",
       "      <td>02 14, 2014</td>\n",
       "      <td>A2C00NNG1ZQQG2</td>\n",
       "      <td>RustyBill \"Sunday Rocker\"</td>\n",
       "      <td>GOOD WINDSCREEN FOR THE MONEY</td>\n",
       "      <td>1392336000</td>\n",
       "    </tr>\n",
       "    <tr>\n",
       "      <th>4</th>\n",
       "      <td>1384719342</td>\n",
       "      <td>[0, 0]</td>\n",
       "      <td>5.0</td>\n",
       "      <td>This pop filter is great. It looks and perform...</td>\n",
       "      <td>02 21, 2014</td>\n",
       "      <td>A94QU4C90B1AX</td>\n",
       "      <td>SEAN MASLANKA</td>\n",
       "      <td>No more pops when I record my vocals.</td>\n",
       "      <td>1392940800</td>\n",
       "    </tr>\n",
       "  </tbody>\n",
       "</table>\n",
       "</div>"
      ],
      "text/plain": [
       "         asin   helpful  overall  \\\n",
       "0  1384719342    [0, 0]      5.0   \n",
       "1  1384719342  [13, 14]      5.0   \n",
       "2  1384719342    [1, 1]      5.0   \n",
       "3  1384719342    [0, 0]      5.0   \n",
       "4  1384719342    [0, 0]      5.0   \n",
       "\n",
       "                                          reviewText   reviewTime  \\\n",
       "0  Not much to write about here, but it does exac...  02 28, 2014   \n",
       "1  The product does exactly as it should and is q...  03 16, 2013   \n",
       "2  The primary job of this device is to block the...  08 28, 2013   \n",
       "3  Nice windscreen protects my MXL mic and preven...  02 14, 2014   \n",
       "4  This pop filter is great. It looks and perform...  02 21, 2014   \n",
       "\n",
       "       reviewerID                                      reviewerName  \\\n",
       "0  A2IBPI20UZIR0U  cassandra tu \"Yeah, well, that's just like, u...   \n",
       "1  A14VAT5EAX3D9S                                              Jake   \n",
       "2  A195EZSQDW3E21                     Rick Bennette \"Rick Bennette\"   \n",
       "3  A2C00NNG1ZQQG2                         RustyBill \"Sunday Rocker\"   \n",
       "4   A94QU4C90B1AX                                     SEAN MASLANKA   \n",
       "\n",
       "                                 summary  unixReviewTime  \n",
       "0                                   good      1393545600  \n",
       "1                                   Jake      1363392000  \n",
       "2                   It Does The Job Well      1377648000  \n",
       "3          GOOD WINDSCREEN FOR THE MONEY      1392336000  \n",
       "4  No more pops when I record my vocals.      1392940800  "
      ]
     },
     "metadata": {},
     "output_type": "display_data"
    }
   ],
   "source": [
    "print(music.shape)\n",
    "display(music.head())"
   ]
  },
  {
   "cell_type": "code",
   "execution_count": 4,
   "metadata": {},
   "outputs": [
    {
     "data": {
      "text/plain": [
       "0        Not much to write about here, but it does exac...\n",
       "1        The product does exactly as it should and is q...\n",
       "2        The primary job of this device is to block the...\n",
       "3        Nice windscreen protects my MXL mic and preven...\n",
       "4        This pop filter is great. It looks and perform...\n",
       "5        So good that I bought another one.  Love the h...\n",
       "6        I have used monster cables for years, and with...\n",
       "8        Perfect for my Epiphone Sheraton II.  Monster ...\n",
       "9        Monster makes the best cables and a lifetime w...\n",
       "10       Monster makes a wide array of cables, includin...\n",
       "11       I got it to have it if I needed it. I have fou...\n",
       "13       I love it, I used this for my Yamaha ypt-230 a...\n",
       "14       I bought this to use in my home studio to cont...\n",
       "16       This Fender cable is the perfect length for me...\n",
       "17       wanted it just on looks alone...It is a nice l...\n",
       "18       I've been using these cables for more than 4 m...\n",
       "19       Fender cords look great and work just as well....\n",
       "20       This is a cool looking cheap cable which works...\n",
       "21       The Fender 18 Feet California Clear Instrument...\n",
       "22       Very good cable. Well made and it looks great ...\n",
       "23       Got this cable to run a rockband keyboard cont...\n",
       "24       When I was searching for MIDI cables for my AR...\n",
       "25       Cant go wrong. Great quality on a budget price...\n",
       "26       The ends of the midi cable look and feel like ...\n",
       "27       Just trying to find a midi to midi was a task,...\n",
       "28       The Hosa XLR cables are affordable and very he...\n",
       "29       I bought these to go from my board to the amp....\n",
       "30       Sturdy cord and plugs, inexpensive, good value...\n",
       "31       Use it every week at gigs.  Solid, no problems...\n",
       "32       Hosa products are a good bang for the buck. I ...\n",
       "                               ...                        \n",
       "10228    I usually play an .11 on top and first grabbed...\n",
       "10229    I've been using Ernie Balls cobalt slinky ligh...\n",
       "10230    I have used D' Addario electric guitar strings...\n",
       "10231    For a long time, I never thought much about gu...\n",
       "10232    My father is a full-time gigging musician prim...\n",
       "10233    D'Addario has always been one of the best stri...\n",
       "10234    I usually use Gibson Vintage Nickle Strings on...\n",
       "10235    Excellent tone, and I'm a bit surprised by tha...\n",
       "10236    I've been stringing my guitars with D'Addario ...\n",
       "10238    These have a nice bright sound and are easy on...\n",
       "10239    D'Addario's NYXL1046 Nickel Plated Electric Gu...\n",
       "10240    Just put these on my Martin DCX1E and they sou...\n",
       "10241    I ordered this for my husband, the musician. H...\n",
       "10242    I had used Elixer strings for several years on...\n",
       "10243    I can't speak on the claim for a longer string...\n",
       "10244    Great product with nice feel and tone. I'm onl...\n",
       "10245    I have reviewed these strings before, and fran...\n",
       "10246    I had the opportunity to try a set of Elixir N...\n",
       "10248    I put these strings on my Guild acoustic elect...\n",
       "10249    I ordered this for my husband, the musician.  ...\n",
       "10250    I had used Elixer strings for several years on...\n",
       "10251    True to phosphor bronze these strings have a m...\n",
       "10252    I've used Elixirs for about five years now. Th...\n",
       "10253    I'm a D'Addario man myself, but hey free is fr...\n",
       "10254    I really like these strings.  While they are n...\n",
       "10256              Great, just as expected.  Thank to all.\n",
       "10257    I've been thinking about trying the Nanoweb st...\n",
       "10258    I have tried coated strings in the past ( incl...\n",
       "10259    Well, MADE by Elixir and DEVELOPED with Taylor...\n",
       "10260    These strings are really quite good, but I wou...\n",
       "Name: reviewText, Length: 9022, dtype: object"
      ]
     },
     "execution_count": 4,
     "metadata": {},
     "output_type": "execute_result"
    }
   ],
   "source": [
    "music.reviewText[music.overall>=4]"
   ]
  },
  {
   "cell_type": "code",
   "execution_count": 5,
   "metadata": {},
   "outputs": [
    {
     "data": {
      "text/plain": [
       "15       I bought this to use with my keyboard. I wasn'...\n",
       "50       I didn't expect this cable to be so thin. It's...\n",
       "52       It hums, crackles, and I think I'm having prob...\n",
       "89       I'm a pro-cheapo and I hated this thing. They'...\n",
       "98       I bought this for my Canon Vixia HF G10 Video ...\n",
       "144      I got 3 of these to plug XLR cables into the 1...\n",
       "223      Received it in time, standard blister packagin...\n",
       "224      These things are terrible. One wouldn't fit in...\n",
       "286      The handle and spring strength make this uncom...\n",
       "335      it's good but think its a bit expensive for ju...\n",
       "376      The Epiphone Les Paul guitars don't particular...\n",
       "408      This is a cheap piece of junk that does what i...\n",
       "412      From Greg Abrams review, entitled \"For all but...\n",
       "413      Here's the deal with this pedal. It is inexpen...\n",
       "482      If you want your guitar to sound like Eddie Va...\n",
       "542      These came stock on my Jackson Kelly KEXMG. Al...\n",
       "544      I was very disappointed in both the quality an...\n",
       "546      Sorry, I don't like these as they're just too ...\n",
       "604      the thing is that they don't seem to stay! i m...\n",
       "606      I purchased this after reading the great revie...\n",
       "608      wind screen is way too big its bulky and to me...\n",
       "611      I ordered this product to use for personal rec...\n",
       "646      Well, what can I say? Based on the customer re...\n",
       "687      As the title states, this is a lightly padded ...\n",
       "696      I got this for my Boss Loop Station, but it do...\n",
       "715      I bought the wrong gauge. I read a review that...\n",
       "759      Long story short, this string set has a strong...\n",
       "788      I've been playing guitar for over 40 years, an...\n",
       "824      I can't hear the sounds of the strings over th...\n",
       "895      another item never received but i would not us...\n",
       "                               ...                        \n",
       "9719     It seems to do nothing as an effect and draws ...\n",
       "9766     Can't hold tightly on 1st string (low C), a li...\n",
       "9777     UPDATE: received 6 of these. 5 are ok but one ...\n",
       "9779     This is a cheap stand and I was not surprised ...\n",
       "9822     I dont know what all the hype is over this thi...\n",
       "9826     I have checked this amp out twice, once with a...\n",
       "9865     When I originally went out to place this order...\n",
       "9870     If you only want to use this thing as a detune...\n",
       "9897     I got one of these from another source but hav...\n",
       "9907     No manual.  You can print one off the internet...\n",
       "9912     For the price I can hardly complain, but unfor...\n",
       "9943     I have been using this gig bag for the past fe...\n",
       "9945     This thing is crap right out of the box it had...\n",
       "9951     Manufacturer's website claimed that this case ...\n",
       "9965     Returned this item because the zipper was alre...\n",
       "9966     A great little package for the price, but unfo...\n",
       "9978     straight out of the box this product reeked ch...\n",
       "10015    Amazon and TC Electronics will not tell you th...\n",
       "10016    Let me start by saying that this is a really c...\n",
       "10027    Soooo bummed. I simply love the sound on these...\n",
       "10045    I love Tascam gear, and have used it for nearl...\n",
       "10110    The concept of this guitar stand is great, and...\n",
       "10114    Cheap. The best way to describe this stand. It...\n",
       "10153    The TASCAM TH-2000 headphones are like putting...\n",
       "10169    I purchased this pedal at a local music store ...\n",
       "10171    I really wanted to like these, but they're a f...\n",
       "10178    The larger ones sometimes have the neck snap s...\n",
       "10187    The tension screw adjustment remains the best ...\n",
       "10189    I am a fan of Planet Waves NS capos, but this ...\n",
       "10247    I was looking forward to trying these, as I've...\n",
       "Name: reviewText, Length: 467, dtype: object"
      ]
     },
     "execution_count": 5,
     "metadata": {},
     "output_type": "execute_result"
    }
   ],
   "source": [
    "music.reviewText[music.overall<=2]"
   ]
  },
  {
   "cell_type": "markdown",
   "metadata": {},
   "source": [
    "There are more than 10,000 reviews. While the dataframe has 9 columns, the only 2 I am interested in are the review text column, where I will be getting all my features, and the review score column, where I will be getting my outcome.\n",
    "\n",
    "# Creating Features\n",
    "\n",
    "Now I will parse through the review text and make features which indicate whether or not certain words are in the review. I will focus on looking for words which will usually indicate a positive review score and those which usually indicate a negative review score."
   ]
  },
  {
   "cell_type": "code",
   "execution_count": 6,
   "metadata": {},
   "outputs": [],
   "source": [
    "features = pd.DataFrame()\n",
    "\n",
    "features['Score'] = music.overall\n",
    "\n",
    "#Words that identify a positive\n",
    "keywords_pos = ['good','great','awesome','like','love','well','best','better','sturdy','solid',\n",
    "                'excellent','must have','exactly','wonderful','nice','budget']\n",
    "\n",
    "for key in keywords_pos:\n",
    "    features[str(key)] = music.reviewText.str.contains(str(key),case=False)\n",
    "    \n",
    "#Words that identify or negative, or rule out a positive\n",
    "keywords_neg = [\"disappoint\",\"hate\",\"awful\",'does not work', \"doesn't work\",\"negative\",'bummed',\n",
    "                'problem','junk','not enough','waste','regret','terrible','crap','cheap']\n",
    "\n",
    "for key in keywords_neg:\n",
    "    features[str(key)] = music.reviewText.str.contains(str(key),case=False)\n",
    "    \n",
    "#Create a feature for whether or not the review was overall positive\n",
    "features['Positive'] = np.where(features['Score']>=4, 1, 0)\n",
    "\n",
    "# Take out reviews which were rated 3, as whether or not they were positive could be ambiguous`\n",
    "features_c = features[features.Score != 3.0]"
   ]
  },
  {
   "cell_type": "code",
   "execution_count": 7,
   "metadata": {},
   "outputs": [
    {
     "name": "stdout",
     "output_type": "stream",
     "text": [
      "(10261, 33)\n"
     ]
    },
    {
     "data": {
      "text/html": [
       "<div>\n",
       "<style scoped>\n",
       "    .dataframe tbody tr th:only-of-type {\n",
       "        vertical-align: middle;\n",
       "    }\n",
       "\n",
       "    .dataframe tbody tr th {\n",
       "        vertical-align: top;\n",
       "    }\n",
       "\n",
       "    .dataframe thead th {\n",
       "        text-align: right;\n",
       "    }\n",
       "</style>\n",
       "<table border=\"1\" class=\"dataframe\">\n",
       "  <thead>\n",
       "    <tr style=\"text-align: right;\">\n",
       "      <th></th>\n",
       "      <th>Score</th>\n",
       "      <th>good</th>\n",
       "      <th>great</th>\n",
       "      <th>awesome</th>\n",
       "      <th>like</th>\n",
       "      <th>love</th>\n",
       "      <th>well</th>\n",
       "      <th>best</th>\n",
       "      <th>better</th>\n",
       "      <th>sturdy</th>\n",
       "      <th>...</th>\n",
       "      <th>bummed</th>\n",
       "      <th>problem</th>\n",
       "      <th>junk</th>\n",
       "      <th>not enough</th>\n",
       "      <th>waste</th>\n",
       "      <th>regret</th>\n",
       "      <th>terrible</th>\n",
       "      <th>crap</th>\n",
       "      <th>cheap</th>\n",
       "      <th>Positive</th>\n",
       "    </tr>\n",
       "  </thead>\n",
       "  <tbody>\n",
       "    <tr>\n",
       "      <th>0</th>\n",
       "      <td>5.0</td>\n",
       "      <td>False</td>\n",
       "      <td>False</td>\n",
       "      <td>False</td>\n",
       "      <td>False</td>\n",
       "      <td>False</td>\n",
       "      <td>True</td>\n",
       "      <td>False</td>\n",
       "      <td>False</td>\n",
       "      <td>False</td>\n",
       "      <td>...</td>\n",
       "      <td>False</td>\n",
       "      <td>False</td>\n",
       "      <td>False</td>\n",
       "      <td>False</td>\n",
       "      <td>False</td>\n",
       "      <td>False</td>\n",
       "      <td>False</td>\n",
       "      <td>False</td>\n",
       "      <td>False</td>\n",
       "      <td>1</td>\n",
       "    </tr>\n",
       "    <tr>\n",
       "      <th>1</th>\n",
       "      <td>5.0</td>\n",
       "      <td>False</td>\n",
       "      <td>False</td>\n",
       "      <td>False</td>\n",
       "      <td>True</td>\n",
       "      <td>False</td>\n",
       "      <td>True</td>\n",
       "      <td>False</td>\n",
       "      <td>True</td>\n",
       "      <td>False</td>\n",
       "      <td>...</td>\n",
       "      <td>False</td>\n",
       "      <td>False</td>\n",
       "      <td>False</td>\n",
       "      <td>False</td>\n",
       "      <td>False</td>\n",
       "      <td>False</td>\n",
       "      <td>False</td>\n",
       "      <td>False</td>\n",
       "      <td>False</td>\n",
       "      <td>1</td>\n",
       "    </tr>\n",
       "    <tr>\n",
       "      <th>2</th>\n",
       "      <td>5.0</td>\n",
       "      <td>False</td>\n",
       "      <td>False</td>\n",
       "      <td>False</td>\n",
       "      <td>False</td>\n",
       "      <td>False</td>\n",
       "      <td>False</td>\n",
       "      <td>False</td>\n",
       "      <td>False</td>\n",
       "      <td>False</td>\n",
       "      <td>...</td>\n",
       "      <td>False</td>\n",
       "      <td>False</td>\n",
       "      <td>False</td>\n",
       "      <td>False</td>\n",
       "      <td>False</td>\n",
       "      <td>False</td>\n",
       "      <td>False</td>\n",
       "      <td>False</td>\n",
       "      <td>False</td>\n",
       "      <td>1</td>\n",
       "    </tr>\n",
       "    <tr>\n",
       "      <th>3</th>\n",
       "      <td>5.0</td>\n",
       "      <td>False</td>\n",
       "      <td>False</td>\n",
       "      <td>False</td>\n",
       "      <td>False</td>\n",
       "      <td>False</td>\n",
       "      <td>False</td>\n",
       "      <td>False</td>\n",
       "      <td>False</td>\n",
       "      <td>False</td>\n",
       "      <td>...</td>\n",
       "      <td>False</td>\n",
       "      <td>False</td>\n",
       "      <td>False</td>\n",
       "      <td>False</td>\n",
       "      <td>False</td>\n",
       "      <td>False</td>\n",
       "      <td>False</td>\n",
       "      <td>False</td>\n",
       "      <td>False</td>\n",
       "      <td>1</td>\n",
       "    </tr>\n",
       "    <tr>\n",
       "      <th>4</th>\n",
       "      <td>5.0</td>\n",
       "      <td>False</td>\n",
       "      <td>True</td>\n",
       "      <td>False</td>\n",
       "      <td>True</td>\n",
       "      <td>False</td>\n",
       "      <td>False</td>\n",
       "      <td>False</td>\n",
       "      <td>False</td>\n",
       "      <td>False</td>\n",
       "      <td>...</td>\n",
       "      <td>False</td>\n",
       "      <td>False</td>\n",
       "      <td>False</td>\n",
       "      <td>False</td>\n",
       "      <td>False</td>\n",
       "      <td>False</td>\n",
       "      <td>False</td>\n",
       "      <td>False</td>\n",
       "      <td>False</td>\n",
       "      <td>1</td>\n",
       "    </tr>\n",
       "  </tbody>\n",
       "</table>\n",
       "<p>5 rows × 33 columns</p>\n",
       "</div>"
      ],
      "text/plain": [
       "   Score   good  great  awesome   like   love   well   best  better  sturdy  \\\n",
       "0    5.0  False  False    False  False  False   True  False   False   False   \n",
       "1    5.0  False  False    False   True  False   True  False    True   False   \n",
       "2    5.0  False  False    False  False  False  False  False   False   False   \n",
       "3    5.0  False  False    False  False  False  False  False   False   False   \n",
       "4    5.0  False   True    False   True  False  False  False   False   False   \n",
       "\n",
       "     ...     bummed  problem   junk  not enough  waste  regret  terrible  \\\n",
       "0    ...      False    False  False       False  False   False     False   \n",
       "1    ...      False    False  False       False  False   False     False   \n",
       "2    ...      False    False  False       False  False   False     False   \n",
       "3    ...      False    False  False       False  False   False     False   \n",
       "4    ...      False    False  False       False  False   False     False   \n",
       "\n",
       "    crap  cheap  Positive  \n",
       "0  False  False         1  \n",
       "1  False  False         1  \n",
       "2  False  False         1  \n",
       "3  False  False         1  \n",
       "4  False  False         1  \n",
       "\n",
       "[5 rows x 33 columns]"
      ]
     },
     "metadata": {},
     "output_type": "display_data"
    }
   ],
   "source": [
    "print(features.shape)\n",
    "display(features.head())"
   ]
  },
  {
   "cell_type": "code",
   "execution_count": 8,
   "metadata": {},
   "outputs": [
    {
     "name": "stdout",
     "output_type": "stream",
     "text": [
      "1    9022\n",
      "0    1239\n",
      "Name: Positive, dtype: int64\n"
     ]
    }
   ],
   "source": [
    "print(features['Positive'].value_counts())"
   ]
  },
  {
   "cell_type": "markdown",
   "metadata": {},
   "source": [
    "Though the classes are now binary, the outcome is extremely imbalanced. I must resample to get better results from my models.\n",
    "\n",
    "# Resampling\n",
    "\n",
    "I will resample both classes until I have 1000 data points from each, for a total of 2000 training data points."
   ]
  },
  {
   "cell_type": "code",
   "execution_count": 9,
   "metadata": {},
   "outputs": [
    {
     "data": {
      "text/plain": [
       "1    1000\n",
       "0    1000\n",
       "Name: Positive, dtype: int64"
      ]
     },
     "metadata": {},
     "output_type": "display_data"
    }
   ],
   "source": [
    "pos = features[features.Positive==1]\n",
    "neg = features[features.Positive==0]\n",
    " \n",
    "# Downsample positive review class\n",
    "pos_downsampled = resample(pos, replace=False, n_samples=1000)\n",
    "#Upsample negative review class\n",
    "neg_upsampled = resample(neg, replace=False, n_samples=1000)\n",
    "\n",
    "features_s = pd.concat([pos_downsampled, neg_upsampled])\n",
    " \n",
    "# Display new class counts\n",
    "display(features_s.Positive.value_counts())"
   ]
  },
  {
   "cell_type": "markdown",
   "metadata": {},
   "source": [
    "# Modeling"
   ]
  },
  {
   "cell_type": "code",
   "execution_count": 10,
   "metadata": {},
   "outputs": [],
   "source": [
    "Xs = features_s.drop(['Score','Positive'], axis=1)\n",
    "Ys = features_s.Positive\n",
    "\n",
    "Xt = features.drop(['Score','Positive'], axis=1)\n",
    "Yt = features.Positive"
   ]
  },
  {
   "cell_type": "code",
   "execution_count": 11,
   "metadata": {},
   "outputs": [],
   "source": [
    "# create data frame to hold test accuracy scores in\n",
    "scores = pd.DataFrame()"
   ]
  },
  {
   "cell_type": "markdown",
   "metadata": {},
   "source": [
    "### Random Forest\n",
    "\n",
    "I will first model with the random forest. Because it is an ensemble model, it can also tell the importance of features to help improve the model"
   ]
  },
  {
   "cell_type": "code",
   "execution_count": 12,
   "metadata": {},
   "outputs": [],
   "source": [
    "rfc = ensemble.RandomForestClassifier()\n",
    "\n",
    "rfc.fit(Xs,Ys)\n",
    "\n",
    "Y_pred = rfc.predict(Xt)"
   ]
  },
  {
   "cell_type": "code",
   "execution_count": 13,
   "metadata": {
    "scrolled": true
   },
   "outputs": [
    {
     "name": "stdout",
     "output_type": "stream",
     "text": [
      "Random Forest\n",
      "\n",
      "Training Accuracy Score:\n",
      "0.7325\n",
      "\n",
      "Cross Validation Score:\n",
      "0.6% +/- 0.0%\n",
      "\n",
      "Test Accuracy Score\n",
      "0.5900009745638827\n",
      "\n",
      "Cross Validation Score:\n",
      "0.87% +/- 0.0%\n",
      "\n",
      "Confusion Matrix:\n",
      "[[ 981  258]\n",
      " [3949 5073]]\n"
     ]
    }
   ],
   "source": [
    "print('Random Forest')\n",
    "print('\\nTraining Accuracy Score:')\n",
    "print(rfc.score(Xs,Ys))\n",
    "cvscores = cross_val_score(rfc, Xs, Ys)\n",
    "print('\\nCross Validation Score:')\n",
    "print('{}% +/- {}%'.format(round(cvscores.mean(),2),round(cvscores.std()*2,2)))\n",
    "print('\\nTest Accuracy Score')\n",
    "print(rfc.score(Xt,Yt))\n",
    "cvscoret = cross_val_score(rfc, Xt, Yt)\n",
    "print('\\nCross Validation Score:')\n",
    "print('{}% +/- {}%'.format(round(cvscoret.mean(),2),round(cvscoret.std()*2,2)))\n",
    "print('\\nConfusion Matrix:')\n",
    "print(confusion_matrix(Yt, Y_pred))"
   ]
  },
  {
   "cell_type": "code",
   "execution_count": 14,
   "metadata": {
    "scrolled": true
   },
   "outputs": [
    {
     "data": {
      "image/png": "[encoded data removed]",
      "text/plain": [
       "<Figure size 1080x648 with 1 Axes>"
      ]
     },
     "metadata": {},
     "output_type": "display_data"
    }
   ],
   "source": [
    "feature_importance = rfc.feature_importances_\n",
    "\n",
    "# Make importances relative to max importance.\n",
    "feature_importance = 100.0 * (feature_importance / feature_importance.max())\n",
    "sorted_idx = np.argsort(feature_importance)\n",
    "pos = np.arange(sorted_idx.shape[0]) + .5\n",
    "plt.figure(figsize=(15, 9))\n",
    "plt.barh(pos, feature_importance[sorted_idx], align='center')\n",
    "plt.yticks(pos, Xt.columns[sorted_idx])\n",
    "plt.xlabel('Relative Importance')\n",
    "plt.title('Random Forest Variable Importance')\n",
    "plt.show()"
   ]
  },
  {
   "cell_type": "markdown",
   "metadata": {},
   "source": [
    "### Gradient Boosted Decision Tree"
   ]
  },
  {
   "cell_type": "code",
   "execution_count": 15,
   "metadata": {},
   "outputs": [],
   "source": [
    "gbc = ensemble.GradientBoostingClassifier()\n",
    "\n",
    "gbc.fit(Xs,Ys)\n",
    "\n",
    "Y_pred = gbc.predict(Xt)"
   ]
  },
  {
   "cell_type": "code",
   "execution_count": 16,
   "metadata": {},
   "outputs": [
    {
     "name": "stdout",
     "output_type": "stream",
     "text": [
      "Gradient Boosted Decision Tree\n",
      "\n",
      "Training Accuracy Score:\n",
      "0.6745\n",
      "\n",
      "Cross Validation Score:\n",
      "0.63% +/- 0.01%\n",
      "\n",
      "Test Accuracy Score\n",
      "0.6264496637754605\n",
      "\n",
      "Cross Validation Score:\n",
      "0.88% +/- 0.0%\n",
      "\n",
      "Confusion Matrix:\n",
      "[[ 875  364]\n",
      " [3469 5553]]\n"
     ]
    }
   ],
   "source": [
    "print('Gradient Boosted Decision Tree')\n",
    "print('\\nTraining Accuracy Score:')\n",
    "print(gbc.score(Xs,Ys))\n",
    "cvscores = cross_val_score(gbc, Xs, Ys)\n",
    "print('\\nCross Validation Score:')\n",
    "print('{}% +/- {}%'.format(round(cvscores.mean(),2),round(cvscores.std()*2,2)))\n",
    "print('\\nTest Accuracy Score')\n",
    "print(gbc.score(Xt,Yt))\n",
    "cvscoret = cross_val_score(gbc, Xt, Yt)\n",
    "print('\\nCross Validation Score:')\n",
    "print('{}% +/- {}%'.format(round(cvscoret.mean(),2),round(cvscoret.std()*2,2)))\n",
    "print('\\nConfusion Matrix:')\n",
    "print(confusion_matrix(Yt, Y_pred))"
   ]
  },
  {
   "cell_type": "code",
   "execution_count": 17,
   "metadata": {},
   "outputs": [
    {
     "data": {
      "image/png": "[encoded data removed]",
      "text/plain": [
       "<Figure size 1080x648 with 1 Axes>"
      ]
     },
     "metadata": {},
     "output_type": "display_data"
    }
   ],
   "source": [
    "feature_importance = gbc.feature_importances_\n",
    "\n",
    "# Make importances relative to max importance.\n",
    "feature_importance = 100.0 * (feature_importance / feature_importance.max())\n",
    "sorted_idx = np.argsort(feature_importance)\n",
    "pos = np.arange(sorted_idx.shape[0]) + .5\n",
    "plt.figure(figsize=(15, 9))\n",
    "plt.barh(pos, feature_importance[sorted_idx], align='center')\n",
    "plt.yticks(pos, Xt.columns[sorted_idx])\n",
    "plt.xlabel('Relative Importance')\n",
    "plt.title('Boosted Variable Importance')\n",
    "plt.show()"
   ]
  },
  {
   "cell_type": "markdown",
   "metadata": {},
   "source": [
    "### Support Vector Classification"
   ]
  },
  {
   "cell_type": "code",
   "execution_count": 18,
   "metadata": {},
   "outputs": [],
   "source": [
    "svm = SVC()\n",
    "\n",
    "svm.fit(Xs,Ys)\n",
    "\n",
    "Y_pred = svm.predict(Xt)"
   ]
  },
  {
   "cell_type": "code",
   "execution_count": 19,
   "metadata": {},
   "outputs": [
    {
     "name": "stdout",
     "output_type": "stream",
     "text": [
      "Support Vector Machine\n",
      "\n",
      "Training Accuracy Score:\n",
      "0.604\n",
      "\n",
      "Cross Validation Score:\n",
      "0.6% +/- 0.01%\n",
      "\n",
      "Test Accuracy Score\n",
      "0.4179904492739499\n",
      "\n",
      "Cross Validation Score:\n",
      "0.88% +/- 0.0%\n",
      "\n",
      "Confusion Matrix:\n",
      "[[1016  223]\n",
      " [5749 3273]]\n"
     ]
    }
   ],
   "source": [
    "print('Support Vector Machine')\n",
    "print('\\nTraining Accuracy Score:')\n",
    "print(svm.score(Xs,Ys))\n",
    "cvscores = cross_val_score(svm, Xs, Ys)\n",
    "print('\\nCross Validation Score:')\n",
    "print('{}% +/- {}%'.format(round(cvscores.mean(),2),round(cvscores.std()*2,2)))\n",
    "print('\\nTest Accuracy Score')\n",
    "print(svm.score(Xt,Yt))\n",
    "cvscoret = cross_val_score(svm, Xt, Yt)\n",
    "print('\\nCross Validation Score:')\n",
    "print('{}% +/- {}%'.format(round(cvscoret.mean(),2),round(cvscoret.std()*2,2)))\n",
    "print('\\nConfusion Matrix:')\n",
    "print(confusion_matrix(Yt, Y_pred))"
   ]
  },
  {
   "cell_type": "markdown",
   "metadata": {},
   "source": [
    "### Naive Bayes"
   ]
  },
  {
   "cell_type": "code",
   "execution_count": 20,
   "metadata": {},
   "outputs": [],
   "source": [
    "bnb = BernoulliNB()\n",
    "\n",
    "bnb.fit(Xs,Ys)\n",
    "\n",
    "Y_pred = bnb.predict(Xt)"
   ]
  },
  {
   "cell_type": "code",
   "execution_count": 21,
   "metadata": {
    "scrolled": true
   },
   "outputs": [
    {
     "name": "stdout",
     "output_type": "stream",
     "text": [
      "Naive Bayes\n",
      "\n",
      "Training Accuracy Score:\n",
      "0.6475\n",
      "\n",
      "Cross Validation Score:\n",
      "0.63% +/- 0.01%\n",
      "\n",
      "Test Accuracy Score\n",
      "0.6164116557840367\n",
      "\n",
      "Cross Validation Score:\n",
      "0.88% +/- 0.0%\n",
      "\n",
      "Confusion Matrix:\n",
      "[[ 859  380]\n",
      " [3556 5466]]\n"
     ]
    }
   ],
   "source": [
    "print('Naive Bayes')\n",
    "print('\\nTraining Accuracy Score:')\n",
    "print(bnb.score(Xs,Ys))\n",
    "cvscores = cross_val_score(bnb, Xs, Ys)\n",
    "print('\\nCross Validation Score:')\n",
    "print('{}% +/- {}%'.format(round(cvscores.mean(),2),round(cvscores.std()*2,2)))\n",
    "print('\\nTest Accuracy Score')\n",
    "print(bnb.score(Xt,Yt))\n",
    "cvscoret = cross_val_score(bnb, Xt, Yt)\n",
    "print('\\nCross Validation Score:')\n",
    "print('{}% +/- {}%'.format(round(cvscoret.mean(),2),round(cvscoret.std()*2,2)))\n",
    "print('\\nConfusion Matrix:')\n",
    "print(confusion_matrix(Yt, Y_pred))"
   ]
  },
  {
   "cell_type": "code",
   "execution_count": 22,
   "metadata": {},
   "outputs": [],
   "source": [
    "# add all scores into the scores data frame\n",
    "scores['Music'] = [rfc.score(Xt,Yt),gbc.score(Xt,Yt),svm.score(Xt,Yt),bnb.score(Xt,Yt)]"
   ]
  },
  {
   "cell_type": "markdown",
   "metadata": {},
   "source": [
    "# Different Categories?"
   ]
  },
  {
   "cell_type": "code",
   "execution_count": 23,
   "metadata": {},
   "outputs": [],
   "source": [
    "with open('C:\\\\Code\\\\Data\\\\car.json') as f: \n",
    "    car = pd.DataFrame(json.loads(line) for line in f)"
   ]
  },
  {
   "cell_type": "code",
   "execution_count": 24,
   "metadata": {},
   "outputs": [
    {
     "data": {
      "text/html": [
       "<div>\n",
       "<style scoped>\n",
       "    .dataframe tbody tr th:only-of-type {\n",
       "        vertical-align: middle;\n",
       "    }\n",
       "\n",
       "    .dataframe tbody tr th {\n",
       "        vertical-align: top;\n",
       "    }\n",
       "\n",
       "    .dataframe thead th {\n",
       "        text-align: right;\n",
       "    }\n",
       "</style>\n",
       "<table border=\"1\" class=\"dataframe\">\n",
       "  <thead>\n",
       "    <tr style=\"text-align: right;\">\n",
       "      <th></th>\n",
       "      <th>asin</th>\n",
       "      <th>helpful</th>\n",
       "      <th>overall</th>\n",
       "      <th>reviewText</th>\n",
       "      <th>reviewTime</th>\n",
       "      <th>reviewerID</th>\n",
       "      <th>reviewerName</th>\n",
       "      <th>summary</th>\n",
       "      <th>unixReviewTime</th>\n",
       "    </tr>\n",
       "  </thead>\n",
       "  <tbody>\n",
       "    <tr>\n",
       "      <th>0</th>\n",
       "      <td>B00002243X</td>\n",
       "      <td>[4, 4]</td>\n",
       "      <td>5.0</td>\n",
       "      <td>I needed a set of jumper cables for my new car...</td>\n",
       "      <td>08 17, 2011</td>\n",
       "      <td>A3F73SC1LY51OO</td>\n",
       "      <td>Alan Montgomery</td>\n",
       "      <td>Work Well - Should Have Bought Longer Ones</td>\n",
       "      <td>1313539200</td>\n",
       "    </tr>\n",
       "    <tr>\n",
       "      <th>1</th>\n",
       "      <td>B00002243X</td>\n",
       "      <td>[1, 1]</td>\n",
       "      <td>4.0</td>\n",
       "      <td>These long cables work fine for my truck, but ...</td>\n",
       "      <td>09 4, 2011</td>\n",
       "      <td>A20S66SKYXULG2</td>\n",
       "      <td>alphonse</td>\n",
       "      <td>Okay long cables</td>\n",
       "      <td>1315094400</td>\n",
       "    </tr>\n",
       "    <tr>\n",
       "      <th>2</th>\n",
       "      <td>B00002243X</td>\n",
       "      <td>[0, 0]</td>\n",
       "      <td>5.0</td>\n",
       "      <td>Can't comment much on these since they have no...</td>\n",
       "      <td>07 25, 2013</td>\n",
       "      <td>A2I8LFSN2IS5EO</td>\n",
       "      <td>Chris</td>\n",
       "      <td>Looks and feels heavy Duty</td>\n",
       "      <td>1374710400</td>\n",
       "    </tr>\n",
       "    <tr>\n",
       "      <th>3</th>\n",
       "      <td>B00002243X</td>\n",
       "      <td>[19, 19]</td>\n",
       "      <td>5.0</td>\n",
       "      <td>I absolutley love Amazon!!!  For the price of ...</td>\n",
       "      <td>12 21, 2010</td>\n",
       "      <td>A3GT2EWQSO45ZG</td>\n",
       "      <td>DeusEx</td>\n",
       "      <td>Excellent choice for Jumper Cables!!!</td>\n",
       "      <td>1292889600</td>\n",
       "    </tr>\n",
       "    <tr>\n",
       "      <th>4</th>\n",
       "      <td>B00002243X</td>\n",
       "      <td>[0, 0]</td>\n",
       "      <td>5.0</td>\n",
       "      <td>I purchased the 12' feet long cable set and th...</td>\n",
       "      <td>07 4, 2012</td>\n",
       "      <td>A3ESWJPAVRPWB4</td>\n",
       "      <td>E. Hernandez</td>\n",
       "      <td>Excellent, High Quality Starter Cables</td>\n",
       "      <td>1341360000</td>\n",
       "    </tr>\n",
       "  </tbody>\n",
       "</table>\n",
       "</div>"
      ],
      "text/plain": [
       "         asin   helpful  overall  \\\n",
       "0  B00002243X    [4, 4]      5.0   \n",
       "1  B00002243X    [1, 1]      4.0   \n",
       "2  B00002243X    [0, 0]      5.0   \n",
       "3  B00002243X  [19, 19]      5.0   \n",
       "4  B00002243X    [0, 0]      5.0   \n",
       "\n",
       "                                          reviewText   reviewTime  \\\n",
       "0  I needed a set of jumper cables for my new car...  08 17, 2011   \n",
       "1  These long cables work fine for my truck, but ...   09 4, 2011   \n",
       "2  Can't comment much on these since they have no...  07 25, 2013   \n",
       "3  I absolutley love Amazon!!!  For the price of ...  12 21, 2010   \n",
       "4  I purchased the 12' feet long cable set and th...   07 4, 2012   \n",
       "\n",
       "       reviewerID     reviewerName  \\\n",
       "0  A3F73SC1LY51OO  Alan Montgomery   \n",
       "1  A20S66SKYXULG2         alphonse   \n",
       "2  A2I8LFSN2IS5EO            Chris   \n",
       "3  A3GT2EWQSO45ZG           DeusEx   \n",
       "4  A3ESWJPAVRPWB4     E. Hernandez   \n",
       "\n",
       "                                      summary  unixReviewTime  \n",
       "0  Work Well - Should Have Bought Longer Ones      1313539200  \n",
       "1                            Okay long cables      1315094400  \n",
       "2                  Looks and feels heavy Duty      1374710400  \n",
       "3       Excellent choice for Jumper Cables!!!      1292889600  \n",
       "4      Excellent, High Quality Starter Cables      1341360000  "
      ]
     },
     "metadata": {},
     "output_type": "display_data"
    }
   ],
   "source": [
    "display(car.head())"
   ]
  },
  {
   "cell_type": "code",
   "execution_count": 25,
   "metadata": {},
   "outputs": [],
   "source": [
    "with open('C:\\\\Code\\\\Data\\\\lawn.json') as f: \n",
    "    lawn = pd.DataFrame(json.loads(line) for line in f)"
   ]
  },
  {
   "cell_type": "code",
   "execution_count": 26,
   "metadata": {},
   "outputs": [
    {
     "data": {
      "text/html": [
       "<div>\n",
       "<style scoped>\n",
       "    .dataframe tbody tr th:only-of-type {\n",
       "        vertical-align: middle;\n",
       "    }\n",
       "\n",
       "    .dataframe tbody tr th {\n",
       "        vertical-align: top;\n",
       "    }\n",
       "\n",
       "    .dataframe thead th {\n",
       "        text-align: right;\n",
       "    }\n",
       "</style>\n",
       "<table border=\"1\" class=\"dataframe\">\n",
       "  <thead>\n",
       "    <tr style=\"text-align: right;\">\n",
       "      <th></th>\n",
       "      <th>asin</th>\n",
       "      <th>helpful</th>\n",
       "      <th>overall</th>\n",
       "      <th>reviewText</th>\n",
       "      <th>reviewTime</th>\n",
       "      <th>reviewerID</th>\n",
       "      <th>reviewerName</th>\n",
       "      <th>summary</th>\n",
       "      <th>unixReviewTime</th>\n",
       "    </tr>\n",
       "  </thead>\n",
       "  <tbody>\n",
       "    <tr>\n",
       "      <th>0</th>\n",
       "      <td>B00002N674</td>\n",
       "      <td>[4, 4]</td>\n",
       "      <td>4.0</td>\n",
       "      <td>Good USA company that stands behind their prod...</td>\n",
       "      <td>06 21, 2011</td>\n",
       "      <td>A1JZFGZEZVWQPY</td>\n",
       "      <td>Carter H \"1amazonreviewer@gmail . com\"</td>\n",
       "      <td>Great Hoses</td>\n",
       "      <td>1308614400</td>\n",
       "    </tr>\n",
       "    <tr>\n",
       "      <th>1</th>\n",
       "      <td>B00002N674</td>\n",
       "      <td>[0, 0]</td>\n",
       "      <td>5.0</td>\n",
       "      <td>This is a high quality 8 ply hose. I have had ...</td>\n",
       "      <td>06 9, 2014</td>\n",
       "      <td>A32JCI4AK2JTTG</td>\n",
       "      <td>Darryl Bennett \"Fuzzy342\"</td>\n",
       "      <td>Gilmour 10-58050 8-ply Flexogen Hose 5/8-Inch ...</td>\n",
       "      <td>1402272000</td>\n",
       "    </tr>\n",
       "    <tr>\n",
       "      <th>2</th>\n",
       "      <td>B00002N674</td>\n",
       "      <td>[2, 3]</td>\n",
       "      <td>4.0</td>\n",
       "      <td>It's probably one of the best hoses I've ever ...</td>\n",
       "      <td>05 5, 2012</td>\n",
       "      <td>A3N0P5AAMP6XD2</td>\n",
       "      <td>H B</td>\n",
       "      <td>Very satisfied!</td>\n",
       "      <td>1336176000</td>\n",
       "    </tr>\n",
       "    <tr>\n",
       "      <th>3</th>\n",
       "      <td>B00002N674</td>\n",
       "      <td>[0, 0]</td>\n",
       "      <td>5.0</td>\n",
       "      <td>I probably should have bought something a bit ...</td>\n",
       "      <td>07 15, 2013</td>\n",
       "      <td>A2QK7UNJ857YG</td>\n",
       "      <td>Jason</td>\n",
       "      <td>Very high quality</td>\n",
       "      <td>1373846400</td>\n",
       "    </tr>\n",
       "    <tr>\n",
       "      <th>4</th>\n",
       "      <td>B00002N674</td>\n",
       "      <td>[1, 1]</td>\n",
       "      <td>5.0</td>\n",
       "      <td>I bought three of these 5/8-inch Flexogen hose...</td>\n",
       "      <td>08 5, 2013</td>\n",
       "      <td>AS0CYBAN6EM06</td>\n",
       "      <td>jimmy</td>\n",
       "      <td>Good Hoses</td>\n",
       "      <td>1375660800</td>\n",
       "    </tr>\n",
       "  </tbody>\n",
       "</table>\n",
       "</div>"
      ],
      "text/plain": [
       "         asin helpful  overall  \\\n",
       "0  B00002N674  [4, 4]      4.0   \n",
       "1  B00002N674  [0, 0]      5.0   \n",
       "2  B00002N674  [2, 3]      4.0   \n",
       "3  B00002N674  [0, 0]      5.0   \n",
       "4  B00002N674  [1, 1]      5.0   \n",
       "\n",
       "                                          reviewText   reviewTime  \\\n",
       "0  Good USA company that stands behind their prod...  06 21, 2011   \n",
       "1  This is a high quality 8 ply hose. I have had ...   06 9, 2014   \n",
       "2  It's probably one of the best hoses I've ever ...   05 5, 2012   \n",
       "3  I probably should have bought something a bit ...  07 15, 2013   \n",
       "4  I bought three of these 5/8-inch Flexogen hose...   08 5, 2013   \n",
       "\n",
       "       reviewerID                            reviewerName  \\\n",
       "0  A1JZFGZEZVWQPY  Carter H \"1amazonreviewer@gmail . com\"   \n",
       "1  A32JCI4AK2JTTG               Darryl Bennett \"Fuzzy342\"   \n",
       "2  A3N0P5AAMP6XD2                                     H B   \n",
       "3   A2QK7UNJ857YG                                   Jason   \n",
       "4   AS0CYBAN6EM06                                   jimmy   \n",
       "\n",
       "                                             summary  unixReviewTime  \n",
       "0                                        Great Hoses      1308614400  \n",
       "1  Gilmour 10-58050 8-ply Flexogen Hose 5/8-Inch ...      1402272000  \n",
       "2                                    Very satisfied!      1336176000  \n",
       "3                                  Very high quality      1373846400  \n",
       "4                                         Good Hoses      1375660800  "
      ]
     },
     "metadata": {},
     "output_type": "display_data"
    }
   ],
   "source": [
    "display(lawn.head())"
   ]
  },
  {
   "cell_type": "markdown",
   "metadata": {},
   "source": [
    "# Testing Car Dataset"
   ]
  },
  {
   "cell_type": "code",
   "execution_count": 27,
   "metadata": {},
   "outputs": [],
   "source": [
    "car_features = pd.DataFrame()\n",
    "\n",
    "#Words that identify a positive\n",
    "keywords_pos = ['good','great','awesome','like','love','well','best','better','sturdy','solid',\n",
    "                'excellent','must have','exactly','wonderful','nice','budget']\n",
    "\n",
    "for key in keywords_pos:\n",
    "    car_features[str(key)] = car.reviewText.str.contains(str(key),case=False)\n",
    "    \n",
    "#Words that identify or negative, or rule out a positive\n",
    "keywords_neg = [\"disappoint\",\"hate\",\"awful\",'does not work', \"doesn't work\",\"negative\",'bummed',\n",
    "                'problem','junk','not enough','waste','regret','terrible','crap','cheap']\n",
    "\n",
    "for key in keywords_neg:\n",
    "    car_features[str(key)] = car.reviewText.str.contains(str(key),case=False)\n",
    "    \n",
    "#Create a feature for whether or not the review was overall positive\n",
    "car_features['Positive'] = np.where(car['overall']>=4, 1, 0)"
   ]
  },
  {
   "cell_type": "code",
   "execution_count": 28,
   "metadata": {},
   "outputs": [],
   "source": [
    "Xcar = car_features.drop(['Positive'], axis=1)\n",
    "Ycar = car_features.Positive"
   ]
  },
  {
   "cell_type": "markdown",
   "metadata": {},
   "source": [
    "### Random Forest"
   ]
  },
  {
   "cell_type": "code",
   "execution_count": 29,
   "metadata": {
    "scrolled": true
   },
   "outputs": [
    {
     "name": "stdout",
     "output_type": "stream",
     "text": [
      "Random Forest Test Error Score:\n",
      "0.5146778684120549\n",
      "\n",
      "Cross Validation Score:\n",
      "0.87% +/- 0.0%\n",
      "\n",
      "Confusion Matrix:\n",
      "[[1853  725]\n",
      " [9211 8684]]\n"
     ]
    }
   ],
   "source": [
    "Y_predcar = rfc.predict(Xcar)\n",
    "\n",
    "print('Random Forest Test Error Score:')\n",
    "print(rfc.score(Xcar,Ycar))\n",
    "cvscore = cross_val_score(rfc, Xcar, Ycar)\n",
    "print('\\nCross Validation Score:')\n",
    "print('{}% +/- {}%'.format(round(cvscore.mean(),2),round(cvscore.std()*2,2)))\n",
    "print('\\nConfusion Matrix:')\n",
    "print(confusion_matrix(Ycar, Y_predcar))"
   ]
  },
  {
   "cell_type": "markdown",
   "metadata": {},
   "source": [
    "### Gradient Boosted Decision Tree"
   ]
  },
  {
   "cell_type": "code",
   "execution_count": 30,
   "metadata": {
    "scrolled": true
   },
   "outputs": [
    {
     "name": "stdout",
     "output_type": "stream",
     "text": [
      "Gradient Boosted Test Error Score:\n",
      "0.5146778684120549\n",
      "\n",
      "Cross Validation Score:\n",
      "0.87% +/- 0.0%\n",
      "\n",
      "Confusion Matrix:\n",
      "[[1836  742]\n",
      " [8410 9485]]\n"
     ]
    }
   ],
   "source": [
    "Y_predcar = gbc.predict(Xcar)\n",
    "\n",
    "print('Gradient Boosted Test Error Score:')\n",
    "print(rfc.score(Xcar,Ycar))\n",
    "cvscore = cross_val_score(gbc, Xcar, Ycar)\n",
    "print('\\nCross Validation Score:')\n",
    "print('{}% +/- {}%'.format(round(cvscore.mean(),2),round(cvscore.std()*2,2)))\n",
    "print('\\nConfusion Matrix:')\n",
    "print(confusion_matrix(Ycar, Y_predcar))"
   ]
  },
  {
   "cell_type": "markdown",
   "metadata": {},
   "source": [
    "### Support Vector Machines"
   ]
  },
  {
   "cell_type": "code",
   "execution_count": 31,
   "metadata": {
    "scrolled": true
   },
   "outputs": [
    {
     "name": "stdout",
     "output_type": "stream",
     "text": [
      "Support Vector Machine Test Error Score:\n",
      "0.5146778684120549\n",
      "\n",
      "Cross Validation Score:\n",
      "0.87% +/- 0.0%\n",
      "\n",
      "Confusion Matrix:\n",
      "[[ 2220   358]\n",
      " [12853  5042]]\n"
     ]
    }
   ],
   "source": [
    "Y_predcar = svm.predict(Xcar)\n",
    "\n",
    "print('Support Vector Machine Test Error Score:')\n",
    "print(rfc.score(Xcar,Ycar))\n",
    "cvscore = cross_val_score(svm, Xcar, Ycar)\n",
    "print('\\nCross Validation Score:')\n",
    "print('{}% +/- {}%'.format(round(cvscore.mean(),2),round(cvscore.std()*2,2)))\n",
    "print('\\nConfusion Matrix:')\n",
    "print(confusion_matrix(Ycar, Y_predcar))"
   ]
  },
  {
   "cell_type": "markdown",
   "metadata": {},
   "source": [
    "### Naive Bayes"
   ]
  },
  {
   "cell_type": "code",
   "execution_count": 32,
   "metadata": {
    "scrolled": true
   },
   "outputs": [
    {
     "name": "stdout",
     "output_type": "stream",
     "text": [
      "Naive Bayes Test Error Score:\n",
      "0.5146778684120549\n",
      "\n",
      "Cross Validation Score:\n",
      "0.87% +/- 0.0%\n",
      "\n",
      "Confusion Matrix:\n",
      "[[1873  705]\n",
      " [8554 9341]]\n"
     ]
    }
   ],
   "source": [
    "Y_predcar = bnb.predict(Xcar)\n",
    "\n",
    "print('Naive Bayes Test Error Score:')\n",
    "print(rfc.score(Xcar,Ycar))\n",
    "cvscore = cross_val_score(bnb, Xcar, Ycar)\n",
    "print('\\nCross Validation Score:')\n",
    "print('{}% +/- {}%'.format(round(cvscore.mean(),2),round(cvscore.std()*2,2)))\n",
    "print('\\nConfusion Matrix:')\n",
    "print(confusion_matrix(Ycar, Y_predcar))"
   ]
  },
  {
   "cell_type": "code",
   "execution_count": 33,
   "metadata": {},
   "outputs": [],
   "source": [
    "# add all scores into the scores data frame\n",
    "scores['Car'] = [rfc.score(Xcar,Ycar),gbc.score(Xcar,Ycar),svm.score(Xcar,Ycar),bnb.score(Xcar,Ycar)]"
   ]
  },
  {
   "cell_type": "markdown",
   "metadata": {},
   "source": [
    "# Testing Lawn Dataset"
   ]
  },
  {
   "cell_type": "code",
   "execution_count": 34,
   "metadata": {},
   "outputs": [],
   "source": [
    "lawn_features = pd.DataFrame()\n",
    "\n",
    "#Words that identify a positive\n",
    "keywords_pos = ['good','great','awesome','like','love','well','best','better','sturdy','solid',\n",
    "                'excellent','must have','exactly','wonderful','nice','budget']\n",
    "\n",
    "for key in keywords_pos:\n",
    "    lawn_features[str(key)] = lawn.reviewText.str.contains(str(key),case=False)\n",
    "    \n",
    "#Words that identify or negative, or rule out a positive\n",
    "keywords_neg = [\"disappoint\",\"hate\",\"awful\",'does not work', \"doesn't work\",\"negative\",'bummed',\n",
    "                'problem','junk','not enough','waste','regret','terrible','crap','cheap']\n",
    "\n",
    "for key in keywords_neg:\n",
    "    lawn_features[str(key)] = lawn.reviewText.str.contains(str(key),case=False)\n",
    "    \n",
    "#Create a feature for whether or not the review was overall positive\n",
    "lawn_features['Positive'] = np.where(lawn['overall']>=4, 1, 0)"
   ]
  },
  {
   "cell_type": "code",
   "execution_count": 35,
   "metadata": {},
   "outputs": [],
   "source": [
    "Xlawn = lawn_features.drop(['Positive'], axis=1)\n",
    "Ylawn = lawn_features.Positive"
   ]
  },
  {
   "cell_type": "markdown",
   "metadata": {},
   "source": [
    "### Random Forest"
   ]
  },
  {
   "cell_type": "code",
   "execution_count": 36,
   "metadata": {
    "scrolled": true
   },
   "outputs": [
    {
     "name": "stdout",
     "output_type": "stream",
     "text": [
      "Random Forest Test Error Score:\n",
      "0.5485232067510548\n",
      "\n",
      "Cross Validation Score:\n",
      "0.77% +/- 0.0%\n",
      "\n",
      "Confusion Matrix:\n",
      "[[1879  972]\n",
      " [5020 5401]]\n"
     ]
    }
   ],
   "source": [
    "Y_predlawn = rfc.predict(Xlawn)\n",
    "\n",
    "print('Random Forest Test Error Score:')\n",
    "print(rfc.score(Xlawn,Ylawn))\n",
    "cvscore = cross_val_score(rfc, Xlawn, Ylawn)\n",
    "print('\\nCross Validation Score:')\n",
    "print('{}% +/- {}%'.format(round(cvscore.mean(),2),round(cvscore.std()*2,2)))\n",
    "print('\\nConfusion Matrix:')\n",
    "print(confusion_matrix(Ylawn, Y_predlawn))"
   ]
  },
  {
   "cell_type": "markdown",
   "metadata": {},
   "source": [
    "### Gradient Boosted Decision Tree"
   ]
  },
  {
   "cell_type": "code",
   "execution_count": 37,
   "metadata": {},
   "outputs": [
    {
     "name": "stdout",
     "output_type": "stream",
     "text": [
      "Gradient Boosted Test Error Score:\n",
      "0.5921488848704038\n",
      "\n",
      "Cross Validation Score:\n",
      "0.79% +/- 0.0%\n",
      "\n",
      "Confusion Matrix:\n",
      "[[1848 1003]\n",
      " [4410 6011]]\n"
     ]
    }
   ],
   "source": [
    "Y_predlawn = gbc.predict(Xlawn)\n",
    "\n",
    "print('Gradient Boosted Test Error Score:')\n",
    "print(gbc.score(Xlawn,Ylawn))\n",
    "cvscore = cross_val_score(gbc, Xlawn, Ylawn)\n",
    "print('\\nCross Validation Score:')\n",
    "print('{}% +/- {}%'.format(round(cvscore.mean(),2),round(cvscore.std()*2,2)))\n",
    "print('\\nConfusion Matrix:')\n",
    "print(confusion_matrix(Ylawn, Y_predlawn))"
   ]
  },
  {
   "cell_type": "markdown",
   "metadata": {},
   "source": [
    "### Support Vector Machines"
   ]
  },
  {
   "cell_type": "code",
   "execution_count": 38,
   "metadata": {},
   "outputs": [
    {
     "name": "stdout",
     "output_type": "stream",
     "text": [
      "Gradient Boosted Test Error Score:\n",
      "0.42239300783604583\n",
      "\n",
      "Cross Validation Score:\n",
      "0.79% +/- 0.0%\n",
      "\n",
      "Confusion Matrix:\n",
      "[[2343  508]\n",
      " [7158 3263]]\n"
     ]
    }
   ],
   "source": [
    "Y_predlawn = svm.predict(Xlawn)\n",
    "\n",
    "print('Gradient Boosted Test Error Score:')\n",
    "print(svm.score(Xlawn,Ylawn))\n",
    "cvscore = cross_val_score(svm, Xlawn, Ylawn)\n",
    "print('\\nCross Validation Score:')\n",
    "print('{}% +/- {}%'.format(round(cvscore.mean(),2),round(cvscore.std()*2,2)))\n",
    "print('\\nConfusion Matrix:')\n",
    "print(confusion_matrix(Ylawn, Y_predlawn))"
   ]
  },
  {
   "cell_type": "markdown",
   "metadata": {},
   "source": [
    "### Naive Bayes"
   ]
  },
  {
   "cell_type": "code",
   "execution_count": 39,
   "metadata": {},
   "outputs": [
    {
     "name": "stdout",
     "output_type": "stream",
     "text": [
      "Gradient Boosted Test Error Score:\n",
      "0.5921488848704038\n",
      "\n",
      "Cross Validation Score:\n",
      "0.79% +/- 0.0%\n",
      "\n",
      "Confusion Matrix:\n",
      "[[1874  977]\n",
      " [4442 5979]]\n"
     ]
    }
   ],
   "source": [
    "Y_predlawn = bnb.predict(Xlawn)\n",
    "\n",
    "print('Gradient Boosted Test Error Score:')\n",
    "print(gbc.score(Xlawn,Ylawn))\n",
    "cvscore = cross_val_score(bnb, Xlawn, Ylawn)\n",
    "print('\\nCross Validation Score:')\n",
    "print('{}% +/- {}%'.format(round(cvscore.mean(),2),round(cvscore.std()*2,2)))\n",
    "print('\\nConfusion Matrix:')\n",
    "print(confusion_matrix(Ylawn, Y_predlawn))"
   ]
  },
  {
   "cell_type": "code",
   "execution_count": 40,
   "metadata": {},
   "outputs": [],
   "source": [
    "# add all scores into the scores data frame\n",
    "scores['Lawn'] = [rfc.score(Xlawn,Ylawn),gbc.score(Xlawn,Ylawn),svm.score(Xlawn,Ylawn),bnb.score(Xlawn,Ylawn)]"
   ]
  },
  {
   "cell_type": "markdown",
   "metadata": {},
   "source": [
    "# Conclusion"
   ]
  },
  {
   "cell_type": "code",
   "execution_count": 41,
   "metadata": {},
   "outputs": [
    {
     "data": {
      "text/html": [
       "<div>\n",
       "<style scoped>\n",
       "    .dataframe tbody tr th:only-of-type {\n",
       "        vertical-align: middle;\n",
       "    }\n",
       "\n",
       "    .dataframe tbody tr th {\n",
       "        vertical-align: top;\n",
       "    }\n",
       "\n",
       "    .dataframe thead th {\n",
       "        text-align: right;\n",
       "    }\n",
       "</style>\n",
       "<table border=\"1\" class=\"dataframe\">\n",
       "  <thead>\n",
       "    <tr style=\"text-align: right;\">\n",
       "      <th></th>\n",
       "      <th>Music</th>\n",
       "      <th>Car</th>\n",
       "      <th>Lawn</th>\n",
       "    </tr>\n",
       "  </thead>\n",
       "  <tbody>\n",
       "    <tr>\n",
       "      <th>RandomForest</th>\n",
       "      <td>0.590001</td>\n",
       "      <td>0.514678</td>\n",
       "      <td>0.548523</td>\n",
       "    </tr>\n",
       "    <tr>\n",
       "      <th>Boosted</th>\n",
       "      <td>0.626450</td>\n",
       "      <td>0.552972</td>\n",
       "      <td>0.592149</td>\n",
       "    </tr>\n",
       "    <tr>\n",
       "      <th>SVM</th>\n",
       "      <td>0.417990</td>\n",
       "      <td>0.354711</td>\n",
       "      <td>0.422393</td>\n",
       "    </tr>\n",
       "    <tr>\n",
       "      <th>NaiveBayes</th>\n",
       "      <td>0.616412</td>\n",
       "      <td>0.547746</td>\n",
       "      <td>0.591697</td>\n",
       "    </tr>\n",
       "  </tbody>\n",
       "</table>\n",
       "</div>"
      ],
      "text/plain": [
       "                 Music       Car      Lawn\n",
       "RandomForest  0.590001  0.514678  0.548523\n",
       "Boosted       0.626450  0.552972  0.592149\n",
       "SVM           0.417990  0.354711  0.422393\n",
       "NaiveBayes    0.616412  0.547746  0.591697"
      ]
     },
     "metadata": {},
     "output_type": "display_data"
    }
   ],
   "source": [
    "scores.index = ['RandomForest','Boosted','SVM','NaiveBayes']\n",
    "display(scores)"
   ]
  },
  {
   "cell_type": "markdown",
   "metadata": {},
   "source": [
    "Its seems my classifier does not work nearly as well on other review types as it does on music reviews.  This makes sense, as music is can be a very niche hobby with unique lingo and perspectives on what is positive and negative.  Come to think of it, the car and lawn product review dataset probably fall into the same category. The products being reviewed and language of the reviewers for thses particular categories being to obtuse probably leads to lower cross performance than other sentiment classifier situations might have."
   ]
  },
  {
   "cell_type": "markdown",
   "metadata": {},
   "source": [
    "http://jmcauley.ucsd.edu/data/amazon/"
   ]
  }
 ],
 "metadata": {
  "kernelspec": {
   "display_name": "Python 3",
   "language": "python",
   "name": "python3"
  },
  "language_info": {
   "codemirror_mode": {
    "name": "ipython",
    "version": 3
   },
   "file_extension": ".py",
   "mimetype": "text/x-python",
   "name": "python",
   "nbconvert_exporter": "python",
   "pygments_lexer": "ipython3",
   "version": "3.6.4"
  }
 },
 "nbformat": 4,
 "nbformat_minor": 2
}
